{
  "nbformat": 4,
  "nbformat_minor": 0,
  "metadata": {
    "colab": {
      "provenance": [],
      "collapsed_sections": [
        "M8NAZ5gscZps",
        "Tt2d0pKXDR1c",
        "mnT8h77PFLXu",
        "bHssPqMqF9sv",
        "9Ax2lw6hRDlm",
        "CDf9Gw19GIGO",
        "1QnZ1pfIA_jo"
      ]
    },
    "kernelspec": {
      "name": "python3",
      "display_name": "Python 3"
    },
    "accelerator": "GPU"
  },
  "cells": [
    {
      "cell_type": "markdown",
      "metadata": {
        "id": "ps6VA4r1C_wm"
      },
      "source": [
        "# Розпізнавання об'єктів на зображеннях з набору даних CIFAR-10"
      ]
    },
    {
      "cell_type": "markdown",
      "source": [
        "## prapare data"
      ],
      "metadata": {
        "id": "M8NAZ5gscZps"
      }
    },
    {
      "cell_type": "code",
      "metadata": {
        "id": "T6hmBuIyjRUu"
      },
      "source": [
        "import numpy as np\n",
        "from keras.datasets import cifar10\n",
        "from keras.models import Sequential\n",
        "from keras.layers import Dense, Flatten\n",
        "from keras.layers import Dropout\n",
        "from keras.layers.convolutional import Conv2D, MaxPooling2D\n",
        "from keras.utils import np_utils\n",
        "from keras.preprocessing import image\n",
        "from keras import regularizers\n",
        "from keras.optimizers import Adam\n",
        "from keras.preprocessing.image import ImageDataGenerator\n",
        "from google.colab import files\n",
        "import matplotlib.pyplot as plt\n",
        "%matplotlib inline "
      ],
      "execution_count": 1,
      "outputs": []
    },
    {
      "cell_type": "code",
      "metadata": {
        "id": "PfEKaHglj2VL"
      },
      "source": [
        "# Розмір міні-вибірки\n",
        "batch_size = 128\n",
        "# Кількість класів зображень\n",
        "nb_classes = 10\n",
        "# Кількість епох для навчання\n",
        "nb_epoch = 100\n",
        "# Розмір зображеннь\n",
        "img_rows, img_cols = 32, 32\n",
        "# Кількість каналів в зображенні \n",
        "img_channels = 3\n",
        "# Назви класівз набору даних  CIFAR-10\n",
        "classes=['літак', 'автомобіль', 'птиця', 'кіт', 'олень', 'собака', 'жаба', 'кінь', 'корабель', 'вантажівка']"
      ],
      "execution_count": 2,
      "outputs": []
    },
    {
      "cell_type": "markdown",
      "metadata": {
        "id": "Tt2d0pKXDR1c"
      },
      "source": [
        "## Підготовка даних"
      ]
    },
    {
      "cell_type": "markdown",
      "metadata": {
        "id": "kzQx_ZOZDNYV"
      },
      "source": [
        "**Завантажуємо дані**"
      ]
    },
    {
      "cell_type": "code",
      "metadata": {
        "id": "ARLcknFUj4Oc",
        "colab": {
          "base_uri": "https://localhost:8080/"
        },
        "outputId": "0c047133-0eb8-4a6b-a688-8f2ffa9e54da"
      },
      "source": [
        "(X_train, y_train), (X_test, y_test) = cifar10.load_data()"
      ],
      "execution_count": 3,
      "outputs": [
        {
          "output_type": "stream",
          "name": "stdout",
          "text": [
            "Downloading data from https://www.cs.toronto.edu/~kriz/cifar-10-python.tar.gz\n",
            "170498071/170498071 [==============================] - 14s 0us/step\n"
          ]
        }
      ]
    },
    {
      "cell_type": "markdown",
      "metadata": {
        "id": "1EJSbfDoDrnV"
      },
      "source": [
        "**Перагляд прикладів даних**"
      ]
    },
    {
      "cell_type": "code",
      "metadata": {
        "id": "KCXgj92ckE-J",
        "outputId": "bcaa92b0-d97c-4a96-d723-5d381741df14",
        "colab": {
          "base_uri": "https://localhost:8080/",
          "height": 303
        }
      },
      "source": [
        "n = 1\n",
        "plt.imshow(X_train[n])\n",
        "plt.show()\n",
        "print(\"Номер класу:\", y_train[n])\n",
        "print(\"Тип об'єкту:\", classes[y_train[n][0]])"
      ],
      "execution_count": 4,
      "outputs": [
        {
          "output_type": "display_data",
          "data": {
            "text/plain": [
              "<Figure size 432x288 with 1 Axes>"
            ],
            "image/png": "[encoded data removed]"
          },
          "metadata": {
            "needs_background": "light"
          }
        },
        {
          "output_type": "stream",
          "name": "stdout",
          "text": [
            "Номер класу: [9]\n",
            "Тип об'єкту: вантажівка\n"
          ]
        }
      ]
    },
    {
      "cell_type": "markdown",
      "metadata": {
        "id": "2kyCZJECE5Vu"
      },
      "source": [
        "**Нормалізуємо  дані**"
      ]
    },
    {
      "cell_type": "code",
      "metadata": {
        "id": "C33r-0yNkJUA"
      },
      "source": [
        "X_train = X_train.astype('float32')\n",
        "X_test = X_test.astype('float32')\n",
        "X_train /= 255\n",
        "X_test /= 255"
      ],
      "execution_count": 5,
      "outputs": []
    },
    {
      "cell_type": "markdown",
      "metadata": {
        "id": "qj07Mr7CE9Zt"
      },
      "source": [
        "**Перетворюємо вірні відповіді в формат one hot encoding**"
      ]
    },
    {
      "cell_type": "code",
      "metadata": {
        "id": "VHzeTThQFEs1"
      },
      "source": [
        "Y_train = np_utils.to_categorical(y_train, nb_classes)\n",
        "Y_test = np_utils.to_categorical(y_test, nb_classes)"
      ],
      "execution_count": 6,
      "outputs": []
    },
    {
      "cell_type": "markdown",
      "metadata": {
        "id": "mnT8h77PFLXu"
      },
      "source": [
        "## Створюємо нейронну мережу"
      ]
    },
    {
      "cell_type": "code",
      "metadata": {
        "id": "U0MLXRCqkPGC"
      },
      "source": [
        "# Створюємо послідовну модель\n",
        "model = Sequential()\n",
        "\n",
        "# First Conv layer\n",
        "model.add(Conv2D(filters=128, kernel_size=(3,3), activation='relu', padding='same', kernel_regularizer=regularizers.l2(1e-4), input_shape=(32,32,3)))\n",
        "model.add(MaxPooling2D(pool_size=(2,2)))\n",
        "model.add(Dropout(0.3))\n",
        "\n",
        "# Second Conv layer\n",
        "model.add(Conv2D(filters=256, kernel_size=(3,3), activation='relu', padding='same', kernel_regularizer=regularizers.l2(1e-4)))\n",
        "model.add(MaxPooling2D(pool_size=(2,2)))\n",
        "model.add(Dropout(0.3))\n",
        "\n",
        "# Third, fourth, fifth convolution layer\n",
        "model.add(Conv2D(filters=512, kernel_size=(3,3), activation='relu', padding='same', kernel_regularizer=regularizers.l2(1e-4)))\n",
        "model.add(Conv2D(filters=512, kernel_size=(3,3), activation='relu', padding='same', kernel_regularizer=regularizers.l2(1e-4)))\n",
        "model.add(Conv2D(filters=256, kernel_size=(3,3), activation='relu', padding='same', kernel_regularizer=regularizers.l2(1e-4)))\n",
        "model.add(MaxPooling2D(pool_size=(2,2)))\n",
        "model.add(Dropout(0.3))\n",
        "\n",
        "# Fully Connected layers\n",
        "model.add(Flatten())\n",
        "\n",
        "model.add(Dense(512, activation='relu'))\n",
        "model.add(Dropout(0.5))\n",
        "model.add(Dense(256, activation='relu'))\n",
        "model.add(Dropout(0.5))\n",
        "model.add(Dense(128, activation='relu'))\n",
        "model.add(Dropout(0.5))\n",
        "\n",
        "model.add(Dense(10, activation='softmax'))"
      ],
      "execution_count": 7,
      "outputs": []
    },
    {
      "cell_type": "markdown",
      "metadata": {
        "id": "hBCmSlqqFgvd"
      },
      "source": [
        "**Друкуємо інформацію щодо мережі**"
      ]
    },
    {
      "cell_type": "code",
      "metadata": {
        "id": "QwTq8WR1Frx9",
        "outputId": "2e853fda-2cad-4296-a564-48d204bfe8c5",
        "colab": {
          "base_uri": "https://localhost:8080/"
        }
      },
      "source": [
        "print(model.summary())"
      ],
      "execution_count": 8,
      "outputs": [
        {
          "output_type": "stream",
          "name": "stdout",
          "text": [
            "Model: \"sequential\"\n",
            "_________________________________________________________________\n",
            " Layer (type)                Output Shape              Param #   \n",
            "=================================================================\n",
            " conv2d (Conv2D)             (None, 32, 32, 128)       3584      \n",
            "                                                                 \n",
            " max_pooling2d (MaxPooling2D  (None, 16, 16, 128)      0         \n",
            " )                                                               \n",
            "                                                                 \n",
            " dropout (Dropout)           (None, 16, 16, 128)       0         \n",
            "                                                                 \n",
            " conv2d_1 (Conv2D)           (None, 16, 16, 256)       295168    \n",
            "                                                                 \n",
            " max_pooling2d_1 (MaxPooling  (None, 8, 8, 256)        0         \n",
            " 2D)                                                             \n",
            "                                                                 \n",
            " dropout_1 (Dropout)         (None, 8, 8, 256)         0         \n",
            "                                                                 \n",
            " conv2d_2 (Conv2D)           (None, 8, 8, 512)         1180160   \n",
            "                                                                 \n",
            " conv2d_3 (Conv2D)           (None, 8, 8, 512)         2359808   \n",
            "                                                                 \n",
            " conv2d_4 (Conv2D)           (None, 8, 8, 256)         1179904   \n",
            "                                                                 \n",
            " max_pooling2d_2 (MaxPooling  (None, 4, 4, 256)        0         \n",
            " 2D)                                                             \n",
            "                                                                 \n",
            " dropout_2 (Dropout)         (None, 4, 4, 256)         0         \n",
            "                                                                 \n",
            " flatten (Flatten)           (None, 4096)              0         \n",
            "                                                                 \n",
            " dense (Dense)               (None, 512)               2097664   \n",
            "                                                                 \n",
            " dropout_3 (Dropout)         (None, 512)               0         \n",
            "                                                                 \n",
            " dense_1 (Dense)             (None, 256)               131328    \n",
            "                                                                 \n",
            " dropout_4 (Dropout)         (None, 256)               0         \n",
            "                                                                 \n",
            " dense_2 (Dense)             (None, 128)               32896     \n",
            "                                                                 \n",
            " dropout_5 (Dropout)         (None, 128)               0         \n",
            "                                                                 \n",
            " dense_3 (Dense)             (None, 10)                1290      \n",
            "                                                                 \n",
            "=================================================================\n",
            "Total params: 7,281,802\n",
            "Trainable params: 7,281,802\n",
            "Non-trainable params: 0\n",
            "_________________________________________________________________\n",
            "None\n"
          ]
        }
      ]
    },
    {
      "cell_type": "markdown",
      "metadata": {
        "id": "iZ8E1aF0FS1s"
      },
      "source": [
        "**Компілюємо модель**"
      ]
    },
    {
      "cell_type": "code",
      "metadata": {
        "id": "VyVlJMdGkrv-",
        "colab": {
          "base_uri": "https://localhost:8080/"
        },
        "outputId": "f4a135f9-9872-4a9a-b74b-a82cea70f650"
      },
      "source": [
        "model.compile(loss='categorical_crossentropy',\n",
        "              optimizer=Adam(lr=0.0003, decay=1e-6),\n",
        "              metrics=['accuracy'])"
      ],
      "execution_count": 9,
      "outputs": [
        {
          "output_type": "stream",
          "name": "stderr",
          "text": [
            "/usr/local/lib/python3.7/dist-packages/keras/optimizers/optimizer_v2/adam.py:110: UserWarning: The `lr` argument is deprecated, use `learning_rate` instead.\n",
            "  super(Adam, self).__init__(name, **kwargs)\n"
          ]
        }
      ]
    },
    {
      "cell_type": "markdown",
      "metadata": {
        "id": "Aq23si1YFYhF"
      },
      "source": [
        "## Навчаємо нейрону мережу"
      ]
    },
    {
      "cell_type": "code",
      "metadata": {
        "id": "kyH5Ec9RkznF",
        "outputId": "bd8fae58-c8b0-40d9-ebea-a9ebf25801c6",
        "colab": {
          "base_uri": "https://localhost:8080/"
        }
      },
      "source": [
        "history = model.fit(X_train, Y_train,\n",
        "              batch_size=batch_size,\n",
        "              epochs=nb_epoch,\n",
        "              validation_split=0.1,\n",
        "              shuffle=True,\n",
        "              verbose=2)"
      ],
      "execution_count": null,
      "outputs": [
        {
          "output_type": "stream",
          "name": "stdout",
          "text": [
            "Epoch 1/100\n",
            "352/352 - 16s - loss: 2.2051 - accuracy: 0.1838 - val_loss: 1.8512 - val_accuracy: 0.3134 - 16s/epoch - 45ms/step\n",
            "Epoch 2/100\n",
            "352/352 - 15s - loss: 1.7492 - accuracy: 0.3510 - val_loss: 1.4490 - val_accuracy: 0.4880 - 15s/epoch - 41ms/step\n",
            "Epoch 3/100\n",
            "352/352 - 15s - loss: 1.4695 - accuracy: 0.4811 - val_loss: 1.1871 - val_accuracy: 0.5868 - 15s/epoch - 42ms/step\n",
            "Epoch 4/100\n",
            "352/352 - 15s - loss: 1.2716 - accuracy: 0.5628 - val_loss: 1.0504 - val_accuracy: 0.6356 - 15s/epoch - 42ms/step\n",
            "Epoch 5/100\n",
            "352/352 - 15s - loss: 1.1442 - accuracy: 0.6178 - val_loss: 0.9255 - val_accuracy: 0.6890 - 15s/epoch - 42ms/step\n",
            "Epoch 6/100\n",
            "352/352 - 15s - loss: 1.0486 - accuracy: 0.6561 - val_loss: 0.9398 - val_accuracy: 0.6882 - 15s/epoch - 42ms/step\n",
            "Epoch 7/100\n",
            "352/352 - 15s - loss: 0.9630 - accuracy: 0.6885 - val_loss: 0.8158 - val_accuracy: 0.7296 - 15s/epoch - 42ms/step\n",
            "Epoch 8/100\n",
            "352/352 - 15s - loss: 0.9064 - accuracy: 0.7107 - val_loss: 0.8101 - val_accuracy: 0.7440 - 15s/epoch - 42ms/step\n",
            "Epoch 9/100\n",
            "352/352 - 15s - loss: 0.8441 - accuracy: 0.7334 - val_loss: 0.7559 - val_accuracy: 0.7610 - 15s/epoch - 42ms/step\n",
            "Epoch 10/100\n",
            "352/352 - 15s - loss: 0.8044 - accuracy: 0.7505 - val_loss: 0.7507 - val_accuracy: 0.7606 - 15s/epoch - 42ms/step\n",
            "Epoch 11/100\n",
            "352/352 - 15s - loss: 0.7659 - accuracy: 0.7664 - val_loss: 0.7406 - val_accuracy: 0.7750 - 15s/epoch - 42ms/step\n",
            "Epoch 12/100\n",
            "352/352 - 15s - loss: 0.7216 - accuracy: 0.7822 - val_loss: 0.7182 - val_accuracy: 0.7836 - 15s/epoch - 42ms/step\n",
            "Epoch 13/100\n",
            "352/352 - 15s - loss: 0.6908 - accuracy: 0.7958 - val_loss: 0.7016 - val_accuracy: 0.7950 - 15s/epoch - 42ms/step\n",
            "Epoch 14/100\n",
            "352/352 - 15s - loss: 0.6557 - accuracy: 0.8105 - val_loss: 0.7060 - val_accuracy: 0.7964 - 15s/epoch - 42ms/step\n",
            "Epoch 15/100\n",
            "352/352 - 15s - loss: 0.6220 - accuracy: 0.8249 - val_loss: 0.7200 - val_accuracy: 0.7936 - 15s/epoch - 42ms/step\n",
            "Epoch 16/100\n",
            "352/352 - 15s - loss: 0.5942 - accuracy: 0.8336 - val_loss: 0.7085 - val_accuracy: 0.8008 - 15s/epoch - 42ms/step\n",
            "Epoch 17/100\n",
            "352/352 - 15s - loss: 0.5730 - accuracy: 0.8425 - val_loss: 0.6862 - val_accuracy: 0.8040 - 15s/epoch - 42ms/step\n",
            "Epoch 18/100\n",
            "352/352 - 15s - loss: 0.5442 - accuracy: 0.8538 - val_loss: 0.6850 - val_accuracy: 0.8156 - 15s/epoch - 42ms/step\n",
            "Epoch 19/100\n",
            "352/352 - 15s - loss: 0.5271 - accuracy: 0.8595 - val_loss: 0.6673 - val_accuracy: 0.8194 - 15s/epoch - 42ms/step\n",
            "Epoch 20/100\n",
            "352/352 - 15s - loss: 0.5025 - accuracy: 0.8690 - val_loss: 0.7103 - val_accuracy: 0.8156 - 15s/epoch - 42ms/step\n",
            "Epoch 21/100\n",
            "352/352 - 15s - loss: 0.4821 - accuracy: 0.8767 - val_loss: 0.7278 - val_accuracy: 0.8088 - 15s/epoch - 42ms/step\n",
            "Epoch 22/100\n",
            "352/352 - 15s - loss: 0.4635 - accuracy: 0.8833 - val_loss: 0.7187 - val_accuracy: 0.8244 - 15s/epoch - 42ms/step\n",
            "Epoch 23/100\n",
            "352/352 - 15s - loss: 0.4438 - accuracy: 0.8910 - val_loss: 0.7282 - val_accuracy: 0.8240 - 15s/epoch - 42ms/step\n",
            "Epoch 24/100\n",
            "352/352 - 15s - loss: 0.4275 - accuracy: 0.8976 - val_loss: 0.8029 - val_accuracy: 0.8152 - 15s/epoch - 42ms/step\n",
            "Epoch 25/100\n",
            "352/352 - 15s - loss: 0.4179 - accuracy: 0.9014 - val_loss: 0.6964 - val_accuracy: 0.8340 - 15s/epoch - 42ms/step\n",
            "Epoch 26/100\n",
            "352/352 - 15s - loss: 0.4086 - accuracy: 0.9058 - val_loss: 0.7730 - val_accuracy: 0.8152 - 15s/epoch - 42ms/step\n",
            "Epoch 27/100\n",
            "352/352 - 15s - loss: 0.3971 - accuracy: 0.9122 - val_loss: 0.7439 - val_accuracy: 0.8214 - 15s/epoch - 42ms/step\n",
            "Epoch 28/100\n",
            "352/352 - 15s - loss: 0.3849 - accuracy: 0.9175 - val_loss: 0.7509 - val_accuracy: 0.8264 - 15s/epoch - 42ms/step\n",
            "Epoch 29/100\n",
            "352/352 - 15s - loss: 0.3729 - accuracy: 0.9211 - val_loss: 0.7613 - val_accuracy: 0.8222 - 15s/epoch - 42ms/step\n",
            "Epoch 30/100\n",
            "352/352 - 15s - loss: 0.3565 - accuracy: 0.9278 - val_loss: 0.7961 - val_accuracy: 0.8224 - 15s/epoch - 42ms/step\n",
            "Epoch 31/100\n",
            "352/352 - 15s - loss: 0.3584 - accuracy: 0.9268 - val_loss: 0.7674 - val_accuracy: 0.8220 - 15s/epoch - 42ms/step\n",
            "Epoch 32/100\n",
            "352/352 - 15s - loss: 0.3496 - accuracy: 0.9313 - val_loss: 0.7947 - val_accuracy: 0.8248 - 15s/epoch - 42ms/step\n",
            "Epoch 33/100\n",
            "352/352 - 15s - loss: 0.3411 - accuracy: 0.9351 - val_loss: 0.7811 - val_accuracy: 0.8268 - 15s/epoch - 42ms/step\n",
            "Epoch 34/100\n",
            "352/352 - 15s - loss: 0.3228 - accuracy: 0.9417 - val_loss: 0.8102 - val_accuracy: 0.8242 - 15s/epoch - 42ms/step\n",
            "Epoch 35/100\n",
            "352/352 - 15s - loss: 0.3259 - accuracy: 0.9407 - val_loss: 0.8593 - val_accuracy: 0.8204 - 15s/epoch - 42ms/step\n",
            "Epoch 36/100\n",
            "352/352 - 15s - loss: 0.3169 - accuracy: 0.9441 - val_loss: 0.8822 - val_accuracy: 0.8222 - 15s/epoch - 42ms/step\n",
            "Epoch 37/100\n",
            "352/352 - 15s - loss: 0.3159 - accuracy: 0.9459 - val_loss: 0.8591 - val_accuracy: 0.8130 - 15s/epoch - 42ms/step\n",
            "Epoch 38/100\n",
            "352/352 - 15s - loss: 0.3083 - accuracy: 0.9481 - val_loss: 0.8713 - val_accuracy: 0.8236 - 15s/epoch - 42ms/step\n",
            "Epoch 39/100\n",
            "352/352 - 15s - loss: 0.3005 - accuracy: 0.9514 - val_loss: 0.9094 - val_accuracy: 0.8272 - 15s/epoch - 42ms/step\n",
            "Epoch 40/100\n",
            "352/352 - 15s - loss: 0.3058 - accuracy: 0.9513 - val_loss: 0.8525 - val_accuracy: 0.8246 - 15s/epoch - 42ms/step\n",
            "Epoch 41/100\n",
            "352/352 - 15s - loss: 0.3007 - accuracy: 0.9534 - val_loss: 0.9052 - val_accuracy: 0.8204 - 15s/epoch - 42ms/step\n",
            "Epoch 42/100\n",
            "352/352 - 15s - loss: 0.2917 - accuracy: 0.9545 - val_loss: 0.8804 - val_accuracy: 0.8288 - 15s/epoch - 42ms/step\n",
            "Epoch 43/100\n",
            "352/352 - 15s - loss: 0.2915 - accuracy: 0.9576 - val_loss: 0.8784 - val_accuracy: 0.8232 - 15s/epoch - 42ms/step\n",
            "Epoch 44/100\n",
            "352/352 - 15s - loss: 0.2880 - accuracy: 0.9586 - val_loss: 0.9460 - val_accuracy: 0.8216 - 15s/epoch - 42ms/step\n",
            "Epoch 45/100\n",
            "352/352 - 15s - loss: 0.2865 - accuracy: 0.9607 - val_loss: 0.8986 - val_accuracy: 0.8262 - 15s/epoch - 42ms/step\n",
            "Epoch 46/100\n",
            "352/352 - 15s - loss: 0.2792 - accuracy: 0.9633 - val_loss: 0.9014 - val_accuracy: 0.8286 - 15s/epoch - 42ms/step\n",
            "Epoch 47/100\n",
            "352/352 - 15s - loss: 0.2858 - accuracy: 0.9613 - val_loss: 0.8686 - val_accuracy: 0.8304 - 15s/epoch - 42ms/step\n",
            "Epoch 48/100\n",
            "352/352 - 15s - loss: 0.2800 - accuracy: 0.9636 - val_loss: 0.9199 - val_accuracy: 0.8228 - 15s/epoch - 42ms/step\n",
            "Epoch 49/100\n",
            "352/352 - 15s - loss: 0.2838 - accuracy: 0.9626 - val_loss: 0.9784 - val_accuracy: 0.8212 - 15s/epoch - 42ms/step\n",
            "Epoch 50/100\n",
            "352/352 - 15s - loss: 0.2775 - accuracy: 0.9650 - val_loss: 0.9014 - val_accuracy: 0.8286 - 15s/epoch - 42ms/step\n",
            "Epoch 51/100\n",
            "352/352 - 15s - loss: 0.2767 - accuracy: 0.9639 - val_loss: 0.9664 - val_accuracy: 0.8202 - 15s/epoch - 42ms/step\n",
            "Epoch 52/100\n",
            "352/352 - 15s - loss: 0.2779 - accuracy: 0.9651 - val_loss: 0.9637 - val_accuracy: 0.8302 - 15s/epoch - 42ms/step\n",
            "Epoch 53/100\n",
            "352/352 - 15s - loss: 0.2743 - accuracy: 0.9663 - val_loss: 0.9308 - val_accuracy: 0.8278 - 15s/epoch - 42ms/step\n",
            "Epoch 54/100\n",
            "352/352 - 15s - loss: 0.2745 - accuracy: 0.9659 - val_loss: 0.9735 - val_accuracy: 0.8246 - 15s/epoch - 42ms/step\n",
            "Epoch 55/100\n",
            "352/352 - 15s - loss: 0.2791 - accuracy: 0.9661 - val_loss: 0.9516 - val_accuracy: 0.8208 - 15s/epoch - 42ms/step\n",
            "Epoch 56/100\n",
            "352/352 - 15s - loss: 0.2700 - accuracy: 0.9701 - val_loss: 0.9484 - val_accuracy: 0.8304 - 15s/epoch - 42ms/step\n",
            "Epoch 57/100\n",
            "352/352 - 15s - loss: 0.2753 - accuracy: 0.9688 - val_loss: 0.9583 - val_accuracy: 0.8312 - 15s/epoch - 42ms/step\n",
            "Epoch 58/100\n",
            "352/352 - 15s - loss: 0.2750 - accuracy: 0.9683 - val_loss: 0.9396 - val_accuracy: 0.8244 - 15s/epoch - 42ms/step\n",
            "Epoch 59/100\n",
            "352/352 - 15s - loss: 0.2717 - accuracy: 0.9694 - val_loss: 0.9301 - val_accuracy: 0.8286 - 15s/epoch - 42ms/step\n",
            "Epoch 60/100\n",
            "352/352 - 15s - loss: 0.2681 - accuracy: 0.9706 - val_loss: 0.9859 - val_accuracy: 0.8294 - 15s/epoch - 42ms/step\n",
            "Epoch 61/100\n",
            "352/352 - 15s - loss: 0.2716 - accuracy: 0.9695 - val_loss: 0.9647 - val_accuracy: 0.8290 - 15s/epoch - 42ms/step\n",
            "Epoch 62/100\n",
            "352/352 - 15s - loss: 0.2710 - accuracy: 0.9705 - val_loss: 0.9393 - val_accuracy: 0.8290 - 15s/epoch - 42ms/step\n",
            "Epoch 63/100\n",
            "352/352 - 15s - loss: 0.2736 - accuracy: 0.9703 - val_loss: 0.9721 - val_accuracy: 0.8250 - 15s/epoch - 42ms/step\n",
            "Epoch 64/100\n",
            "352/352 - 15s - loss: 0.2704 - accuracy: 0.9711 - val_loss: 1.0305 - val_accuracy: 0.8186 - 15s/epoch - 42ms/step\n",
            "Epoch 65/100\n",
            "352/352 - 15s - loss: 0.2715 - accuracy: 0.9712 - val_loss: 1.0586 - val_accuracy: 0.8190 - 15s/epoch - 42ms/step\n",
            "Epoch 66/100\n",
            "352/352 - 15s - loss: 0.2718 - accuracy: 0.9721 - val_loss: 0.9777 - val_accuracy: 0.8252 - 15s/epoch - 42ms/step\n",
            "Epoch 67/100\n",
            "352/352 - 15s - loss: 0.2637 - accuracy: 0.9745 - val_loss: 1.0443 - val_accuracy: 0.8230 - 15s/epoch - 42ms/step\n",
            "Epoch 68/100\n",
            "352/352 - 15s - loss: 0.2690 - accuracy: 0.9726 - val_loss: 1.0082 - val_accuracy: 0.8246 - 15s/epoch - 42ms/step\n",
            "Epoch 69/100\n",
            "352/352 - 15s - loss: 0.2735 - accuracy: 0.9726 - val_loss: 0.9981 - val_accuracy: 0.8302 - 15s/epoch - 42ms/step\n",
            "Epoch 70/100\n",
            "352/352 - 15s - loss: 0.2744 - accuracy: 0.9717 - val_loss: 0.9256 - val_accuracy: 0.8356 - 15s/epoch - 42ms/step\n",
            "Epoch 71/100\n",
            "352/352 - 15s - loss: 0.2659 - accuracy: 0.9742 - val_loss: 1.0089 - val_accuracy: 0.8356 - 15s/epoch - 42ms/step\n",
            "Epoch 72/100\n",
            "352/352 - 15s - loss: 0.2722 - accuracy: 0.9726 - val_loss: 0.9816 - val_accuracy: 0.8284 - 15s/epoch - 42ms/step\n",
            "Epoch 73/100\n",
            "352/352 - 15s - loss: 0.2643 - accuracy: 0.9752 - val_loss: 1.0445 - val_accuracy: 0.8260 - 15s/epoch - 42ms/step\n",
            "Epoch 74/100\n",
            "352/352 - 15s - loss: 0.2669 - accuracy: 0.9743 - val_loss: 1.0090 - val_accuracy: 0.8296 - 15s/epoch - 42ms/step\n",
            "Epoch 75/100\n",
            "352/352 - 15s - loss: 0.2643 - accuracy: 0.9750 - val_loss: 1.0793 - val_accuracy: 0.8230 - 15s/epoch - 42ms/step\n",
            "Epoch 76/100\n",
            "352/352 - 15s - loss: 0.2685 - accuracy: 0.9744 - val_loss: 0.9870 - val_accuracy: 0.8344 - 15s/epoch - 42ms/step\n",
            "Epoch 77/100\n",
            "352/352 - 15s - loss: 0.2706 - accuracy: 0.9733 - val_loss: 1.0466 - val_accuracy: 0.8320 - 15s/epoch - 42ms/step\n",
            "Epoch 78/100\n",
            "352/352 - 15s - loss: 0.2655 - accuracy: 0.9756 - val_loss: 1.0239 - val_accuracy: 0.8276 - 15s/epoch - 42ms/step\n",
            "Epoch 79/100\n",
            "352/352 - 15s - loss: 0.2656 - accuracy: 0.9758 - val_loss: 1.0480 - val_accuracy: 0.8270 - 15s/epoch - 42ms/step\n",
            "Epoch 80/100\n",
            "352/352 - 15s - loss: 0.2755 - accuracy: 0.9737 - val_loss: 1.0068 - val_accuracy: 0.8272 - 15s/epoch - 42ms/step\n",
            "Epoch 81/100\n",
            "352/352 - 15s - loss: 0.2718 - accuracy: 0.9739 - val_loss: 1.0336 - val_accuracy: 0.8288 - 15s/epoch - 42ms/step\n",
            "Epoch 82/100\n",
            "352/352 - 15s - loss: 0.2592 - accuracy: 0.9777 - val_loss: 1.0826 - val_accuracy: 0.8282 - 15s/epoch - 42ms/step\n",
            "Epoch 83/100\n",
            "352/352 - 15s - loss: 0.2724 - accuracy: 0.9749 - val_loss: 1.0161 - val_accuracy: 0.8304 - 15s/epoch - 42ms/step\n",
            "Epoch 84/100\n",
            "352/352 - 15s - loss: 0.2644 - accuracy: 0.9772 - val_loss: 1.0032 - val_accuracy: 0.8338 - 15s/epoch - 42ms/step\n",
            "Epoch 85/100\n",
            "352/352 - 15s - loss: 0.2664 - accuracy: 0.9766 - val_loss: 1.0026 - val_accuracy: 0.8332 - 15s/epoch - 42ms/step\n",
            "Epoch 86/100\n",
            "352/352 - 15s - loss: 0.2675 - accuracy: 0.9765 - val_loss: 1.0422 - val_accuracy: 0.8276 - 15s/epoch - 42ms/step\n",
            "Epoch 87/100\n",
            "352/352 - 15s - loss: 0.2583 - accuracy: 0.9786 - val_loss: 1.0283 - val_accuracy: 0.8312 - 15s/epoch - 42ms/step\n",
            "Epoch 88/100\n",
            "352/352 - 15s - loss: 0.2686 - accuracy: 0.9767 - val_loss: 1.0704 - val_accuracy: 0.8236 - 15s/epoch - 42ms/step\n",
            "Epoch 89/100\n",
            "352/352 - 15s - loss: 0.2687 - accuracy: 0.9763 - val_loss: 1.0764 - val_accuracy: 0.8244 - 15s/epoch - 42ms/step\n",
            "Epoch 90/100\n",
            "352/352 - 15s - loss: 0.2595 - accuracy: 0.9792 - val_loss: 1.0727 - val_accuracy: 0.8340 - 15s/epoch - 42ms/step\n",
            "Epoch 91/100\n",
            "352/352 - 15s - loss: 0.2663 - accuracy: 0.9766 - val_loss: 1.0738 - val_accuracy: 0.8312 - 15s/epoch - 42ms/step\n",
            "Epoch 92/100\n",
            "352/352 - 15s - loss: 0.2666 - accuracy: 0.9772 - val_loss: 1.1032 - val_accuracy: 0.8260 - 15s/epoch - 42ms/step\n",
            "Epoch 93/100\n",
            "352/352 - 15s - loss: 0.2685 - accuracy: 0.9768 - val_loss: 1.0704 - val_accuracy: 0.8272 - 15s/epoch - 42ms/step\n",
            "Epoch 94/100\n",
            "352/352 - 15s - loss: 0.2705 - accuracy: 0.9761 - val_loss: 1.0458 - val_accuracy: 0.8274 - 15s/epoch - 42ms/step\n",
            "Epoch 95/100\n",
            "352/352 - 15s - loss: 0.2636 - accuracy: 0.9782 - val_loss: 1.0492 - val_accuracy: 0.8292 - 15s/epoch - 42ms/step\n",
            "Epoch 96/100\n",
            "352/352 - 15s - loss: 0.2613 - accuracy: 0.9786 - val_loss: 1.0921 - val_accuracy: 0.8260 - 15s/epoch - 42ms/step\n",
            "Epoch 97/100\n",
            "352/352 - 15s - loss: 0.2630 - accuracy: 0.9782 - val_loss: 1.0900 - val_accuracy: 0.8244 - 15s/epoch - 42ms/step\n",
            "Epoch 98/100\n",
            "352/352 - 15s - loss: 0.2655 - accuracy: 0.9780 - val_loss: 1.0741 - val_accuracy: 0.8280 - 15s/epoch - 42ms/step\n",
            "Epoch 99/100\n",
            "352/352 - 15s - loss: 0.2697 - accuracy: 0.9771 - val_loss: 1.0114 - val_accuracy: 0.8344 - 15s/epoch - 42ms/step\n",
            "Epoch 100/100\n",
            "352/352 - 15s - loss: 0.2687 - accuracy: 0.9784 - val_loss: 1.0327 - val_accuracy: 0.8284 - 15s/epoch - 42ms/step\n"
          ]
        }
      ]
    },
    {
      "cell_type": "markdown",
      "metadata": {
        "id": "bHssPqMqF9sv"
      },
      "source": [
        "## Оцінюємо якість  навчання мережі"
      ]
    },
    {
      "cell_type": "code",
      "metadata": {
        "id": "5y4AHwlNou5y",
        "outputId": "f6ca09e5-21fc-4171-c4ad-7338c742f0df",
        "colab": {
          "base_uri": "https://localhost:8080/"
        }
      },
      "source": [
        "# Оцінюємо якість навчання моделі на тестових даних \n",
        "scores = model.evaluate(X_test, Y_test, verbose=0)\n",
        "print(\"Точність роботи на тестових даних: %.2f%%\" % (scores[1]*100))"
      ],
      "execution_count": null,
      "outputs": [
        {
          "output_type": "stream",
          "name": "stdout",
          "text": [
            "Точність роботи на тестових даних: 82.26%\n"
          ]
        }
      ]
    },
    {
      "cell_type": "code",
      "metadata": {
        "id": "Z_xxp2UrNJvz",
        "outputId": "9149975f-cab8-4572-b418-083706ccb9ae",
        "colab": {
          "base_uri": "https://localhost:8080/",
          "height": 279
        }
      },
      "source": [
        "history_dict = history.history\n",
        "acc_values = history_dict['accuracy']\n",
        "val_acc_values = history_dict['val_accuracy']\n",
        "epochs = range(1, len(acc_values) + 1)\n",
        "plt.plot(epochs, acc_values, 'bo', label='Training acc')\n",
        "plt.plot(epochs, val_acc_values, 'b', label='Validation acc')\n",
        "plt.xlabel('Epochs')\n",
        "plt.ylabel('Accuracy')\n",
        "plt.legend()\n",
        "plt.show()"
      ],
      "execution_count": null,
      "outputs": [
        {
          "output_type": "display_data",
          "data": {
            "text/plain": [
              "<Figure size 432x288 with 1 Axes>"
            ],
            "image/png": "[encoded data removed]"
          },
          "metadata": {
            "needs_background": "light"
          }
        }
      ]
    },
    {
      "cell_type": "markdown",
      "metadata": {
        "id": "9Ax2lw6hRDlm"
      },
      "source": [
        "## Зберігаємо навчену нейрону мережу"
      ]
    },
    {
      "cell_type": "code",
      "metadata": {
        "id": "uQhkelwPQ_PE"
      },
      "source": [
        "model_json = model.to_json()\n",
        "json_file = open(\"cifar10_model.json\", \"w\")\n",
        "json_file.write(model_json)\n",
        "json_file.close()\n",
        "model.save_weights(\"cifar10_model1.h5\")"
      ],
      "execution_count": null,
      "outputs": []
    },
    {
      "cell_type": "code",
      "metadata": {
        "id": "bn4CEGiURBz7",
        "colab": {
          "base_uri": "https://localhost:8080/"
        },
        "outputId": "cf1c5393-3fcb-4ec2-daf8-d25b357bf8c8"
      },
      "source": [
        "!ls"
      ],
      "execution_count": null,
      "outputs": [
        {
          "output_type": "stream",
          "name": "stdout",
          "text": [
            "cifar10_model1.h5  cifar10_model.json  sample_data\n"
          ]
        }
      ]
    },
    {
      "cell_type": "code",
      "metadata": {
        "id": "rV8R1WhKVpZK"
      },
      "source": [
        "from google.colab import files"
      ],
      "execution_count": null,
      "outputs": []
    },
    {
      "cell_type": "code",
      "metadata": {
        "id": "udkAZlWbVi7C",
        "colab": {
          "base_uri": "https://localhost:8080/",
          "height": 17
        },
        "outputId": "96e5f09b-3804-4506-85de-30349b54d524"
      },
      "source": [
        "files.download(\"cifar10_model.json\")"
      ],
      "execution_count": null,
      "outputs": [
        {
          "output_type": "display_data",
          "data": {
            "text/plain": [
              "<IPython.core.display.Javascript object>"
            ],
            "application/javascript": [
              "\n",
              "    async function download(id, filename, size) {\n",
              "      if (!google.colab.kernel.accessAllowed) {\n",
              "        return;\n",
              "      }\n",
              "      const div = document.createElement('div');\n",
              "      const label = document.createElement('label');\n",
              "      label.textContent = `Downloading \"${filename}\": `;\n",
              "      div.appendChild(label);\n",
              "      const progress = document.createElement('progress');\n",
              "      progress.max = size;\n",
              "      div.appendChild(progress);\n",
              "      document.body.appendChild(div);\n",
              "\n",
              "      const buffers = [];\n",
              "      let downloaded = 0;\n",
              "\n",
              "      const channel = await google.colab.kernel.comms.open(id);\n",
              "      // Send a message to notify the kernel that we're ready.\n",
              "      channel.send({})\n",
              "\n",
              "      for await (const message of channel.messages) {\n",
              "        // Send a message to notify the kernel that we're ready.\n",
              "        channel.send({})\n",
              "        if (message.buffers) {\n",
              "          for (const buffer of message.buffers) {\n",
              "            buffers.push(buffer);\n",
              "            downloaded += buffer.byteLength;\n",
              "            progress.value = downloaded;\n",
              "          }\n",
              "        }\n",
              "      }\n",
              "      const blob = new Blob(buffers, {type: 'application/binary'});\n",
              "      const a = document.createElement('a');\n",
              "      a.href = window.URL.createObjectURL(blob);\n",
              "      a.download = filename;\n",
              "      div.appendChild(a);\n",
              "      a.click();\n",
              "      div.remove();\n",
              "    }\n",
              "  "
            ]
          },
          "metadata": {}
        },
        {
          "output_type": "display_data",
          "data": {
            "text/plain": [
              "<IPython.core.display.Javascript object>"
            ],
            "application/javascript": [
              "download(\"download_fb7a8d19-5461-428b-afbf-740e809b7afd\", \"cifar10_model.json\", 6754)"
            ]
          },
          "metadata": {}
        }
      ]
    },
    {
      "cell_type": "code",
      "metadata": {
        "id": "Q1oY_XT2VvKp",
        "colab": {
          "base_uri": "https://localhost:8080/",
          "height": 34
        },
        "outputId": "63c9a750-c9ff-4bf7-91ef-7928bab50300"
      },
      "source": [
        "files.download(\"cifar10_model1.h5\")"
      ],
      "execution_count": null,
      "outputs": [
        {
          "output_type": "display_data",
          "data": {
            "text/plain": [
              "<IPython.core.display.Javascript object>"
            ],
            "application/javascript": [
              "\n",
              "    async function download(id, filename, size) {\n",
              "      if (!google.colab.kernel.accessAllowed) {\n",
              "        return;\n",
              "      }\n",
              "      const div = document.createElement('div');\n",
              "      const label = document.createElement('label');\n",
              "      label.textContent = `Downloading \"${filename}\": `;\n",
              "      div.appendChild(label);\n",
              "      const progress = document.createElement('progress');\n",
              "      progress.max = size;\n",
              "      div.appendChild(progress);\n",
              "      document.body.appendChild(div);\n",
              "\n",
              "      const buffers = [];\n",
              "      let downloaded = 0;\n",
              "\n",
              "      const channel = await google.colab.kernel.comms.open(id);\n",
              "      // Send a message to notify the kernel that we're ready.\n",
              "      channel.send({})\n",
              "\n",
              "      for await (const message of channel.messages) {\n",
              "        // Send a message to notify the kernel that we're ready.\n",
              "        channel.send({})\n",
              "        if (message.buffers) {\n",
              "          for (const buffer of message.buffers) {\n",
              "            buffers.push(buffer);\n",
              "            downloaded += buffer.byteLength;\n",
              "            progress.value = downloaded;\n",
              "          }\n",
              "        }\n",
              "      }\n",
              "      const blob = new Blob(buffers, {type: 'application/binary'});\n",
              "      const a = document.createElement('a');\n",
              "      a.href = window.URL.createObjectURL(blob);\n",
              "      a.download = filename;\n",
              "      div.appendChild(a);\n",
              "      a.click();\n",
              "      div.remove();\n",
              "    }\n",
              "  "
            ]
          },
          "metadata": {}
        },
        {
          "output_type": "display_data",
          "data": {
            "text/plain": [
              "<IPython.core.display.Javascript object>"
            ],
            "application/javascript": [
              "download(\"download_f0ce1213-6c48-463e-abae-e658f74a589a\", \"cifar10_model1.h5\", 29171040)"
            ]
          },
          "metadata": {}
        }
      ]
    },
    {
      "cell_type": "markdown",
      "metadata": {
        "id": "F1XfppbKIh8r"
      },
      "source": [
        "## Завантажуємо попередньо навчену нейронну мережу \n"
      ]
    },
    {
      "cell_type": "markdown",
      "metadata": {
        "id": "G2AmnOuzH_Mz"
      },
      "source": [
        "Завантажуємо файл з навченою моделлю "
      ]
    },
    {
      "cell_type": "code",
      "metadata": {
        "id": "9dhKYP8sHnil",
        "outputId": "71c39374-3874-48ed-f63b-2064dbb5d5ab",
        "colab": {
          "base_uri": "https://localhost:8080/",
          "height": 55
        }
      },
      "source": [
        "#!wget https://github.com/Kolyanuss/Lab_Univer/blob/master/Lab_4k_1sem/Recognise/lab4/cifar10_model1.h5\n",
        "f = files.upload()\n"
      ],
      "execution_count": null,
      "outputs": [
        {
          "output_type": "display_data",
          "data": {
            "text/plain": [
              "<IPython.core.display.HTML object>"
            ],
            "text/html": [
              "\n",
              "     <input type=\"file\" id=\"files-0cc93af6-4fed-4508-8cde-e91aa7011013\" name=\"files[]\" multiple disabled\n",
              "        style=\"border:none\" />\n",
              "     <output id=\"result-0cc93af6-4fed-4508-8cde-e91aa7011013\">\n",
              "      Upload widget is only available when the cell has been executed in the\n",
              "      current browser session. Please rerun this cell to enable.\n",
              "      </output>\n",
              "      <script>// Copyright 2017 Google LLC\n",
              "//\n",
              "// Licensed under the Apache License, Version 2.0 (the \"License\");\n",
              "// you may not use this file except in compliance with the License.\n",
              "// You may obtain a copy of the License at\n",
              "//\n",
              "//      http://www.apache.org/licenses/LICENSE-2.0\n",
              "//\n",
              "// Unless required by applicable law or agreed to in writing, software\n",
              "// distributed under the License is distributed on an \"AS IS\" BASIS,\n",
              "// WITHOUT WARRANTIES OR CONDITIONS OF ANY KIND, either express or implied.\n",
              "// See the License for the specific language governing permissions and\n",
              "// limitations under the License.\n",
              "\n",
              "/**\n",
              " * @fileoverview Helpers for google.colab Python module.\n",
              " */\n",
              "(function(scope) {\n",
              "function span(text, styleAttributes = {}) {\n",
              "  const element = document.createElement('span');\n",
              "  element.textContent = text;\n",
              "  for (const key of Object.keys(styleAttributes)) {\n",
              "    element.style[key] = styleAttributes[key];\n",
              "  }\n",
              "  return element;\n",
              "}\n",
              "\n",
              "// Max number of bytes which will be uploaded at a time.\n",
              "const MAX_PAYLOAD_SIZE = 100 * 1024;\n",
              "\n",
              "function _uploadFiles(inputId, outputId) {\n",
              "  const steps = uploadFilesStep(inputId, outputId);\n",
              "  const outputElement = document.getElementById(outputId);\n",
              "  // Cache steps on the outputElement to make it available for the next call\n",
              "  // to uploadFilesContinue from Python.\n",
              "  outputElement.steps = steps;\n",
              "\n",
              "  return _uploadFilesContinue(outputId);\n",
              "}\n",
              "\n",
              "// This is roughly an async generator (not supported in the browser yet),\n",
              "// where there are multiple asynchronous steps and the Python side is going\n",
              "// to poll for completion of each step.\n",
              "// This uses a Promise to block the python side on completion of each step,\n",
              "// then passes the result of the previous step as the input to the next step.\n",
              "function _uploadFilesContinue(outputId) {\n",
              "  const outputElement = document.getElementById(outputId);\n",
              "  const steps = outputElement.steps;\n",
              "\n",
              "  const next = steps.next(outputElement.lastPromiseValue);\n",
              "  return Promise.resolve(next.value.promise).then((value) => {\n",
              "    // Cache the last promise value to make it available to the next\n",
              "    // step of the generator.\n",
              "    outputElement.lastPromiseValue = value;\n",
              "    return next.value.response;\n",
              "  });\n",
              "}\n",
              "\n",
              "/**\n",
              " * Generator function which is called between each async step of the upload\n",
              " * process.\n",
              " * @param {string} inputId Element ID of the input file picker element.\n",
              " * @param {string} outputId Element ID of the output display.\n",
              " * @return {!Iterable<!Object>} Iterable of next steps.\n",
              " */\n",
              "function* uploadFilesStep(inputId, outputId) {\n",
              "  const inputElement = document.getElementById(inputId);\n",
              "  inputElement.disabled = false;\n",
              "\n",
              "  const outputElement = document.getElementById(outputId);\n",
              "  outputElement.innerHTML = '';\n",
              "\n",
              "  const pickedPromise = new Promise((resolve) => {\n",
              "    inputElement.addEventListener('change', (e) => {\n",
              "      resolve(e.target.files);\n",
              "    });\n",
              "  });\n",
              "\n",
              "  const cancel = document.createElement('button');\n",
              "  inputElement.parentElement.appendChild(cancel);\n",
              "  cancel.textContent = 'Cancel upload';\n",
              "  const cancelPromise = new Promise((resolve) => {\n",
              "    cancel.onclick = () => {\n",
              "      resolve(null);\n",
              "    };\n",
              "  });\n",
              "\n",
              "  // Wait for the user to pick the files.\n",
              "  const files = yield {\n",
              "    promise: Promise.race([pickedPromise, cancelPromise]),\n",
              "    response: {\n",
              "      action: 'starting',\n",
              "    }\n",
              "  };\n",
              "\n",
              "  cancel.remove();\n",
              "\n",
              "  // Disable the input element since further picks are not allowed.\n",
              "  inputElement.disabled = true;\n",
              "\n",
              "  if (!files) {\n",
              "    return {\n",
              "      response: {\n",
              "        action: 'complete',\n",
              "      }\n",
              "    };\n",
              "  }\n",
              "\n",
              "  for (const file of files) {\n",
              "    const li = document.createElement('li');\n",
              "    li.append(span(file.name, {fontWeight: 'bold'}));\n",
              "    li.append(span(\n",
              "        `(${file.type || 'n/a'}) - ${file.size} bytes, ` +\n",
              "        `last modified: ${\n",
              "            file.lastModifiedDate ? file.lastModifiedDate.toLocaleDateString() :\n",
              "                                    'n/a'} - `));\n",
              "    const percent = span('0% done');\n",
              "    li.appendChild(percent);\n",
              "\n",
              "    outputElement.appendChild(li);\n",
              "\n",
              "    const fileDataPromise = new Promise((resolve) => {\n",
              "      const reader = new FileReader();\n",
              "      reader.onload = (e) => {\n",
              "        resolve(e.target.result);\n",
              "      };\n",
              "      reader.readAsArrayBuffer(file);\n",
              "    });\n",
              "    // Wait for the data to be ready.\n",
              "    let fileData = yield {\n",
              "      promise: fileDataPromise,\n",
              "      response: {\n",
              "        action: 'continue',\n",
              "      }\n",
              "    };\n",
              "\n",
              "    // Use a chunked sending to avoid message size limits. See b/62115660.\n",
              "    let position = 0;\n",
              "    do {\n",
              "      const length = Math.min(fileData.byteLength - position, MAX_PAYLOAD_SIZE);\n",
              "      const chunk = new Uint8Array(fileData, position, length);\n",
              "      position += length;\n",
              "\n",
              "      const base64 = btoa(String.fromCharCode.apply(null, chunk));\n",
              "      yield {\n",
              "        response: {\n",
              "          action: 'append',\n",
              "          file: file.name,\n",
              "          data: base64,\n",
              "        },\n",
              "      };\n",
              "\n",
              "      let percentDone = fileData.byteLength === 0 ?\n",
              "          100 :\n",
              "          Math.round((position / fileData.byteLength) * 100);\n",
              "      percent.textContent = `${percentDone}% done`;\n",
              "\n",
              "    } while (position < fileData.byteLength);\n",
              "  }\n",
              "\n",
              "  // All done.\n",
              "  yield {\n",
              "    response: {\n",
              "      action: 'complete',\n",
              "    }\n",
              "  };\n",
              "}\n",
              "\n",
              "scope.google = scope.google || {};\n",
              "scope.google.colab = scope.google.colab || {};\n",
              "scope.google.colab._files = {\n",
              "  _uploadFiles,\n",
              "  _uploadFilesContinue,\n",
              "};\n",
              "})(self);\n",
              "</script> "
            ]
          },
          "metadata": {}
        }
      ]
    },
    {
      "cell_type": "markdown",
      "metadata": {
        "id": "uCRc8sdxIGUT"
      },
      "source": [
        "Завантажуємо модель в пам'ять "
      ]
    },
    {
      "cell_type": "code",
      "metadata": {
        "id": "3CiX7pL3IIOi"
      },
      "source": [
        "model = load_model('fashion_mnist_dense.h5')"
      ],
      "execution_count": null,
      "outputs": []
    },
    {
      "cell_type": "code",
      "source": [
        "model.json"
      ],
      "metadata": {
        "id": "hy0DbBwiK_-4"
      },
      "execution_count": null,
      "outputs": []
    },
    {
      "cell_type": "code",
      "metadata": {
        "id": "7AP876-qIR5e",
        "outputId": "f2aea9c0-f948-4c73-eb96-c4626bcfe9ef",
        "colab": {
          "base_uri": "https://localhost:8080/"
        }
      },
      "source": [
        "model.summary()"
      ],
      "execution_count": null,
      "outputs": [
        {
          "output_type": "stream",
          "name": "stdout",
          "text": [
            "Model: \"sequential\"\n",
            "_________________________________________________________________\n",
            " Layer (type)                Output Shape              Param #   \n",
            "=================================================================\n",
            " dense (Dense)               (None, 1000)              785000    \n",
            "                                                                 \n",
            " dense_1 (Dense)             (None, 300)               300300    \n",
            "                                                                 \n",
            " dense_2 (Dense)             (None, 10)                3010      \n",
            "                                                                 \n",
            "=================================================================\n",
            "Total params: 1,088,310\n",
            "Trainable params: 1,088,310\n",
            "Non-trainable params: 0\n",
            "_________________________________________________________________\n"
          ]
        }
      ]
    },
    {
      "cell_type": "markdown",
      "metadata": {
        "id": "CDf9Gw19GIGO"
      },
      "source": [
        "## Застосовуємо мережу для розпізнавання об'єктів на зображеннях "
      ]
    },
    {
      "cell_type": "markdown",
      "metadata": {
        "id": "wFujwhUEGWOG"
      },
      "source": [
        "**Перегляд зображення з набору даних для тестування**"
      ]
    },
    {
      "cell_type": "code",
      "metadata": {
        "id": "bxaxjSOAGOPX"
      },
      "source": [
        "index=22\n",
        "plt.imshow(X_test[index])\n",
        "plt.show()"
      ],
      "execution_count": null,
      "outputs": []
    },
    {
      "cell_type": "markdown",
      "metadata": {
        "id": "ByO-DUMJGc32"
      },
      "source": [
        "**Перетворення тестового зображення**"
      ]
    },
    {
      "cell_type": "code",
      "metadata": {
        "id": "kvZbyn6xGhUe"
      },
      "source": [
        "x = X_test[index]\n",
        "x = np.expand_dims(x, axis=0)"
      ],
      "execution_count": null,
      "outputs": []
    },
    {
      "cell_type": "markdown",
      "metadata": {
        "id": "hxcp2FfPGog1"
      },
      "source": [
        "**Запуск распізнавання**"
      ]
    },
    {
      "cell_type": "code",
      "metadata": {
        "id": "Ap72-9_kNKU2"
      },
      "source": [
        "prediction = model.predict(x)"
      ],
      "execution_count": null,
      "outputs": []
    },
    {
      "cell_type": "markdown",
      "metadata": {
        "id": "2Gldpmn2NQ6-"
      },
      "source": [
        "**Друкуємо результати розпізнавання**"
      ]
    },
    {
      "cell_type": "code",
      "metadata": {
        "id": "P7opRiSZNUku"
      },
      "source": [
        "print(prediction)"
      ],
      "execution_count": null,
      "outputs": []
    },
    {
      "cell_type": "markdown",
      "metadata": {
        "id": "LQTiyEM3NfRG"
      },
      "source": [
        "**Перетворюємо результати з формату one hot encoding**"
      ]
    },
    {
      "cell_type": "code",
      "metadata": {
        "id": "XVC_dTGqNohG"
      },
      "source": [
        "prediction = np.argmax(prediction)\n",
        "print(classes[prediction])"
      ],
      "execution_count": null,
      "outputs": []
    },
    {
      "cell_type": "markdown",
      "metadata": {
        "id": "zJy8tKjuNyD2"
      },
      "source": [
        "**Друкуємо вірну відповідь**"
      ]
    },
    {
      "cell_type": "code",
      "metadata": {
        "id": "0zoGlCZWN2Id"
      },
      "source": [
        "print(classes[y_test[index][0]])"
      ],
      "execution_count": null,
      "outputs": []
    },
    {
      "cell_type": "markdown",
      "metadata": {
        "id": "1QnZ1pfIA_jo"
      },
      "source": [
        "## Розпізнаємо додаткове зображення"
      ]
    },
    {
      "cell_type": "code",
      "metadata": {
        "id": "UjfiJbX7BEtA"
      },
      "source": [
        "files.upload()"
      ],
      "execution_count": null,
      "outputs": []
    },
    {
      "cell_type": "markdown",
      "metadata": {
        "id": "eRy8lcOMXqi5"
      },
      "source": [
        "Перевіряємо завантаження файлів"
      ]
    },
    {
      "cell_type": "code",
      "metadata": {
        "id": "Hig0d3VOBplC"
      },
      "source": [
        "!ls"
      ],
      "execution_count": null,
      "outputs": []
    },
    {
      "cell_type": "markdown",
      "metadata": {
        "id": "Ep-7TkvbXunR"
      },
      "source": [
        "**Дивимось завантажений малюнок**"
      ]
    },
    {
      "cell_type": "code",
      "metadata": {
        "id": "DpEJyRjDXUuh"
      },
      "source": [
        "img_path = 'вантажівка2.jpg'\n",
        "img = image.load_img(img_path, target_size=(32, 32))\n",
        "plt.imshow(img)\n",
        "plt.show()"
      ],
      "execution_count": null,
      "outputs": []
    },
    {
      "cell_type": "markdown",
      "metadata": {
        "id": "KTwbT6byXyrC"
      },
      "source": [
        "**Перетворюємо малюнок в масив для розпізнавання**"
      ]
    },
    {
      "cell_type": "code",
      "metadata": {
        "id": "QTdXEhQ3X13R"
      },
      "source": [
        "x = image.img_to_array(img)\n",
        "x /= 255\n",
        "x = np.expand_dims(x, axis=0)"
      ],
      "execution_count": null,
      "outputs": []
    },
    {
      "cell_type": "markdown",
      "metadata": {
        "id": "oeeqy0cjX7j6"
      },
      "source": [
        "**Запускаємо розпізнавання**"
      ]
    },
    {
      "cell_type": "code",
      "metadata": {
        "id": "cVIxQljlX-LZ"
      },
      "source": [
        "prediction = model.predict(x)\n",
        "prediction = np.argmax(prediction)\n",
        "print(classes[prediction])"
      ],
      "execution_count": null,
      "outputs": []
    }
  ]
}