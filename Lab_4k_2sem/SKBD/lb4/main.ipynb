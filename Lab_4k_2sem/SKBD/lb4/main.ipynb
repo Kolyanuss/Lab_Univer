{
 "cells": [
  {
   "cell_type": "code",
   "execution_count": 3,
   "metadata": {},
   "outputs": [],
   "source": [
    "from pymongo import MongoClient\n",
    "client = MongoClient('mongodb://localhost:27017/')"
   ]
  },
  {
   "attachments": {},
   "cell_type": "markdown",
   "metadata": {},
   "source": [
    "### 5"
   ]
  },
  {
   "cell_type": "code",
   "execution_count": 6,
   "metadata": {},
   "outputs": [
    {
     "name": "stdout",
     "output_type": "stream",
     "text": [
      "{'_id': ObjectId('63fc763224b6ea398c1ff9f3'), 'id': 42, 'vin': '81f8972a', 'brand': 'BMW', 'year': 2007, 'color': 'Black', 'price': 56000}\n",
      "{'_id': ObjectId('63fc763224b6ea398c1ff9ea'), 'id': 33, 'vin': '2989d5b1', 'brand': 'Honda', 'year': 2006, 'color': 'Blue', 'price': 240000}\n",
      "{'_id': ObjectId('63fc763224b6ea398c1ff9e2'), 'id': 25, 'vin': 'd05060b8', 'brand': 'Mercedes', 'year': 2003, 'color': 'Silver', 'price': 15000}\n",
      "{'_id': ObjectId('63fc763224b6ea398c1ff9f5'), 'id': 44, 'vin': '596859d1', 'brand': 'Fiat', 'year': 2002, 'color': 'Green', 'price': 48000}\n",
      "{'_id': ObjectId('63fc763224b6ea398c1ff9dd'), 'id': 20, 'vin': 'd5bac4f0', 'brand': 'Renault', 'year': 2001, 'color': 'Blue', 'price': 25000}\n",
      "{'_id': ObjectId('63fc763224b6ea398c1ff9ee'), 'id': 37, 'vin': '36e9cf7e', 'brand': 'Fiat', 'year': 2000, 'color': 'Orange', 'price': 26000}\n",
      "{'_id': ObjectId('63fc763224b6ea398c1ff9fa'), 'id': 49, 'vin': '4bf1aeb5', 'brand': 'VW', 'year': 2000, 'color': 'Silver', 'price': 24000}\n",
      "{'_id': ObjectId('63fc763224b6ea398c1ff9ca'), 'id': 1, 'vin': 'a1653d4d', 'brand': 'VW', 'year': 1998, 'color': 'White', 'price': 10000}\n",
      "{'_id': ObjectId('63fc763224b6ea398c1ff9ec'), 'id': 35, 'vin': 'e3d3ebf3', 'brand': 'Audi', 'year': 1996, 'color': 'White', 'price': 28000}\n",
      "{'_id': ObjectId('63fc763224b6ea398c1ff9d6'), 'id': 13, 'vin': '5aee636b', 'brand': 'Jaguar', 'year': 1995, 'color': 'Maroon', 'price': 20000}\n",
      "{'_id': ObjectId('63fc763224b6ea398c1ff9fb'), 'id': 50, 'vin': '45ca4786', 'brand': 'BMW', 'year': 1995, 'color': 'Maroon', 'price': 50000}\n",
      "{'_id': ObjectId('63fc763224b6ea398c1ff9cf'), 'id': 6, 'vin': '7d2d22b0', 'brand': 'VW', 'year': 1993, 'color': 'Maroon', 'price': 40000}\n",
      "{'_id': ObjectId('63fc763224b6ea398c1ff9e7'), 'id': 30, 'vin': 'b69e6f5c', 'brand': 'Jaguar', 'year': 1993, 'color': 'Yellow', 'price': 16000}\n",
      "{'_id': ObjectId('63fc763224b6ea398c1ff9ce'), 'id': 5, 'vin': '631f7412', 'brand': 'Volvo', 'year': 1992, 'color': 'Red', 'price': 15500}\n",
      "{'_id': ObjectId('63fc763224b6ea398c1ff9dc'), 'id': 19, 'vin': 'cec593d7', 'brand': 'VW', 'year': 1992, 'color': 'Blue', 'price': 36000}\n",
      "{'_id': ObjectId('63fc763224b6ea398c1ff9db'), 'id': 18, 'vin': 'f7e18d01', 'brand': 'Mercedes', 'year': 1991, 'color': 'White', 'price': 25000}\n",
      "{'_id': ObjectId('63fc763224b6ea398c1ff9e6'), 'id': 29, 'vin': '7f573d2c', 'brand': 'Mercedes', 'year': 1991, 'color': 'Red', 'price': 21000}\n",
      "{'_id': ObjectId('63fc763224b6ea398c1ff9de'), 'id': 21, 'vin': '56b527c8', 'brand': 'Jaguar', 'year': 1990, 'color': 'Yellow', 'price': 52000}\n",
      "{'_id': ObjectId('63fc763224b6ea398c1ff9eb'), 'id': 34, 'vin': 'c243e3a0', 'brand': 'Fiat', 'year': 1990, 'color': 'Maroon', 'price': 15000}\n"
     ]
    }
   ],
   "source": [
    "filter={\n",
    "    'year': {\n",
    "        '$gte': 1990\n",
    "    }\n",
    "}\n",
    "sort=list({\n",
    "    'year': -1\n",
    "}.items())\n",
    "\n",
    "result = client['Products']['Cars'].find(\n",
    "  filter=filter,\n",
    "  sort=sort\n",
    ")\n",
    "for item in result:\n",
    "    print(item)"
   ]
  },
  {
   "attachments": {},
   "cell_type": "markdown",
   "metadata": {},
   "source": [
    "### 6"
   ]
  },
  {
   "cell_type": "code",
   "execution_count": 9,
   "metadata": {},
   "outputs": [
    {
     "name": "stdout",
     "output_type": "stream",
     "text": [
      "{'_id': ObjectId('63fc763224b6ea398c1ff9ec'), 'id': 35, 'vin': 'e3d3ebf3', 'brand': 'Audi', 'year': 1996, 'color': 'White', 'price': 28000}\n",
      "{'_id': ObjectId('63fc763224b6ea398c1ff9f9'), 'id': 48, 'vin': '80890dcc', 'brand': 'Audi', 'year': 1962, 'color': 'White', 'price': 36000}\n"
     ]
    }
   ],
   "source": [
    "filter = {\n",
    "    '$and': [\n",
    "        {\n",
    "            'brand': 'Audi'\n",
    "        }, {\n",
    "            'color': 'White'\n",
    "        }\n",
    "    ]\n",
    "}\n",
    "\n",
    "result = client['Products']['Cars'].find(\n",
    "    filter=filter\n",
    ")\n",
    "for item in result:\n",
    "    print(item)"
   ]
  },
  {
   "attachments": {},
   "cell_type": "markdown",
   "metadata": {},
   "source": [
    "### 7"
   ]
  },
  {
   "cell_type": "code",
   "execution_count": 10,
   "metadata": {},
   "outputs": [
    {
     "name": "stdout",
     "output_type": "stream",
     "text": [
      "{'_id': ObjectId('63fc763224b6ea398c1ff9ca'), 'id': 1, 'vin': 'a1653d4d', 'brand': 'VW', 'year': 1998, 'color': 'White', 'price': 10000}\n",
      "{'_id': ObjectId('63fc763224b6ea398c1ff9cd'), 'id': 4, 'vin': 'aab227b7', 'brand': 'Audi', 'year': 1970, 'color': 'Black', 'price': 12000}\n",
      "{'_id': ObjectId('63fc763224b6ea398c1ff9d7'), 'id': 14, 'vin': '7cc43997', 'brand': 'Jaguar', 'year': 1984, 'color': 'Orange', 'price': 14000}\n"
     ]
    }
   ],
   "source": [
    "filter={\n",
    "    'price': {\n",
    "        '$lt': 25000\n",
    "    }\n",
    "}\n",
    "sort=list({\n",
    "    'price': 1\n",
    "}.items())\n",
    "limit=3\n",
    "result = client['Products']['Cars'].find(\n",
    "  filter=filter,\n",
    "  sort=sort,\n",
    "  limit=limit\n",
    ")\n",
    "for item in result:\n",
    "    print(item)"
   ]
  },
  {
   "attachments": {},
   "cell_type": "markdown",
   "metadata": {},
   "source": [
    "### 8"
   ]
  },
  {
   "cell_type": "code",
   "execution_count": 12,
   "metadata": {},
   "outputs": [
    {
     "name": "stdout",
     "output_type": "stream",
     "text": [
      "{'_id': ObjectId('63fc763224b6ea398c1ff9cb'), 'id': 2, 'vin': 'ddeb9b10', 'brand': 'Mercedes', 'year': 1985, 'color': 'Green', 'price': 25000}\n",
      "{'_id': ObjectId('63fc763224b6ea398c1ff9cd'), 'id': 4, 'vin': 'aab227b7', 'brand': 'Audi', 'year': 1970, 'color': 'Black', 'price': 12000}\n",
      "{'_id': ObjectId('63fc763224b6ea398c1ff9d2'), 'id': 9, 'vin': '70214c7e', 'brand': 'Renault', 'year': 1961, 'color': 'Black', 'price': 19000}\n",
      "{'_id': ObjectId('63fc763224b6ea398c1ff9da'), 'id': 17, 'vin': '15b9a5c9', 'brand': 'Mercedes', 'year': 1986, 'color': 'Orange', 'price': 14000}\n",
      "{'_id': ObjectId('63fc763224b6ea398c1ff9db'), 'id': 18, 'vin': 'f7e18d01', 'brand': 'Mercedes', 'year': 1991, 'color': 'White', 'price': 25000}\n",
      "{'_id': ObjectId('63fc763224b6ea398c1ff9e2'), 'id': 25, 'vin': 'd05060b8', 'brand': 'Mercedes', 'year': 2003, 'color': 'Silver', 'price': 15000}\n",
      "{'_id': ObjectId('63fc763224b6ea398c1ff9e3'), 'id': 26, 'vin': '46e4bbe8', 'brand': 'Mercedes', 'year': 1986, 'color': 'White', 'price': 18000}\n",
      "{'_id': ObjectId('63fc763224b6ea398c1ff9e6'), 'id': 29, 'vin': '7f573d2c', 'brand': 'Mercedes', 'year': 1991, 'color': 'Red', 'price': 21000}\n",
      "{'_id': ObjectId('63fc763224b6ea398c1ff9ed'), 'id': 36, 'vin': '45337e7a', 'brand': 'Mercedes', 'year': 1982, 'color': 'Blue', 'price': 14000}\n",
      "{'_id': ObjectId('63fc763224b6ea398c1ff9ef'), 'id': 38, 'vin': '036bf135', 'brand': 'Mercedes', 'year': 1973, 'color': 'Black', 'price': 22000}\n",
      "{'_id': ObjectId('63fc763224b6ea398c1ff9f0'), 'id': 39, 'vin': 'ad612e9f', 'brand': 'Mercedes', 'year': 1975, 'color': 'Red', 'price': 45000}\n",
      "{'_id': ObjectId('63fc763224b6ea398c1ff9f3'), 'id': 42, 'vin': '81f8972a', 'brand': 'BMW', 'year': 2007, 'color': 'Black', 'price': 56000}\n",
      "{'_id': ObjectId('63fc763224b6ea398c1ff9f6'), 'id': 45, 'vin': 'd83c1d9a', 'brand': 'Volvo', 'year': 1972, 'color': 'Black', 'price': 29000}\n",
      "{'_id': ObjectId('63fc763224b6ea398c1ff9f7'), 'id': 46, 'vin': '32f41550', 'brand': 'Mercedes', 'year': 1978, 'color': 'Brown', 'price': 17000}\n"
     ]
    }
   ],
   "source": [
    "filter={\n",
    "    '$or': [\n",
    "        {\n",
    "            'color': 'Black'\n",
    "        }, {\n",
    "            'brand': 'Mercedes'\n",
    "        }\n",
    "    ]\n",
    "}\n",
    "result = client['Products']['Cars'].find(\n",
    "  filter=filter\n",
    ")\n",
    "\n",
    "for item in result:\n",
    "    print(item)"
   ]
  },
  {
   "attachments": {},
   "cell_type": "markdown",
   "metadata": {},
   "source": [
    "### 9"
   ]
  },
  {
   "cell_type": "code",
   "execution_count": 8,
   "metadata": {},
   "outputs": [
    {
     "name": "stdout",
     "output_type": "stream",
     "text": [
      "{'_id': ObjectId('63fc763224b6ea398c1ff9ca'), 'id': 1, 'vin': 'a1653d4d', 'brand': 'VW', 'year': 1998, 'color': 'White', 'price': 10000, 'discount': 30}\n",
      "{'_id': ObjectId('63fc763224b6ea398c1ff9cf'), 'id': 6, 'vin': '7d2d22b0', 'brand': 'VW', 'year': 1993, 'color': 'Maroon', 'price': 40000, 'discount': 30}\n",
      "{'_id': ObjectId('63fc763224b6ea398c1ff9d6'), 'id': 13, 'vin': '5aee636b', 'brand': 'Jaguar', 'year': 1995, 'color': 'Maroon', 'price': 20000, 'discount': 30}\n",
      "{'_id': ObjectId('63fc763224b6ea398c1ff9dd'), 'id': 20, 'vin': 'd5bac4f0', 'brand': 'Renault', 'year': 2001, 'color': 'Blue', 'price': 25000, 'discount': 30}\n",
      "{'_id': ObjectId('63fc763224b6ea398c1ff9e2'), 'id': 25, 'vin': 'd05060b8', 'brand': 'Mercedes', 'year': 2003, 'color': 'Silver', 'price': 15000, 'discount': 30}\n",
      "{'_id': ObjectId('63fc763224b6ea398c1ff9e7'), 'id': 30, 'vin': 'b69e6f5c', 'brand': 'Jaguar', 'year': 1993, 'color': 'Yellow', 'price': 16000, 'discount': 30}\n",
      "{'_id': ObjectId('63fc763224b6ea398c1ff9ea'), 'id': 33, 'vin': '2989d5b1', 'brand': 'Honda', 'year': 2006, 'color': 'Blue', 'price': 240000, 'discount': 30}\n",
      "{'_id': ObjectId('63fc763224b6ea398c1ff9ec'), 'id': 35, 'vin': 'e3d3ebf3', 'brand': 'Audi', 'year': 1996, 'color': 'White', 'price': 28000, 'discount': 30}\n",
      "{'_id': ObjectId('63fc763224b6ea398c1ff9ee'), 'id': 37, 'vin': '36e9cf7e', 'brand': 'Fiat', 'year': 2000, 'color': 'Orange', 'price': 26000, 'discount': 30}\n",
      "{'_id': ObjectId('63fc763224b6ea398c1ff9f3'), 'id': 42, 'vin': '81f8972a', 'brand': 'BMW', 'year': 2007, 'color': 'Black', 'price': 56000, 'discount': 30}\n",
      "{'_id': ObjectId('63fc763224b6ea398c1ff9f5'), 'id': 44, 'vin': '596859d1', 'brand': 'Fiat', 'year': 2002, 'color': 'Green', 'price': 48000, 'discount': 30}\n",
      "{'_id': ObjectId('63fc763224b6ea398c1ff9fa'), 'id': 49, 'vin': '4bf1aeb5', 'brand': 'VW', 'year': 2000, 'color': 'Silver', 'price': 24000, 'discount': 30}\n",
      "{'_id': ObjectId('63fc763224b6ea398c1ff9fb'), 'id': 50, 'vin': '45ca4786', 'brand': 'BMW', 'year': 1995, 'color': 'Maroon', 'price': 50000, 'discount': 30}\n"
     ]
    }
   ],
   "source": [
    "filter={    \n",
    "    'year': {\n",
    "        '$gte': 1993\n",
    "    }   \n",
    "}\n",
    "setFilter={'$set':{\"discount\":30}}\n",
    "\n",
    "client['Products']['Cars'].update_many(\n",
    "    filter,\n",
    "    setFilter\n",
    ")\n",
    "           \n",
    "result = client['Products']['Cars'].find(\n",
    "    filter=filter\n",
    ")\n",
    "\n",
    "for item in result:\n",
    "    print(item)"
   ]
  },
  {
   "attachments": {},
   "cell_type": "markdown",
   "metadata": {},
   "source": [
    "### 10"
   ]
  },
  {
   "cell_type": "code",
   "execution_count": 13,
   "metadata": {},
   "outputs": [
    {
     "name": "stdout",
     "output_type": "stream",
     "text": [
      "{'_id': ObjectId('63fc763224b6ea398c1ff9ca'), 'id': 1, 'vin': 'a1653d4d', 'brand': 'VW', 'year': 1998, 'color': 'White', 'price': 10000}\n",
      "{'_id': ObjectId('63fc763224b6ea398c1ff9cb'), 'id': 2, 'vin': 'ddeb9b10', 'brand': 'Mercedes', 'year': 1985, 'color': 'Green', 'price': 25000}\n",
      "{'_id': ObjectId('63fc763224b6ea398c1ff9cc'), 'id': 3, 'vin': 'd8ebe413', 'brand': 'Jaguar', 'year': 1979, 'color': 'Silver', 'price': 30000}\n",
      "{'_id': ObjectId('63fc763224b6ea398c1ff9cd'), 'id': 4, 'vin': 'aab227b7', 'brand': 'Audi', 'year': 1970, 'color': 'Black', 'price': 12000}\n",
      "{'_id': ObjectId('63fc763224b6ea398c1ff9ce'), 'id': 5, 'vin': '631f7412', 'brand': 'Volvo', 'year': 1992, 'color': 'Red', 'price': 15500}\n",
      "{'_id': ObjectId('63fc763224b6ea398c1ff9cf'), 'id': 6, 'vin': '7d2d22b0', 'brand': 'VW', 'year': 1993, 'color': 'Maroon', 'price': 40000}\n",
      "{'_id': ObjectId('63fc763224b6ea398c1ff9d0'), 'id': 7, 'vin': '50e900ca', 'brand': 'Fiat', 'year': 1964, 'color': 'Blue', 'price': 25000}\n",
      "{'_id': ObjectId('63fc763224b6ea398c1ff9d1'), 'id': 8, 'vin': '4bbcd603', 'brand': 'Renault', 'year': 1983, 'color': 'Maroon', 'price': 22000}\n",
      "{'_id': ObjectId('63fc763224b6ea398c1ff9d2'), 'id': 9, 'vin': '70214c7e', 'brand': 'Renault', 'year': 1961, 'color': 'Black', 'price': 19000}\n",
      "{'_id': ObjectId('63fc763224b6ea398c1ff9d3'), 'id': 10, 'vin': 'ec229a92', 'brand': 'Audi', 'year': 1984, 'color': 'Brown', 'price': 36000}\n",
      "{'_id': ObjectId('63fc763224b6ea398c1ff9d4'), 'id': 11, 'vin': '1083ee40', 'brand': 'VW', 'year': 1984, 'color': 'Silver', 'price': 215000}\n",
      "{'_id': ObjectId('63fc763224b6ea398c1ff9d5'), 'id': 12, 'vin': '6e0da3ab', 'brand': 'Volvo', 'year': 1987, 'color': 'Silver', 'price': 32000}\n",
      "{'_id': ObjectId('63fc763224b6ea398c1ff9d6'), 'id': 13, 'vin': '5aee636b', 'brand': 'Jaguar', 'year': 1995, 'color': 'Maroon', 'price': 20000}\n",
      "{'_id': ObjectId('63fc763224b6ea398c1ff9d7'), 'id': 14, 'vin': '7cc43997', 'brand': 'Jaguar', 'year': 1984, 'color': 'Orange', 'price': 14000}\n",
      "{'_id': ObjectId('63fc763224b6ea398c1ff9d8'), 'id': 15, 'vin': '88ec9f66', 'brand': 'Honda', 'year': 1989, 'color': 'Maroon', 'price': 36000}\n",
      "{'_id': ObjectId('63fc763224b6ea398c1ff9da'), 'id': 17, 'vin': '15b9a5c9', 'brand': 'Mercedes', 'year': 1986, 'color': 'Orange', 'price': 14000}\n",
      "{'_id': ObjectId('63fc763224b6ea398c1ff9db'), 'id': 18, 'vin': 'f7e18d01', 'brand': 'Mercedes', 'year': 1991, 'color': 'White', 'price': 25000}\n",
      "{'_id': ObjectId('63fc763224b6ea398c1ff9dc'), 'id': 19, 'vin': 'cec593d7', 'brand': 'VW', 'year': 1992, 'color': 'Blue', 'price': 36000}\n",
      "{'_id': ObjectId('63fc763224b6ea398c1ff9dd'), 'id': 20, 'vin': 'd5bac4f0', 'brand': 'Renault', 'year': 2001, 'color': 'Blue', 'price': 25000}\n",
      "{'_id': ObjectId('63fc763224b6ea398c1ff9de'), 'id': 21, 'vin': '56b527c8', 'brand': 'Jaguar', 'year': 1990, 'color': 'Yellow', 'price': 52000}\n",
      "{'_id': ObjectId('63fc763224b6ea398c1ff9df'), 'id': 22, 'vin': '1ac011ff', 'brand': 'Audi', 'year': 1966, 'color': 'Maroon', 'price': 45000}\n",
      "{'_id': ObjectId('63fc763224b6ea398c1ff9e1'), 'id': 24, 'vin': '606ba663', 'brand': 'Honda', 'year': 1982, 'color': 'Blue', 'price': 22000}\n",
      "{'_id': ObjectId('63fc763224b6ea398c1ff9e2'), 'id': 25, 'vin': 'd05060b8', 'brand': 'Mercedes', 'year': 2003, 'color': 'Silver', 'price': 15000}\n",
      "{'_id': ObjectId('63fc763224b6ea398c1ff9e3'), 'id': 26, 'vin': '46e4bbe8', 'brand': 'Mercedes', 'year': 1986, 'color': 'White', 'price': 18000}\n",
      "{'_id': ObjectId('63fc763224b6ea398c1ff9e5'), 'id': 28, 'vin': '24622f70', 'brand': 'VW', 'year': 1973, 'color': 'Maroon', 'price': 36000}\n",
      "{'_id': ObjectId('63fc763224b6ea398c1ff9e6'), 'id': 29, 'vin': '7f573d2c', 'brand': 'Mercedes', 'year': 1991, 'color': 'Red', 'price': 21000}\n",
      "{'_id': ObjectId('63fc763224b6ea398c1ff9e7'), 'id': 30, 'vin': 'b69e6f5c', 'brand': 'Jaguar', 'year': 1993, 'color': 'Yellow', 'price': 16000}\n",
      "{'_id': ObjectId('63fc763224b6ea398c1ff9e8'), 'id': 31, 'vin': 'ead9bf1d', 'brand': 'Fiat', 'year': 1968, 'color': 'Maroon', 'price': 43000}\n",
      "{'_id': ObjectId('63fc763224b6ea398c1ff9e9'), 'id': 32, 'vin': 'bc58113e', 'brand': 'Renault', 'year': 1981, 'color': 'Silver', 'price': 36000}\n",
      "{'_id': ObjectId('63fc763224b6ea398c1ff9ea'), 'id': 33, 'vin': '2989d5b1', 'brand': 'Honda', 'year': 2006, 'color': 'Blue', 'price': 240000}\n",
      "{'_id': ObjectId('63fc763224b6ea398c1ff9eb'), 'id': 34, 'vin': 'c243e3a0', 'brand': 'Fiat', 'year': 1990, 'color': 'Maroon', 'price': 15000}\n",
      "{'_id': ObjectId('63fc763224b6ea398c1ff9ec'), 'id': 35, 'vin': 'e3d3ebf3', 'brand': 'Audi', 'year': 1996, 'color': 'White', 'price': 28000}\n",
      "{'_id': ObjectId('63fc763224b6ea398c1ff9ed'), 'id': 36, 'vin': '45337e7a', 'brand': 'Mercedes', 'year': 1982, 'color': 'Blue', 'price': 14000}\n",
      "{'_id': ObjectId('63fc763224b6ea398c1ff9ee'), 'id': 37, 'vin': '36e9cf7e', 'brand': 'Fiat', 'year': 2000, 'color': 'Orange', 'price': 26000}\n",
      "{'_id': ObjectId('63fc763224b6ea398c1ff9ef'), 'id': 38, 'vin': '036bf135', 'brand': 'Mercedes', 'year': 1973, 'color': 'Black', 'price': 22000}\n",
      "{'_id': ObjectId('63fc763224b6ea398c1ff9f0'), 'id': 39, 'vin': 'ad612e9f', 'brand': 'Mercedes', 'year': 1975, 'color': 'Red', 'price': 45000}\n",
      "{'_id': ObjectId('63fc763224b6ea398c1ff9f1'), 'id': 40, 'vin': '97c6e1e9', 'brand': 'Volvo', 'year': 1967, 'color': 'Green', 'price': 42000}\n",
      "{'_id': ObjectId('63fc763224b6ea398c1ff9f2'), 'id': 41, 'vin': 'ae962274', 'brand': 'Volvo', 'year': 1982, 'color': 'Red', 'price': 36000}\n",
      "{'_id': ObjectId('63fc763224b6ea398c1ff9f4'), 'id': 43, 'vin': 'f8506743', 'brand': 'Audi', 'year': 1975, 'color': 'Blue', 'price': 42000}\n",
      "{'_id': ObjectId('63fc763224b6ea398c1ff9f5'), 'id': 44, 'vin': '596859d1', 'brand': 'Fiat', 'year': 2002, 'color': 'Green', 'price': 48000}\n",
      "{'_id': ObjectId('63fc763224b6ea398c1ff9f6'), 'id': 45, 'vin': 'd83c1d9a', 'brand': 'Volvo', 'year': 1972, 'color': 'Black', 'price': 29000}\n",
      "{'_id': ObjectId('63fc763224b6ea398c1ff9f7'), 'id': 46, 'vin': '32f41550', 'brand': 'Mercedes', 'year': 1978, 'color': 'Brown', 'price': 17000}\n",
      "{'_id': ObjectId('63fc763224b6ea398c1ff9f8'), 'id': 47, 'vin': 'c28cd2e4', 'brand': 'Volvo', 'year': 1982, 'color': 'Silver', 'price': 24000}\n",
      "{'_id': ObjectId('63fc763224b6ea398c1ff9f9'), 'id': 48, 'vin': '80890dcc', 'brand': 'Audi', 'year': 1962, 'color': 'White', 'price': 36000}\n",
      "{'_id': ObjectId('63fc763224b6ea398c1ff9fa'), 'id': 49, 'vin': '4bf1aeb5', 'brand': 'VW', 'year': 2000, 'color': 'Silver', 'price': 24000}\n"
     ]
    }
   ],
   "source": [
    "filter={\n",
    "    'brand': {\n",
    "        '$not': {\n",
    "            '$eq': 'BMW'\n",
    "        }\n",
    "    }\n",
    "}\n",
    "result = client['Products']['Cars'].find(\n",
    "  filter=filter\n",
    ")\n",
    "\n",
    "for item in result:\n",
    "    print(item)"
   ]
  },
  {
   "attachments": {},
   "cell_type": "markdown",
   "metadata": {},
   "source": [
    "### 11"
   ]
  },
  {
   "cell_type": "code",
   "execution_count": 15,
   "metadata": {},
   "outputs": [
    {
     "name": "stdout",
     "output_type": "stream",
     "text": [
      "{'_id': ObjectId('63fc763224b6ea398c1ff9ce'), 'id': 5, 'vin': '631f7412', 'brand': 'Volvo', 'year': 1992, 'color': 'Red', 'price': 15500}\n",
      "{'_id': ObjectId('63fc763224b6ea398c1ff9d5'), 'id': 12, 'vin': '6e0da3ab', 'brand': 'Volvo', 'year': 1987, 'color': 'Silver', 'price': 32000}\n",
      "{'_id': ObjectId('63fc763224b6ea398c1ff9f1'), 'id': 40, 'vin': '97c6e1e9', 'brand': 'Volvo', 'year': 1967, 'color': 'Green', 'price': 42000}\n",
      "{'_id': ObjectId('63fc763224b6ea398c1ff9f2'), 'id': 41, 'vin': 'ae962274', 'brand': 'Volvo', 'year': 1982, 'color': 'Red', 'price': 36000}\n",
      "{'_id': ObjectId('63fc763224b6ea398c1ff9f6'), 'id': 45, 'vin': 'd83c1d9a', 'brand': 'Volvo', 'year': 1972, 'color': 'Black', 'price': 29000}\n",
      "{'_id': ObjectId('63fc763224b6ea398c1ff9f8'), 'id': 47, 'vin': 'c28cd2e4', 'brand': 'Volvo', 'year': 1982, 'color': 'Silver', 'price': 24000}\n",
      "Sum =  178500\n",
      "Avg =  29750.0\n",
      "Min =  15500\n",
      "Max =  42000\n"
     ]
    }
   ],
   "source": [
    "filter={\n",
    "    'brand': 'Volvo'\n",
    "}\n",
    "result = client['Products']['Cars'].find(\n",
    "    filter=filter,\n",
    ")\n",
    "sum=0\n",
    "count=0\n",
    "min=9999999999999999\n",
    "max=-9999999999999999\n",
    "for item in result:\n",
    "    price=item['price']\n",
    "    sum+=price\n",
    "    if price > max:\n",
    "        max = price\n",
    "    if price < min:\n",
    "        min = price\n",
    "    count+=1\n",
    "    print(item)\n",
    "\n",
    "avg=sum/count\n",
    "\n",
    "print(\"Sum = \",sum)\n",
    "print(\"Avg = \",avg)\n",
    "print(\"Min = \",min)\n",
    "print(\"Max = \",max)"
   ]
  },
  {
   "cell_type": "code",
   "execution_count": 87,
   "metadata": {},
   "outputs": [
    {
     "name": "stdout",
     "output_type": "stream",
     "text": [
      "{'_id': None, 'sum': 178500, 'avg': 29750.0, 'min': 15500, 'max': 42000}\n"
     ]
    }
   ],
   "source": [
    "result = client['Products']['Cars'].aggregate([\n",
    "    {\n",
    "        \"$match\": {\n",
    "            \"brand\": \"Volvo\"\n",
    "        }\n",
    "    }, {\n",
    "        '$group': {    \n",
    "            '_id': None,\n",
    "            'sum': {'$sum':'$price'},\n",
    "            'avg': {'$avg':'$price'},\n",
    "            'min': {'$min':'$price'},\n",
    "            'max': {'$max':'$price'}\n",
    "        }\n",
    "    }\n",
    "])\n",
    "# Print\n",
    "for item in result:\n",
    "    print(item)"
   ]
  },
  {
   "attachments": {},
   "cell_type": "markdown",
   "metadata": {},
   "source": [
    "### 14"
   ]
  },
  {
   "cell_type": "code",
   "execution_count": null,
   "metadata": {},
   "outputs": [
    {
     "name": "stdout",
     "output_type": "stream",
     "text": [
      "{'_id': ObjectId('63fc77c524b6ea398c1ff9fd'), 'id': 2, 'supplier': 5, 'carID': 13, 'date': 'Sunday, October 30, 2011 1:52 PM'}\n",
      "{'_id': ObjectId('63fc77c524b6ea398c1ffa00'), 'id': 5, 'supplier': 6, 'carID': 29, 'date': 'Monday, August 27, 2018 12:54 PM'}\n",
      "{'_id': ObjectId('63fc77c524b6ea398c1ffa01'), 'id': 6, 'supplier': 15, 'carID': 12, 'date': 'Wednesday, November 27, 2013 1:09 PM'}\n",
      "{'_id': ObjectId('63fc77c524b6ea398c1ffa02'), 'id': 7, 'supplier': 15, 'carID': 49, 'date': 'Friday, April 15, 2011 3:22 AM'}\n",
      "{'_id': ObjectId('63fc77c524b6ea398c1ffa06'), 'id': 11, 'supplier': 11, 'carID': 11, 'date': 'Monday, August 17, 2015 2:19 PM'}\n",
      "{'_id': ObjectId('63fc77c524b6ea398c1ffa07'), 'id': 12, 'supplier': 5, 'carID': 15, 'date': 'Thursday, August 10, 2017 11:10 PM'}\n",
      "{'_id': ObjectId('63fc77c524b6ea398c1ffa09'), 'id': 14, 'supplier': 15, 'carID': 10, 'date': 'Wednesday, February 1, 2012 12:45 AM'}\n",
      "{'_id': ObjectId('63fc77c524b6ea398c1ffa0a'), 'id': 15, 'supplier': 5, 'carID': 46, 'date': 'Friday, April 26, 2013 7:22 PM'}\n",
      "{'_id': ObjectId('63fc77c524b6ea398c1ffa0d'), 'id': 18, 'supplier': 5, 'carID': 9, 'date': 'Friday, September 28, 2012 11:00 PM'}\n",
      "{'_id': ObjectId('63fc77c524b6ea398c1ffa0e'), 'id': 19, 'supplier': 14, 'carID': 8, 'date': 'Wednesday, February 2, 2011 10:07 AM'}\n",
      "{'_id': ObjectId('63fc77c524b6ea398c1ffa11'), 'id': 22, 'supplier': 13, 'carID': 26, 'date': 'Wednesday, July 12, 2017 6:59 AM'}\n",
      "{'_id': ObjectId('63fc77c524b6ea398c1ffa12'), 'id': 23, 'supplier': 14, 'carID': 45, 'date': 'Thursday, September 12, 2013 4:32 AM'}\n",
      "{'_id': ObjectId('63fc77c524b6ea398c1ffa14'), 'id': 25, 'supplier': 13, 'carID': 35, 'date': 'Sunday, March 26, 2017 1:30 AM'}\n",
      "{'_id': ObjectId('63fc77c524b6ea398c1ffa17'), 'id': 28, 'supplier': 5, 'carID': 25, 'date': 'Friday, July 1, 2016 1:39 AM'}\n",
      "{'_id': ObjectId('63fc77c524b6ea398c1ffa1b'), 'id': 32, 'supplier': 14, 'carID': 5, 'date': 'Thursday, April 7, 2016 7:25 PM'}\n",
      "{'_id': ObjectId('63fc77c524b6ea398c1ffa1d'), 'id': 34, 'supplier': 6, 'carID': 19, 'date': 'Sunday, June 3, 2012 2:52 AM'}\n",
      "{'_id': ObjectId('63fc77c524b6ea398c1ffa1e'), 'id': 35, 'supplier': 13, 'carID': 42, 'date': 'Monday, September 6, 2010 5:52 PM'}\n",
      "{'_id': ObjectId('63fc77c524b6ea398c1ffa1f'), 'id': 36, 'supplier': 11, 'carID': 37, 'date': 'Tuesday, April 6, 2010 11:47 AM'}\n",
      "{'_id': ObjectId('63fc77c524b6ea398c1ffa22'), 'id': 39, 'supplier': 6, 'carID': 44, 'date': 'Sunday, November 3, 2013 11:51 AM'}\n",
      "{'_id': ObjectId('63fc77c524b6ea398c1ffa26'), 'id': 43, 'supplier': 13, 'carID': 38, 'date': 'Sunday, April 18, 2010 8:36 AM'}\n",
      "{'_id': ObjectId('63fc77c524b6ea398c1ffa27'), 'id': 44, 'supplier': 11, 'carID': 22, 'date': 'Monday, October 9, 2017 3:24 PM'}\n",
      "{'_id': ObjectId('63fc77c524b6ea398c1ffa29'), 'id': 46, 'supplier': 5, 'carID': 50, 'date': 'Sunday, October 23, 2016 10:41 PM'}\n"
     ]
    }
   ],
   "source": [
    "# Find Suppliers id where 'isActive'=True\n",
    "filter={\n",
    "    'isActive': True\n",
    "}\n",
    "result = client['Products']['Suppliers'].find(\n",
    "    filter=filter,\n",
    ")\n",
    "\n",
    "# make Suppliers id array\n",
    "someArr=[]\n",
    "for item in result:\n",
    "    someArr.append(item['id'])\n",
    "\n",
    "# Find 'Supplies' by Suppliers id\n",
    "filter={\n",
    "    'supplier': \n",
    "        {\"$in\": someArr}\n",
    "}\n",
    "result = client['Products']['Supplies'].find(\n",
    "    filter=filter,\n",
    ")\n",
    "\n",
    "# Print\n",
    "for item in result:\n",
    "    print(item)"
   ]
  },
  {
   "attachments": {},
   "cell_type": "markdown",
   "metadata": {},
   "source": [
    "### 15"
   ]
  },
  {
   "cell_type": "code",
   "execution_count": 58,
   "metadata": {},
   "outputs": [
    {
     "name": "stdout",
     "output_type": "stream",
     "text": [
      "Monday, August 27, 2018 12:54 PM        | COMBOGENE      | 800 Maple Avenue, Gerton, Iowa, 668               | +1 (916) 451-2725\n",
      "Friday, April 26, 2013 7:22 PM          | COSMOSIS       | 786 Overbaugh Place, Camino, Oklahoma, 9965       | +1 (991) 436-3947\n",
      "Wednesday, July 12, 2017 6:59 AM        | IMKAN          | 947 Quentin Road, Bartonsville, Utah, 8335        | +1 (901) 470-2819\n",
      "Monday, May 1, 2017 7:39 AM             | POLARIA        | 498 Jefferson Street, Belfair, Tennessee, 6129    | +1 (933) 472-2178\n",
      "Friday, July 1, 2016 1:39 AM            | THREDZ         | 120 Taylor Street, Hasty, Wisconsin, 3222         | +1 (986) 593-3420\n",
      "Friday, March 3, 2017 8:55 AM           | XPLOR          | 536 Chester Street, Westerville, Nebraska, 6746   | +1 (981) 450-3906\n",
      "Tuesday, August 19, 2014 12:55 AM       | EYERIS         | 148 Fleet Place, Newkirk, New Hampshire, 3661     | +1 (970) 473-2536\n"
     ]
    }
   ],
   "source": [
    "# Find Cars id where 'brand'='Mercedes'\n",
    "resultCars = client['Products']['Cars'].find(\n",
    "    filter={\n",
    "        'brand': 'Mercedes'\n",
    "    }\n",
    ")\n",
    "\n",
    "# make Cars Id array\n",
    "carsId = []\n",
    "for item in resultCars:\n",
    "    carsId.append(item['id'])\n",
    "\n",
    "# Find 'Supplies' by carsid\n",
    "filter = {\n",
    "    'carID':\n",
    "        {\"$in\": carsId}\n",
    "}\n",
    "resultSupplies = client['Products']['Supplies'].find(\n",
    "    filter=filter,\n",
    ")\n",
    "\n",
    "resultSuppliesArr = []\n",
    "for item in resultSupplies:\n",
    "    resultSuppliesArr.append(item)\n",
    "\n",
    "# make Suppliers Id array\n",
    "SupliersId = []\n",
    "for item in resultSuppliesArr:\n",
    "    SupliersId.append(item['supplier'])\n",
    "\n",
    "# Find 'Suppliers' by id who sold Mercedes\n",
    "filter = {\n",
    "    'id':\n",
    "        {\"$in\": SupliersId}\n",
    "}\n",
    "resultSuppliers = client['Products']['Suppliers'].find(\n",
    "    filter=filter,\n",
    ")\n",
    "\n",
    "# Print\n",
    "for item1, item2 in zip(resultSuppliesArr, resultSuppliers):\n",
    "    print(item1['date'].ljust(40, ' ') + \"| \" + item2['companyName'].ljust(15, ' ') + \"| \" +\n",
    "          item2['address'].ljust(50, ' ') + \"| \" + item2['phone'])\n"
   ]
  },
  {
   "attachments": {},
   "cell_type": "markdown",
   "metadata": {},
   "source": [
    "### 16"
   ]
  },
  {
   "cell_type": "code",
   "execution_count": 81,
   "metadata": {},
   "outputs": [
    {
     "name": "stdout",
     "output_type": "stream",
     "text": [
      "{'_id': 'Green'}\n",
      "{'_id': 'Black'}\n",
      "{'_id': 'Blue'}\n",
      "{'_id': 'Brown'}\n",
      "{'_id': 'Orange'}\n",
      "{'_id': 'White'}\n",
      "{'_id': 'Red'}\n",
      "{'_id': 'Maroon'}\n",
      "{'_id': 'Silver'}\n",
      "{'_id': 'Yellow'}\n"
     ]
    }
   ],
   "source": [
    "result = client['Products']['Cars'].aggregate([\n",
    "    {\n",
    "        '$group': {    \n",
    "            '_id': \"$color\"               \n",
    "        }\n",
    "    }\n",
    "])\n",
    "# Print\n",
    "for item in result:\n",
    "    print(item)"
   ]
  },
  {
   "attachments": {},
   "cell_type": "markdown",
   "metadata": {},
   "source": [
    "### 17"
   ]
  },
  {
   "cell_type": "code",
   "execution_count": 82,
   "metadata": {},
   "outputs": [
    {
     "name": "stdout",
     "output_type": "stream",
     "text": [
      "{'_id': 'Blue'}\n",
      "{'_id': 'Brown'}\n",
      "{'_id': 'Maroon'}\n",
      "{'_id': 'Black'}\n"
     ]
    }
   ],
   "source": [
    "result = client['Products']['Cars'].aggregate([\n",
    "    {\n",
    "        \"$match\": {\n",
    "            \"brand\": \"BMW\"\n",
    "        }\n",
    "    }, {\n",
    "        '$group': {    \n",
    "            '_id': \"$color\"               \n",
    "        }\n",
    "    }\n",
    "])\n",
    "# Print\n",
    "for item in result:\n",
    "    print(item)"
   ]
  },
  {
   "attachments": {},
   "cell_type": "markdown",
   "metadata": {},
   "source": [
    "### 18"
   ]
  },
  {
   "cell_type": "code",
   "execution_count": 80,
   "metadata": {},
   "outputs": [
    {
     "name": "stdout",
     "output_type": "stream",
     "text": [
      "{'_id': 'Mercedes', 'count': 10}\n",
      "{'_id': 'Jaguar', 'count': 5}\n",
      "{'_id': 'Fiat', 'count': 5}\n",
      "{'_id': 'Renault', 'count': 4}\n",
      "{'_id': 'VW', 'count': 6}\n",
      "{'_id': 'Honda', 'count': 3}\n",
      "{'_id': 'BMW', 'count': 5}\n",
      "{'_id': 'Volvo', 'count': 6}\n",
      "{'_id': 'Audi', 'count': 6}\n"
     ]
    }
   ],
   "source": [
    "result = client['Products']['Cars'].aggregate([\n",
    "    {\n",
    "        '$group': {    \n",
    "            '_id': \"$brand\",\n",
    "            'count': {\n",
    "                '$count': {}\n",
    "            }    \n",
    "        }\n",
    "    }\n",
    "])\n",
    "# Print\n",
    "for item in result:\n",
    "    print(item)"
   ]
  }
 ],
 "metadata": {
  "kernelspec": {
   "display_name": "Python 3",
   "language": "python",
   "name": "python3"
  },
  "language_info": {
   "codemirror_mode": {
    "name": "ipython",
    "version": 3
   },
   "file_extension": ".py",
   "mimetype": "text/x-python",
   "name": "python",
   "nbconvert_exporter": "python",
   "pygments_lexer": "ipython3",
   "version": "3.9.0"
  },
  "orig_nbformat": 4,
  "vscode": {
   "interpreter": {
    "hash": "7f8e2a78ff6b80b146d33552981e4c7393b638c7d72f66c9069daded107413d8"
   }
  }
 },
 "nbformat": 4,
 "nbformat_minor": 2
}
