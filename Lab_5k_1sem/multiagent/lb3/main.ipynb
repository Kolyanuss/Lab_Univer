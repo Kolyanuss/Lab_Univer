{
 "cells": [
  {
   "cell_type": "markdown",
   "metadata": {},
   "source": [
    "## Init"
   ]
  },
  {
   "cell_type": "markdown",
   "metadata": {},
   "source": [
    "## mini agent calculators"
   ]
  },
  {
   "cell_type": "code",
   "execution_count": 324,
   "metadata": {},
   "outputs": [],
   "source": [
    "import numpy as np\n",
    "import tensorflow as tf\n",
    "\n",
    "data = np.array([10, 15, 13, 19, 14, 18, 17, 11])\n",
    "EQUATION_ARR = [np.asarray([0]*(5))]*4 # Система нормальних рівнянь\n",
    "AGENTS = []\n",
    "prediction_type = 1\n",
    "\n",
    "class Gaus_line_equation:\n",
    "    def __init__(self, y, F1, F2, coef3):\n",
    "        self.y = y\n",
    "        self.coefs_a = [1, F1, F2, coef3]\n",
    "        self.array = []\n",
    "        for i in range(len(self.coefs_a)):\n",
    "            temp_arr = [self.y]+self.coefs_a\n",
    "            x = np.asarray(temp_arr)*self.coefs_a[i]\n",
    "            self.array.append(x)\n",
    "\n",
    "\n",
    "def get_coef3(i):\n",
    "    if prediction_type == 2:\n",
    "        coef = pow(data[i-2],2)* data[i-1]\n",
    "    elif prediction_type == 3:\n",
    "        coef = data[i-2]* pow(data[i-1],2)\n",
    "    else:\n",
    "        coef = data[i-2]* data[i-1]\n",
    "    return coef\n",
    "\n",
    "# функція похибки\n",
    "def mean_square_deviation(real, predicted):\n",
    "    s = 0\n",
    "    for i in range(len(real)):\n",
    "        s += pow(real[i] - predicted[i], 2)\n",
    "    return pow(s/len(real), 0.5)"
   ]
  },
  {
   "cell_type": "markdown",
   "metadata": {},
   "source": [
    "### створення міні агнетів для розвязування Гауса"
   ]
  },
  {
   "cell_type": "code",
   "execution_count": 325,
   "metadata": {},
   "outputs": [],
   "source": [
    "def make_agents():\n",
    "    global AGENTS\n",
    "    AGENTS = [] \n",
    "    for i in range(2,len(data)):\n",
    "        AGENTS.append(Gaus_line_equation(data[i], data[i-2], data[i-1], get_coef3(i)))"
   ]
  },
  {
   "cell_type": "markdown",
   "metadata": {},
   "source": [
    "### створення рівнянь"
   ]
  },
  {
   "cell_type": "code",
   "execution_count": 326,
   "metadata": {},
   "outputs": [],
   "source": [
    "def make_equation():\n",
    "    global EQUATION_ARR\n",
    "    EQUATION_ARR = [np.asarray([0]*(5))]*4 # Система нормальних рівнянь\n",
    "    for i in range(len(EQUATION_ARR)):\n",
    "        for agent in AGENTS:\n",
    "            EQUATION_ARR[i] = EQUATION_ARR[i] + agent.array[i]\n",
    "    B = np.array([EQUATION_ARR[i][0] for i in range(len(EQUATION_ARR))])\n",
    "    A = np.array([EQUATION_ARR[i][1:] for i in range(len(EQUATION_ARR))])\n",
    "    coef = np.linalg.solve(A, B)\n",
    "    return coef"
   ]
  },
  {
   "cell_type": "markdown",
   "metadata": {},
   "source": [
    "### Передбачення"
   ]
  },
  {
   "cell_type": "code",
   "execution_count": 327,
   "metadata": {},
   "outputs": [],
   "source": [
    "def predict(coef):\n",
    "    real_data = data[2:]\n",
    "    predictions = []\n",
    "    for i in range(2,len(data)+1):\n",
    "        prediction = coef[0] + coef[1]*data[i-2] + coef[2]*data[i-1] + coef[3] * get_coef3(i)\n",
    "        predictions.append(prediction)\n",
    "\n",
    "    print(f\"\\nПохибка: S = {mean_square_deviation(real_data, predictions)}\")\n",
    "    return predictions"
   ]
  },
  {
   "cell_type": "markdown",
   "metadata": {},
   "source": [
    "## main"
   ]
  },
  {
   "cell_type": "code",
   "execution_count": 328,
   "metadata": {},
   "outputs": [
    {
     "name": "stdout",
     "output_type": "stream",
     "text": [
      "\n",
      "Коефіцієнти:\n",
      "a0 = -73.86418339166514\n",
      "a1 = 6.830730297124161\n",
      "a2 = 5.744144323040659\n",
      "a3 = -0.4408105586906516\n",
      "\n",
      "Похибка: S = 1.6791546708401615\n",
      "23.012244737740986\n",
      "\n",
      "Коефіцієнти:\n",
      "a0 = -48.453395049911805\n",
      "a1 = 5.445391022901181\n",
      "a2 = 1.6549213473285025\n",
      "a3 = -0.012003676704513975\n",
      "\n",
      "Похибка: S = 0.974511584215631\n",
      "24.16269891637188\n",
      "\n",
      "Коефіцієнти:\n",
      "a0 = -74.36694936508212\n",
      "a1 = 3.3807740153595285\n",
      "a2 = 5.825193295261083\n",
      "a3 = -0.014032508610356112\n",
      "\n",
      "Похибка: S = 1.9642588116621387\n",
      "18.318464932399255\n"
     ]
    }
   ],
   "source": [
    "list_predictions = []\n",
    "for i in range(1,4):\n",
    "    prediction_type = i\n",
    "    make_agents()\n",
    "    coef = make_equation()\n",
    "\n",
    "    print(\"\\nКоефіцієнти:\")\n",
    "    print(\"a0 =\", coef[0])\n",
    "    print(\"a1 =\", coef[1])\n",
    "    print(\"a2 =\", coef[2])\n",
    "    print(\"a3 =\", coef[3])\n",
    "\n",
    "    predictions = predict(coef)\n",
    "    print(predictions[-1])\n",
    "    list_predictions.append(predictions)"
   ]
  },
  {
   "cell_type": "markdown",
   "metadata": {},
   "source": [
    "### neural network"
   ]
  },
  {
   "cell_type": "code",
   "execution_count": 329,
   "metadata": {},
   "outputs": [
    {
     "name": "stdout",
     "output_type": "stream",
     "text": [
      "1/1 [==============================] - 0s 38ms/step\n",
      "Прогноз: 26.787097930908203\n"
     ]
    }
   ],
   "source": [
    "x = []\n",
    "y = []\n",
    "for i in range(2,len(data)):\n",
    "    pred1,pred2,pred3 = [*zip(*list_predictions)][:-1][i-2]\n",
    "    x.append([data[i-2], data[i-1], pred1, pred2, pred3])\n",
    "    y.append(data[i])\n",
    "x = np.asarray(x)\n",
    "y = np.asarray(y)\n",
    "\n",
    "model = tf.keras.Sequential()\n",
    "model.add(tf.keras.layers.Dense(units=1, activation=tf.keras.activations.relu, input_shape=(5,),\n",
    "                                kernel_initializer=tf.keras.initializers.GlorotUniform(seed=11) ))\n",
    "model.compile(optimizer=tf.keras.optimizers.RMSprop(0.001), loss=tf.keras.losses.mean_squared_error, metrics=[tf.keras.metrics.mean_squared_error])\n",
    "\n",
    "model.fit(x, y, epochs=700, verbose=False)\n",
    "pred1,pred2,pred3 = [*zip(*list_predictions)][-1]\n",
    "prediction = model.predict(np.array([[ data[-2], data[-1], pred1, pred2, pred3]]))\n",
    "print(f\"Прогноз: {prediction[0][0]}\")"
   ]
  },
  {
   "cell_type": "code",
   "execution_count": 330,
   "metadata": {},
   "outputs": [
    {
     "name": "stdout",
     "output_type": "stream",
     "text": [
      "1/1 [==============================] - 0s 19ms/step\n"
     ]
    },
    {
     "name": "stdout",
     "output_type": "stream",
     "text": [
      "[[12.500978]]\n",
      "1/1 [==============================] - 0s 23ms/step\n",
      "[[20.117556]]\n",
      "1/1 [==============================] - 0s 20ms/step\n",
      "[[14.230274]]\n",
      "1/1 [==============================] - 0s 20ms/step\n",
      "[[19.139559]]\n",
      "1/1 [==============================] - 0s 21ms/step\n",
      "[[14.113716]]\n",
      "1/1 [==============================] - 0s 25ms/step\n",
      "[[11.181465]]\n",
      "1/1 [==============================] - 0s 22ms/step\n",
      "[[26.787098]]\n"
     ]
    }
   ],
   "source": [
    "predictions = []\n",
    "for i in range(2,len(data)+1):\n",
    "    pred1,pred2,pred3 = [*zip(*list_predictions)][i-2]\n",
    "    prediction = model.predict(np.array([[ data[i-2], data[i-1], pred1, pred2, pred3]]))\n",
    "    print(prediction)\n",
    "    predictions.append(prediction[0][0])\n",
    "list_predictions.append(predictions)"
   ]
  },
  {
   "cell_type": "markdown",
   "metadata": {},
   "source": [
    "### plot"
   ]
  },
  {
   "cell_type": "code",
   "execution_count": 331,
   "metadata": {},
   "outputs": [
    {
     "data": {
      "application/vnd.plotly.v1+json": {
       "config": {
        "plotlyServerURL": "https://plot.ly"
       },
       "data": [
        {
         "mode": "lines",
         "name": "Правдиві дані",
         "type": "scatter",
         "x": [
          1,
          2,
          3,
          4,
          5,
          6,
          7,
          8
         ],
         "y": [
          10,
          15,
          13,
          19,
          14,
          18,
          17,
          11
         ]
        },
        {
         "mode": "lines",
         "name": "Передбачення1",
         "type": "scatter",
         "x": [
          3,
          4,
          5,
          6,
          7,
          8,
          9
         ],
         "y": [
          14.48370062158861,
          17.312588320048775,
          15.193844612130505,
          19.08210416454979,
          14.076377792760752,
          11.851384488921553,
          23.012244737740986
         ]
        },
        {
         "mode": "lines",
         "name": "Передбачення2",
         "type": "scatter",
         "x": [
          3,
          4,
          5,
          6,
          7,
          8,
          9
         ],
         "y": [
          12.818820332256582,
          19.630693448173076,
          15.236387948850727,
          17.511351183196048,
          15.221692109092466,
          11.581054978431027,
          24.16269891637188
         ]
        },
        {
         "mode": "lines",
         "name": "Передбачення3",
         "type": "scatter",
         "x": [
          3,
          4,
          5,
          6,
          7,
          8,
          9
         ],
         "y": [
          15.245545844128149,
          16.49976437645214,
          14.407222536151082,
          19.163400995437925,
          14.165907108075437,
          12.518159139755312,
          18.318464932399255
         ]
        },
        {
         "mode": "lines",
         "name": "Передбачення4",
         "type": "scatter",
         "x": [
          3,
          4,
          5,
          6,
          7,
          8,
          9
         ],
         "y": [
          12.500978469848633,
          20.117555618286133,
          14.230274200439453,
          19.139558792114258,
          14.113716125488281,
          11.181465148925781,
          26.787097930908203
         ]
        }
       ],
       "layout": {
        "template": {
         "data": {
          "bar": [
           {
            "error_x": {
             "color": "#2a3f5f"
            },
            "error_y": {
             "color": "#2a3f5f"
            },
            "marker": {
             "line": {
              "color": "#E5ECF6",
              "width": 0.5
             },
             "pattern": {
              "fillmode": "overlay",
              "size": 10,
              "solidity": 0.2
             }
            },
            "type": "bar"
           }
          ],
          "barpolar": [
           {
            "marker": {
             "line": {
              "color": "#E5ECF6",
              "width": 0.5
             },
             "pattern": {
              "fillmode": "overlay",
              "size": 10,
              "solidity": 0.2
             }
            },
            "type": "barpolar"
           }
          ],
          "carpet": [
           {
            "aaxis": {
             "endlinecolor": "#2a3f5f",
             "gridcolor": "white",
             "linecolor": "white",
             "minorgridcolor": "white",
             "startlinecolor": "#2a3f5f"
            },
            "baxis": {
             "endlinecolor": "#2a3f5f",
             "gridcolor": "white",
             "linecolor": "white",
             "minorgridcolor": "white",
             "startlinecolor": "#2a3f5f"
            },
            "type": "carpet"
           }
          ],
          "choropleth": [
           {
            "colorbar": {
             "outlinewidth": 0,
             "ticks": ""
            },
            "type": "choropleth"
           }
          ],
          "contour": [
           {
            "colorbar": {
             "outlinewidth": 0,
             "ticks": ""
            },
            "colorscale": [
             [
              0,
              "#0d0887"
             ],
             [
              0.1111111111111111,
              "#46039f"
             ],
             [
              0.2222222222222222,
              "#7201a8"
             ],
             [
              0.3333333333333333,
              "#9c179e"
             ],
             [
              0.4444444444444444,
              "#bd3786"
             ],
             [
              0.5555555555555556,
              "#d8576b"
             ],
             [
              0.6666666666666666,
              "#ed7953"
             ],
             [
              0.7777777777777778,
              "#fb9f3a"
             ],
             [
              0.8888888888888888,
              "#fdca26"
             ],
             [
              1,
              "#f0f921"
             ]
            ],
            "type": "contour"
           }
          ],
          "contourcarpet": [
           {
            "colorbar": {
             "outlinewidth": 0,
             "ticks": ""
            },
            "type": "contourcarpet"
           }
          ],
          "heatmap": [
           {
            "colorbar": {
             "outlinewidth": 0,
             "ticks": ""
            },
            "colorscale": [
             [
              0,
              "#0d0887"
             ],
             [
              0.1111111111111111,
              "#46039f"
             ],
             [
              0.2222222222222222,
              "#7201a8"
             ],
             [
              0.3333333333333333,
              "#9c179e"
             ],
             [
              0.4444444444444444,
              "#bd3786"
             ],
             [
              0.5555555555555556,
              "#d8576b"
             ],
             [
              0.6666666666666666,
              "#ed7953"
             ],
             [
              0.7777777777777778,
              "#fb9f3a"
             ],
             [
              0.8888888888888888,
              "#fdca26"
             ],
             [
              1,
              "#f0f921"
             ]
            ],
            "type": "heatmap"
           }
          ],
          "heatmapgl": [
           {
            "colorbar": {
             "outlinewidth": 0,
             "ticks": ""
            },
            "colorscale": [
             [
              0,
              "#0d0887"
             ],
             [
              0.1111111111111111,
              "#46039f"
             ],
             [
              0.2222222222222222,
              "#7201a8"
             ],
             [
              0.3333333333333333,
              "#9c179e"
             ],
             [
              0.4444444444444444,
              "#bd3786"
             ],
             [
              0.5555555555555556,
              "#d8576b"
             ],
             [
              0.6666666666666666,
              "#ed7953"
             ],
             [
              0.7777777777777778,
              "#fb9f3a"
             ],
             [
              0.8888888888888888,
              "#fdca26"
             ],
             [
              1,
              "#f0f921"
             ]
            ],
            "type": "heatmapgl"
           }
          ],
          "histogram": [
           {
            "marker": {
             "pattern": {
              "fillmode": "overlay",
              "size": 10,
              "solidity": 0.2
             }
            },
            "type": "histogram"
           }
          ],
          "histogram2d": [
           {
            "colorbar": {
             "outlinewidth": 0,
             "ticks": ""
            },
            "colorscale": [
             [
              0,
              "#0d0887"
             ],
             [
              0.1111111111111111,
              "#46039f"
             ],
             [
              0.2222222222222222,
              "#7201a8"
             ],
             [
              0.3333333333333333,
              "#9c179e"
             ],
             [
              0.4444444444444444,
              "#bd3786"
             ],
             [
              0.5555555555555556,
              "#d8576b"
             ],
             [
              0.6666666666666666,
              "#ed7953"
             ],
             [
              0.7777777777777778,
              "#fb9f3a"
             ],
             [
              0.8888888888888888,
              "#fdca26"
             ],
             [
              1,
              "#f0f921"
             ]
            ],
            "type": "histogram2d"
           }
          ],
          "histogram2dcontour": [
           {
            "colorbar": {
             "outlinewidth": 0,
             "ticks": ""
            },
            "colorscale": [
             [
              0,
              "#0d0887"
             ],
             [
              0.1111111111111111,
              "#46039f"
             ],
             [
              0.2222222222222222,
              "#7201a8"
             ],
             [
              0.3333333333333333,
              "#9c179e"
             ],
             [
              0.4444444444444444,
              "#bd3786"
             ],
             [
              0.5555555555555556,
              "#d8576b"
             ],
             [
              0.6666666666666666,
              "#ed7953"
             ],
             [
              0.7777777777777778,
              "#fb9f3a"
             ],
             [
              0.8888888888888888,
              "#fdca26"
             ],
             [
              1,
              "#f0f921"
             ]
            ],
            "type": "histogram2dcontour"
           }
          ],
          "mesh3d": [
           {
            "colorbar": {
             "outlinewidth": 0,
             "ticks": ""
            },
            "type": "mesh3d"
           }
          ],
          "parcoords": [
           {
            "line": {
             "colorbar": {
              "outlinewidth": 0,
              "ticks": ""
             }
            },
            "type": "parcoords"
           }
          ],
          "pie": [
           {
            "automargin": true,
            "type": "pie"
           }
          ],
          "scatter": [
           {
            "fillpattern": {
             "fillmode": "overlay",
             "size": 10,
             "solidity": 0.2
            },
            "type": "scatter"
           }
          ],
          "scatter3d": [
           {
            "line": {
             "colorbar": {
              "outlinewidth": 0,
              "ticks": ""
             }
            },
            "marker": {
             "colorbar": {
              "outlinewidth": 0,
              "ticks": ""
             }
            },
            "type": "scatter3d"
           }
          ],
          "scattercarpet": [
           {
            "marker": {
             "colorbar": {
              "outlinewidth": 0,
              "ticks": ""
             }
            },
            "type": "scattercarpet"
           }
          ],
          "scattergeo": [
           {
            "marker": {
             "colorbar": {
              "outlinewidth": 0,
              "ticks": ""
             }
            },
            "type": "scattergeo"
           }
          ],
          "scattergl": [
           {
            "marker": {
             "colorbar": {
              "outlinewidth": 0,
              "ticks": ""
             }
            },
            "type": "scattergl"
           }
          ],
          "scattermapbox": [
           {
            "marker": {
             "colorbar": {
              "outlinewidth": 0,
              "ticks": ""
             }
            },
            "type": "scattermapbox"
           }
          ],
          "scatterpolar": [
           {
            "marker": {
             "colorbar": {
              "outlinewidth": 0,
              "ticks": ""
             }
            },
            "type": "scatterpolar"
           }
          ],
          "scatterpolargl": [
           {
            "marker": {
             "colorbar": {
              "outlinewidth": 0,
              "ticks": ""
             }
            },
            "type": "scatterpolargl"
           }
          ],
          "scatterternary": [
           {
            "marker": {
             "colorbar": {
              "outlinewidth": 0,
              "ticks": ""
             }
            },
            "type": "scatterternary"
           }
          ],
          "surface": [
           {
            "colorbar": {
             "outlinewidth": 0,
             "ticks": ""
            },
            "colorscale": [
             [
              0,
              "#0d0887"
             ],
             [
              0.1111111111111111,
              "#46039f"
             ],
             [
              0.2222222222222222,
              "#7201a8"
             ],
             [
              0.3333333333333333,
              "#9c179e"
             ],
             [
              0.4444444444444444,
              "#bd3786"
             ],
             [
              0.5555555555555556,
              "#d8576b"
             ],
             [
              0.6666666666666666,
              "#ed7953"
             ],
             [
              0.7777777777777778,
              "#fb9f3a"
             ],
             [
              0.8888888888888888,
              "#fdca26"
             ],
             [
              1,
              "#f0f921"
             ]
            ],
            "type": "surface"
           }
          ],
          "table": [
           {
            "cells": {
             "fill": {
              "color": "#EBF0F8"
             },
             "line": {
              "color": "white"
             }
            },
            "header": {
             "fill": {
              "color": "#C8D4E3"
             },
             "line": {
              "color": "white"
             }
            },
            "type": "table"
           }
          ]
         },
         "layout": {
          "annotationdefaults": {
           "arrowcolor": "#2a3f5f",
           "arrowhead": 0,
           "arrowwidth": 1
          },
          "autotypenumbers": "strict",
          "coloraxis": {
           "colorbar": {
            "outlinewidth": 0,
            "ticks": ""
           }
          },
          "colorscale": {
           "diverging": [
            [
             0,
             "#8e0152"
            ],
            [
             0.1,
             "#c51b7d"
            ],
            [
             0.2,
             "#de77ae"
            ],
            [
             0.3,
             "#f1b6da"
            ],
            [
             0.4,
             "#fde0ef"
            ],
            [
             0.5,
             "#f7f7f7"
            ],
            [
             0.6,
             "#e6f5d0"
            ],
            [
             0.7,
             "#b8e186"
            ],
            [
             0.8,
             "#7fbc41"
            ],
            [
             0.9,
             "#4d9221"
            ],
            [
             1,
             "#276419"
            ]
           ],
           "sequential": [
            [
             0,
             "#0d0887"
            ],
            [
             0.1111111111111111,
             "#46039f"
            ],
            [
             0.2222222222222222,
             "#7201a8"
            ],
            [
             0.3333333333333333,
             "#9c179e"
            ],
            [
             0.4444444444444444,
             "#bd3786"
            ],
            [
             0.5555555555555556,
             "#d8576b"
            ],
            [
             0.6666666666666666,
             "#ed7953"
            ],
            [
             0.7777777777777778,
             "#fb9f3a"
            ],
            [
             0.8888888888888888,
             "#fdca26"
            ],
            [
             1,
             "#f0f921"
            ]
           ],
           "sequentialminus": [
            [
             0,
             "#0d0887"
            ],
            [
             0.1111111111111111,
             "#46039f"
            ],
            [
             0.2222222222222222,
             "#7201a8"
            ],
            [
             0.3333333333333333,
             "#9c179e"
            ],
            [
             0.4444444444444444,
             "#bd3786"
            ],
            [
             0.5555555555555556,
             "#d8576b"
            ],
            [
             0.6666666666666666,
             "#ed7953"
            ],
            [
             0.7777777777777778,
             "#fb9f3a"
            ],
            [
             0.8888888888888888,
             "#fdca26"
            ],
            [
             1,
             "#f0f921"
            ]
           ]
          },
          "colorway": [
           "#636efa",
           "#EF553B",
           "#00cc96",
           "#ab63fa",
           "#FFA15A",
           "#19d3f3",
           "#FF6692",
           "#B6E880",
           "#FF97FF",
           "#FECB52"
          ],
          "font": {
           "color": "#2a3f5f"
          },
          "geo": {
           "bgcolor": "white",
           "lakecolor": "white",
           "landcolor": "#E5ECF6",
           "showlakes": true,
           "showland": true,
           "subunitcolor": "white"
          },
          "hoverlabel": {
           "align": "left"
          },
          "hovermode": "closest",
          "mapbox": {
           "style": "light"
          },
          "paper_bgcolor": "white",
          "plot_bgcolor": "#E5ECF6",
          "polar": {
           "angularaxis": {
            "gridcolor": "white",
            "linecolor": "white",
            "ticks": ""
           },
           "bgcolor": "#E5ECF6",
           "radialaxis": {
            "gridcolor": "white",
            "linecolor": "white",
            "ticks": ""
           }
          },
          "scene": {
           "xaxis": {
            "backgroundcolor": "#E5ECF6",
            "gridcolor": "white",
            "gridwidth": 2,
            "linecolor": "white",
            "showbackground": true,
            "ticks": "",
            "zerolinecolor": "white"
           },
           "yaxis": {
            "backgroundcolor": "#E5ECF6",
            "gridcolor": "white",
            "gridwidth": 2,
            "linecolor": "white",
            "showbackground": true,
            "ticks": "",
            "zerolinecolor": "white"
           },
           "zaxis": {
            "backgroundcolor": "#E5ECF6",
            "gridcolor": "white",
            "gridwidth": 2,
            "linecolor": "white",
            "showbackground": true,
            "ticks": "",
            "zerolinecolor": "white"
           }
          },
          "shapedefaults": {
           "line": {
            "color": "#2a3f5f"
           }
          },
          "ternary": {
           "aaxis": {
            "gridcolor": "white",
            "linecolor": "white",
            "ticks": ""
           },
           "baxis": {
            "gridcolor": "white",
            "linecolor": "white",
            "ticks": ""
           },
           "bgcolor": "#E5ECF6",
           "caxis": {
            "gridcolor": "white",
            "linecolor": "white",
            "ticks": ""
           }
          },
          "title": {
           "x": 0.05
          },
          "xaxis": {
           "automargin": true,
           "gridcolor": "white",
           "linecolor": "white",
           "ticks": "",
           "title": {
            "standoff": 15
           },
           "zerolinecolor": "white",
           "zerolinewidth": 2
          },
          "yaxis": {
           "automargin": true,
           "gridcolor": "white",
           "linecolor": "white",
           "ticks": "",
           "title": {
            "standoff": 15
           },
           "zerolinecolor": "white",
           "zerolinewidth": 2
          }
         }
        }
       }
      }
     },
     "metadata": {},
     "output_type": "display_data"
    }
   ],
   "source": [
    "import plotly.graph_objects  as go\n",
    "\n",
    "fig = go.Figure()\n",
    "fig.add_trace(go.Scatter(x=list(range(1,1+len(data))), y=data, mode='lines', name='Правдиві дані'))\n",
    "i=0\n",
    "for predictions in list_predictions:\n",
    "    fig.add_trace(go.Scatter(x=list(range(3,3+len(predictions))), y=predictions, mode='lines', name='Передбачення'+str(i+1)))\n",
    "    i+=1\n",
    "fig.show()"
   ]
  }
 ],
 "metadata": {
  "kernelspec": {
   "display_name": "Python 3",
   "language": "python",
   "name": "python3"
  },
  "language_info": {
   "codemirror_mode": {
    "name": "ipython",
    "version": 3
   },
   "file_extension": ".py",
   "mimetype": "text/x-python",
   "name": "python",
   "nbconvert_exporter": "python",
   "pygments_lexer": "ipython3",
   "version": "3.11.6"
  }
 },
 "nbformat": 4,
 "nbformat_minor": 2
}
