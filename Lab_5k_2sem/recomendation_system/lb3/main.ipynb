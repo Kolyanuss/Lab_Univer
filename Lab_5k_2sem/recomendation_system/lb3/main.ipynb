{
 "cells": [
  {
   "cell_type": "code",
   "execution_count": 1,
   "metadata": {},
   "outputs": [],
   "source": [
    "import torch\n",
    "from torch import nn\n",
    "import torch.nn.functional as F"
   ]
  },
  {
   "cell_type": "code",
   "execution_count": null,
   "metadata": {},
   "outputs": [],
   "source": [
    "\n",
    "class MF(nn.Module):\n",
    "    def __init__(self, num_users, num_items, embedding_dim, c_vector=1.0):\n",
    "        super(MF, self).__init__()\n",
    "        \n",
    "        # Embedding layers for users and items\n",
    "        self.user = nn.Embedding(num_users, embedding_dim)\n",
    "        self.item = nn.Embedding(num_items, embedding_dim)\n",
    "        \n",
    "        # Constant regularization hyperparameter\n",
    "        self.c_vector = c_vector\n",
    "\n",
    "        # Initialize weights for the embedding layers\n",
    "        nn.init.normal_(self.user.weight, std=0.01)\n",
    "        nn.init.normal_(self.item.weight, std=0.01)\n",
    "\n",
    "    def forward(self, train_x):\n",
    "        # Отримання індексів користувачів та товарів\n",
    "        user_id = train_x[:, 0]  # Індекси користувачів\n",
    "        item_id = train_x[:, 1]  # Індекси товарів\n",
    "\n",
    "        # Ініціалізація вектора користувача та товару з використанням їх індексів\n",
    "        vector_user = self.user(user_id)\n",
    "        vector_item = self.item(item_id)\n",
    "\n",
    "        # Обчислення взаємодії користувача та товару: добуток p_u та q_i\n",
    "        ui_interaction = torch.sum(vector_user * vector_item, dim=1)\n",
    "        \n",
    "        return ui_interaction\n",
    "\n",
    "    \n",
    "    def loss(self, prediction, target):\n",
    "        # Обчислення середньоквадратичної помилки між цільовим значенням та передбаченням\n",
    "        loss_mse = F.mse_loss(prediction, target.squeeze())\n",
    "\n",
    "        # Регуляризація L2 для матриць користувачів та товарів\n",
    "        prior_user = l2_regularize(self.user.weight) * self.c_vector\n",
    "        prior_item = l2_regularize(self.item.weight) * self.c_vector\n",
    "\n",
    "        # Сума середньоквадратичної помилки та регуляризації\n",
    "        total = loss_mse + prior_user + prior_item\n",
    "        return total\n",
    "\n",
    "def l2_regularize(tensor):\n",
    "    # Обчислення L2 регуляризації для тензора\n",
    "    return torch.norm(tensor, p=2)\n"
   ]
  }
 ],
 "metadata": {
  "kernelspec": {
   "display_name": "Python 3",
   "language": "python",
   "name": "python3"
  },
  "language_info": {
   "codemirror_mode": {
    "name": "ipython",
    "version": 3
   },
   "file_extension": ".py",
   "mimetype": "text/x-python",
   "name": "python",
   "nbconvert_exporter": "python",
   "pygments_lexer": "ipython3",
   "version": "3.11.8"
  }
 },
 "nbformat": 4,
 "nbformat_minor": 2
}
