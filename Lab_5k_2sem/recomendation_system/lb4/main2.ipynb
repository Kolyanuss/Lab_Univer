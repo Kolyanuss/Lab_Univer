{
 "cells": [
  {
   "cell_type": "code",
   "execution_count": 7,
   "metadata": {},
   "outputs": [],
   "source": [
    "import pandas as pd\n",
    "import numpy as np\n",
    "from sklearn.feature_extraction.text import TfidfVectorizer\n",
    "from sklearn.decomposition import LatentDirichletAllocation\n",
    "from sklearn.metrics.pairwise import cosine_similarity\n",
    "from sklearn.model_selection import train_test_split"
   ]
  },
  {
   "cell_type": "code",
   "execution_count": 8,
   "metadata": {},
   "outputs": [],
   "source": [
    "data = pd.read_csv('movie_descriptions.csv')\n",
    "descriptions = data['description'].values\n",
    "\n",
    "train_data, test_data = train_test_split(data, test_size=0.2, random_state=42)"
   ]
  },
  {
   "cell_type": "code",
   "execution_count": 9,
   "metadata": {},
   "outputs": [],
   "source": [
    "# TF-IDF\n",
    "tfidf_vectorizer = TfidfVectorizer(stop_words='english')\n",
    "tfidf_matrix_train = tfidf_vectorizer.fit_transform(train_data['description'])\n",
    "\n",
    "# LDA\n",
    "lda = LatentDirichletAllocation(n_components=10, random_state=42)\n",
    "lda_matrix_train = lda.fit_transform(tfidf_matrix_train)\n",
    "\n",
    "# Генерація профілів фільмів для тренувального набору\n",
    "tfidf_movie_profiles_train = tfidf_matrix_train\n",
    "lda_movie_profiles_train = lda_matrix_train\n"
   ]
  },
  {
   "cell_type": "code",
   "execution_count": 13,
   "metadata": {},
   "outputs": [],
   "source": [
    "\n",
    "def get_recommendations(user_profile, movie_profiles, top_n=5):\n",
    "    cosine_similarities = cosine_similarity(\n",
    "        user_profile.reshape(1, -1), movie_profiles).flatten()\n",
    "    recommended_movie_ids = cosine_similarities.argsort()[-top_n:][::-1]\n",
    "    return recommended_movie_ids\n",
    "\n",
    "\n",
    "def evaluate_model(test_data, model_profiles, train_data, model_name):\n",
    "    hits = 0\n",
    "    total = 0\n",
    "    for idx, row in test_data.iterrows():\n",
    "        # Передбачається, що користувач оцінює цей фільм високо\n",
    "        user_ratings = {row['title']: 5}\n",
    "        rated_movie_ids = []\n",
    "        for movie in user_ratings.keys():\n",
    "            matched_movies = train_data[train_data['title'] == movie].index\n",
    "            if not matched_movies.empty:\n",
    "                rated_movie_ids.append(matched_movies[0])\n",
    "\n",
    "        if rated_movie_ids:\n",
    "            # weight = [\n",
    "            #     user_ratings[movie] for movie in user_ratings.keys() \n",
    "            #     if movie in train_data['title'].values]\n",
    "            weight = list(user_ratings.values())\n",
    "            user_profile = np.average(\n",
    "                model_profiles[rated_movie_ids], axis=0, weights=weight)\n",
    "            recommendations = get_recommendations(user_profile, model_profiles)\n",
    "            recommended_movies = train_data.iloc[recommendations]['title'].values\n",
    "            if row['title'] in recommended_movies:\n",
    "                hits += 1\n",
    "            total += 1\n",
    "\n",
    "    precision = hits / total if total > 0 else 0\n",
    "    print(f\"{model_name} Precision: {precision:.2f}\")"
   ]
  },
  {
   "cell_type": "code",
   "execution_count": 14,
   "metadata": {},
   "outputs": [
    {
     "ename": "IndexError",
     "evalue": "index (26) out of range",
     "output_type": "error",
     "traceback": [
      "\u001b[1;31m---------------------------------------------------------------------------\u001b[0m",
      "\u001b[1;31mIndexError\u001b[0m                                Traceback (most recent call last)",
      "Cell \u001b[1;32mIn[14], line 1\u001b[0m\n\u001b[1;32m----> 1\u001b[0m \u001b[43mevaluate_model\u001b[49m\u001b[43m(\u001b[49m\u001b[43mtest_data\u001b[49m\u001b[43m,\u001b[49m\u001b[43m \u001b[49m\u001b[43mtfidf_movie_profiles_train\u001b[49m\u001b[43m,\u001b[49m\u001b[43m \u001b[49m\u001b[43mtrain_data\u001b[49m\u001b[43m,\u001b[49m\u001b[43m \u001b[49m\u001b[38;5;124;43m\"\u001b[39;49m\u001b[38;5;124;43mTF-IDF\u001b[39;49m\u001b[38;5;124;43m\"\u001b[39;49m\u001b[43m)\u001b[49m\n\u001b[0;32m      2\u001b[0m evaluate_model(test_data, lda_movie_profiles_train, train_data, \u001b[38;5;124m\"\u001b[39m\u001b[38;5;124mLDA\u001b[39m\u001b[38;5;124m\"\u001b[39m)\n",
      "Cell \u001b[1;32mIn[13], line 26\u001b[0m, in \u001b[0;36mevaluate_model\u001b[1;34m(test_data, model_profiles, train_data, model_name)\u001b[0m\n\u001b[0;32m     21\u001b[0m weight \u001b[38;5;241m=\u001b[39m [\n\u001b[0;32m     22\u001b[0m     user_ratings[movie] \u001b[38;5;28;01mfor\u001b[39;00m movie \u001b[38;5;129;01min\u001b[39;00m user_ratings\u001b[38;5;241m.\u001b[39mkeys() \n\u001b[0;32m     23\u001b[0m     \u001b[38;5;28;01mif\u001b[39;00m movie \u001b[38;5;129;01min\u001b[39;00m train_data[\u001b[38;5;124m'\u001b[39m\u001b[38;5;124mtitle\u001b[39m\u001b[38;5;124m'\u001b[39m]\u001b[38;5;241m.\u001b[39mvalues]\n\u001b[0;32m     24\u001b[0m weight \u001b[38;5;241m=\u001b[39m \u001b[38;5;28mlist\u001b[39m(user_ratings\u001b[38;5;241m.\u001b[39mvalues())\n\u001b[0;32m     25\u001b[0m user_profile \u001b[38;5;241m=\u001b[39m np\u001b[38;5;241m.\u001b[39maverage(\n\u001b[1;32m---> 26\u001b[0m     \u001b[43mmodel_profiles\u001b[49m\u001b[43m[\u001b[49m\u001b[43mrated_movie_ids\u001b[49m\u001b[43m]\u001b[49m, axis\u001b[38;5;241m=\u001b[39m\u001b[38;5;241m0\u001b[39m, weights\u001b[38;5;241m=\u001b[39mweight)\n\u001b[0;32m     27\u001b[0m recommendations \u001b[38;5;241m=\u001b[39m get_recommendations(user_profile, model_profiles)\n\u001b[0;32m     28\u001b[0m recommended_movies \u001b[38;5;241m=\u001b[39m train_data\u001b[38;5;241m.\u001b[39miloc[recommendations][\u001b[38;5;124m'\u001b[39m\u001b[38;5;124mtitle\u001b[39m\u001b[38;5;124m'\u001b[39m]\u001b[38;5;241m.\u001b[39mvalues\n",
      "File \u001b[1;32mc:\\Program Files\\Python311\\Lib\\site-packages\\scipy\\sparse\\_index.py:46\u001b[0m, in \u001b[0;36mIndexMixin.__getitem__\u001b[1;34m(self, key)\u001b[0m\n\u001b[0;32m     45\u001b[0m \u001b[38;5;28;01mdef\u001b[39;00m \u001b[38;5;21m__getitem__\u001b[39m(\u001b[38;5;28mself\u001b[39m, key):\n\u001b[1;32m---> 46\u001b[0m     row, col \u001b[38;5;241m=\u001b[39m \u001b[38;5;28;43mself\u001b[39;49m\u001b[38;5;241;43m.\u001b[39;49m\u001b[43m_validate_indices\u001b[49m\u001b[43m(\u001b[49m\u001b[43mkey\u001b[49m\u001b[43m)\u001b[49m\n\u001b[0;32m     48\u001b[0m     \u001b[38;5;66;03m# Dispatch to specialized methods.\u001b[39;00m\n\u001b[0;32m     49\u001b[0m     \u001b[38;5;28;01mif\u001b[39;00m \u001b[38;5;28misinstance\u001b[39m(row, INT_TYPES):\n",
      "File \u001b[1;32mc:\\Program Files\\Python311\\Lib\\site-packages\\scipy\\sparse\\_index.py:158\u001b[0m, in \u001b[0;36mIndexMixin._validate_indices\u001b[1;34m(self, key)\u001b[0m\n\u001b[0;32m    156\u001b[0m         row \u001b[38;5;241m+\u001b[39m\u001b[38;5;241m=\u001b[39m M\n\u001b[0;32m    157\u001b[0m \u001b[38;5;28;01melif\u001b[39;00m \u001b[38;5;129;01mnot\u001b[39;00m \u001b[38;5;28misinstance\u001b[39m(row, \u001b[38;5;28mslice\u001b[39m):\n\u001b[1;32m--> 158\u001b[0m     row \u001b[38;5;241m=\u001b[39m \u001b[38;5;28;43mself\u001b[39;49m\u001b[38;5;241;43m.\u001b[39;49m\u001b[43m_asindices\u001b[49m\u001b[43m(\u001b[49m\u001b[43mrow\u001b[49m\u001b[43m,\u001b[49m\u001b[43m \u001b[49m\u001b[43mM\u001b[49m\u001b[43m)\u001b[49m\n\u001b[0;32m    160\u001b[0m \u001b[38;5;28;01mif\u001b[39;00m isintlike(col):\n\u001b[0;32m    161\u001b[0m     col \u001b[38;5;241m=\u001b[39m \u001b[38;5;28mint\u001b[39m(col)\n",
      "File \u001b[1;32mc:\\Program Files\\Python311\\Lib\\site-packages\\scipy\\sparse\\_index.py:190\u001b[0m, in \u001b[0;36mIndexMixin._asindices\u001b[1;34m(self, idx, length)\u001b[0m\n\u001b[0;32m    188\u001b[0m max_indx \u001b[38;5;241m=\u001b[39m x\u001b[38;5;241m.\u001b[39mmax()\n\u001b[0;32m    189\u001b[0m \u001b[38;5;28;01mif\u001b[39;00m max_indx \u001b[38;5;241m>\u001b[39m\u001b[38;5;241m=\u001b[39m length:\n\u001b[1;32m--> 190\u001b[0m     \u001b[38;5;28;01mraise\u001b[39;00m \u001b[38;5;167;01mIndexError\u001b[39;00m(\u001b[38;5;124m'\u001b[39m\u001b[38;5;124mindex (\u001b[39m\u001b[38;5;132;01m%d\u001b[39;00m\u001b[38;5;124m) out of range\u001b[39m\u001b[38;5;124m'\u001b[39m \u001b[38;5;241m%\u001b[39m max_indx)\n\u001b[0;32m    192\u001b[0m min_indx \u001b[38;5;241m=\u001b[39m x\u001b[38;5;241m.\u001b[39mmin()\n\u001b[0;32m    193\u001b[0m \u001b[38;5;28;01mif\u001b[39;00m min_indx \u001b[38;5;241m<\u001b[39m \u001b[38;5;241m0\u001b[39m:\n",
      "\u001b[1;31mIndexError\u001b[0m: index (26) out of range"
     ]
    }
   ],
   "source": [
    "evaluate_model(test_data, tfidf_movie_profiles_train, train_data, \"TF-IDF\")\n",
    "evaluate_model(test_data, lda_movie_profiles_train, train_data, \"LDA\")"
   ]
  }
 ],
 "metadata": {
  "kernelspec": {
   "display_name": "Python 3",
   "language": "python",
   "name": "python3"
  },
  "language_info": {
   "codemirror_mode": {
    "name": "ipython",
    "version": 3
   },
   "file_extension": ".py",
   "mimetype": "text/x-python",
   "name": "python",
   "nbconvert_exporter": "python",
   "pygments_lexer": "ipython3",
   "version": "3.11.8"
  }
 },
 "nbformat": 4,
 "nbformat_minor": 2
}
