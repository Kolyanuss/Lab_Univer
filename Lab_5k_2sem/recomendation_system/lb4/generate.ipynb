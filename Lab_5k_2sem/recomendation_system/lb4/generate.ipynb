{
 "cells": [
  {
   "cell_type": "code",
   "execution_count": 1,
   "metadata": {},
   "outputs": [
    {
     "name": "stdout",
     "output_type": "stream",
     "text": [
      "Файл movie_descriptions.csv успішно створено.\n"
     ]
    }
   ],
   "source": [
    "import csv\n",
    "import random\n",
    "\n",
    "# Список фіктивних назв та описів фільмів\n",
    "titles = [\n",
    "    \"Mystery of the Lost City\", \"The Great Adventure\", \"Journey to Mars\", \"The Hidden Treasure\",\n",
    "    \"Quest for the Golden Fleece\", \"The Secret of the Old Mansion\", \"Escape from Alcatraz\",\n",
    "    \"The Haunted Forest\", \"Legend of the Dragon\", \"The Last Frontier\", \"Pirates of the Caribbean\",\n",
    "    \"The Enchanted Castle\", \"The Time Traveler\", \"The Underwater Kingdom\", \"Invasion of the Aliens\",\n",
    "    \"The Phantom of the Opera\", \"The Quest for Excalibur\", \"The Ghost Ship\", \"The Sorcerer's Stone\",\n",
    "    \"The Battle of the Titans\", \"The Lost World\", \"The Rise of the Phoenix\", \"The Valley of the Kings\",\n",
    "    \"The Crystal Skull\", \"The Secret of the Pyramids\", \"The Curse of the Mummy\", \"The Forbidden Island\",\n",
    "    \"The Hidden Fortress\", \"The Return of the King\", \"The Dark Knight\"\n",
    "]\n",
    "\n",
    "descriptions = [\n",
    "    \"A thrilling adventure in the heart of an ancient city.\",\n",
    "    \"An epic journey across uncharted territories.\",\n",
    "    \"A mission to Mars that uncovers unexpected secrets.\",\n",
    "    \"A daring quest to find a hidden treasure.\",\n",
    "    \"A group of adventurers in search of a legendary artifact.\",\n",
    "    \"A mysterious mansion with dark secrets.\",\n",
    "    \"A high-stakes escape from the most notorious prison.\",\n",
    "    \"A forest haunted by spirits and mysteries.\",\n",
    "    \"A tale of dragons and brave warriors.\",\n",
    "    \"An expedition to the last uncharted frontier.\",\n",
    "    \"A swashbuckling adventure on the high seas.\",\n",
    "    \"A magical castle filled with wonders.\",\n",
    "    \"A time traveler who changes history.\",\n",
    "    \"An underwater kingdom with untold riches.\",\n",
    "    \"An alien invasion that threatens Earth.\",\n",
    "    \"A haunting story set in a grand opera house.\",\n",
    "    \"A quest for a mythical sword.\",\n",
    "    \"A ghost ship that appears every full moon.\",\n",
    "    \"A young wizard's journey to find a magical stone.\",\n",
    "    \"A battle between ancient titans.\",\n",
    "    \"An exploration of a world lost in time.\",\n",
    "    \"A phoenix rising from the ashes.\",\n",
    "    \"An archaeological dig in the Valley of the Kings.\",\n",
    "    \"A hunt for a crystal skull with mystical powers.\",\n",
    "    \"An adventure in the shadow of the pyramids.\",\n",
    "    \"A mummy's curse unleashed.\",\n",
    "    \"A journey to a forbidden island.\",\n",
    "    \"A hidden fortress with ancient secrets.\",\n",
    "    \"A king's return to reclaim his throne.\",\n",
    "    \"A dark knight fighting against evil.\"\n",
    "]\n",
    "\n",
    "# Генерація даних\n",
    "movies = [{\"title\": random.choice(titles), \"description\": random.choice(descriptions)} for _ in range(30)]\n",
    "\n",
    "# Збереження даних у CSV файл\n",
    "filename = 'movie_descriptions.csv'\n",
    "with open(filename, 'w', newline='', encoding='utf-8') as csvfile:\n",
    "    fieldnames = ['title', 'description']\n",
    "    writer = csv.DictWriter(csvfile, fieldnames=fieldnames)\n",
    "    writer.writeheader()\n",
    "    for movie in movies:\n",
    "        writer.writerow(movie)\n",
    "\n",
    "print(f'Файл {filename} успішно створено.')\n"
   ]
  }
 ],
 "metadata": {
  "kernelspec": {
   "display_name": "Python 3",
   "language": "python",
   "name": "python3"
  },
  "language_info": {
   "codemirror_mode": {
    "name": "ipython",
    "version": 3
   },
   "file_extension": ".py",
   "mimetype": "text/x-python",
   "name": "python",
   "nbconvert_exporter": "python",
   "pygments_lexer": "ipython3",
   "version": "3.11.8"
  }
 },
 "nbformat": 4,
 "nbformat_minor": 2
}
