{
 "cells": [
  {
   "cell_type": "code",
   "execution_count": 1,
   "metadata": {},
   "outputs": [],
   "source": [
    "import pandas as pd\n",
    "from sklearn.feature_extraction.text import TfidfVectorizer\n",
    "from sklearn.decomposition import LatentDirichletAllocation\n",
    "from sklearn.metrics.pairwise import cosine_similarity\n",
    "import numpy as np"
   ]
  },
  {
   "cell_type": "code",
   "execution_count": 2,
   "metadata": {},
   "outputs": [],
   "source": [
    "data = pd.read_csv('movie_descriptions.csv')  # де це брати? покищо згенерував\n",
    "descriptions = data['description'].values"
   ]
  },
  {
   "cell_type": "code",
   "execution_count": 3,
   "metadata": {},
   "outputs": [],
   "source": [
    "# TF-IDF\n",
    "tfidf_vectorizer = TfidfVectorizer(stop_words='english')\n",
    "tfidf_matrix = tfidf_vectorizer.fit_transform(descriptions)\n",
    "\n",
    "# LDA\n",
    "lda = LatentDirichletAllocation(n_components=10, random_state=42)\n",
    "lda_matrix = lda.fit_transform(tfidf_matrix)\n",
    "\n",
    "movie_profiles = lda_matrix"
   ]
  },
  {
   "cell_type": "code",
   "execution_count": 4,
   "metadata": {},
   "outputs": [],
   "source": [
    "# Приклад профілю користувача (припустимо, що користувач оцінив кілька фільмів)\n",
    "user_ratings = {'The Ghost Ship': 5, 'The Phantom of the Opera': 3, 'Pirates of the Caribbean': 4}  # Оцінки користувача\n",
    "rated_movie_ids = [data[data['title'] == movie].index[0] for movie in user_ratings.keys()]\n",
    "user_profile = np.average(movie_profiles[rated_movie_ids], axis=0, weights=list(user_ratings.values()))"
   ]
  },
  {
   "cell_type": "code",
   "execution_count": 5,
   "metadata": {},
   "outputs": [
    {
     "name": "stdout",
     "output_type": "stream",
     "text": [
      "Рекомендовані фільми: ['The Phantom of the Opera' 'The Crystal Skull' 'The Ghost Ship'\n",
      " 'Pirates of the Caribbean' 'Escape from Alcatraz']\n"
     ]
    }
   ],
   "source": [
    "# Рекомендації\n",
    "cosine_similarities = cosine_similarity(user_profile.reshape(1, -1), movie_profiles).flatten()\n",
    "recommended_movie_ids = cosine_similarities.argsort()[-5:][::-1]  # Топ-5 рекомендацій\n",
    "\n",
    "recommended_movies = data.iloc[recommended_movie_ids]['title'].values\n",
    "print(\"Рекомендовані фільми:\", recommended_movies)"
   ]
  }
 ],
 "metadata": {
  "kernelspec": {
   "display_name": "Python 3",
   "language": "python",
   "name": "python3"
  },
  "language_info": {
   "codemirror_mode": {
    "name": "ipython",
    "version": 3
   },
   "file_extension": ".py",
   "mimetype": "text/x-python",
   "name": "python",
   "nbconvert_exporter": "python",
   "pygments_lexer": "ipython3",
   "version": "3.11.8"
  }
 },
 "nbformat": 4,
 "nbformat_minor": 2
}
