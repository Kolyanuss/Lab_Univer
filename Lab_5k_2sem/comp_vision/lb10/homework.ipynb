{
 "cells": [
  {
   "cell_type": "code",
   "execution_count": 1,
   "metadata": {},
   "outputs": [],
   "source": [
    "import os\n",
    "import cv2\n",
    "drawing = False\n",
    "temp_folder = \"./temp\"\n",
    "video_path = './Neuer_Moments.mp4'\n",
    "\n",
    "cap = cv2.VideoCapture(video_path)\n",
    "\n",
    "def mouse_callback(event, x, y, flags, param):\n",
    "    global x1, y1, x2, y2, drawing\n",
    "    if event == cv2.EVENT_LBUTTONDOWN:\n",
    "        x1, y1 = x, y\n",
    "        x2, y2 = x, y\n",
    "        drawing = True\n",
    "    elif event == cv2.EVENT_MOUSEMOVE:\n",
    "        if drawing:\n",
    "            x2, y2 = x, y\n",
    "    elif event == cv2.EVENT_LBUTTONUP:\n",
    "        drawing = False"
   ]
  },
  {
   "cell_type": "markdown",
   "metadata": {},
   "source": [
    "скрипт для вибору об'єкта вручну\n",
    "використання: \n",
    "- нажимати любу кнопку щоб пропустити кадр.\n",
    "- коли знайшли потрібний кадр - виділити курсором об'єкт (немає ніяких візуальних підказок що ви виділили обєкт)\n",
    "- після виділення об'єкта - нажміть s\n",
    "В директорії створиться зображення з назвою first_frame.jpg на якому зможете переглянути виділення."
   ]
  },
  {
   "cell_type": "code",
   "execution_count": 2,
   "metadata": {},
   "outputs": [],
   "source": [
    "cv2.namedWindow('Frame')\n",
    "cv2.setMouseCallback('Frame', mouse_callback)\n",
    "x1, y1 = 0, 0\n",
    "x2, y2 = 0, 0\n",
    "\n",
    "# Ітерувати по кадрах відео\n",
    "ret, frame = cap.read()\n",
    "while ret:\n",
    "    # Відобразити кадр\n",
    "    cv2.imshow('Frame', frame)\n",
    "    \n",
    "    # Зупинитись коли нажата клавіша s\n",
    "    key = cv2.waitKey(0)\n",
    "    if key == ord('s'):\n",
    "        first_frame = frame.copy()\n",
    "        cv2.rectangle(first_frame, (x1, y1), (x2, y2), (0, 255, 0), 2)\n",
    "        cv2.imwrite('first_frame.jpg', first_frame)\n",
    "        break\n",
    "    \n",
    "    # Читати наступний кадр\n",
    "    ret, frame = cap.read()\n",
    "\n",
    "# Зберегти перший кадр з об'єктом\n",
    "cv2.destroyAllWindows()"
   ]
  },
  {
   "cell_type": "markdown",
   "metadata": {},
   "source": [
    "формую координати.\n",
    "створюю відстежувач за координатами на вибраному першому фото"
   ]
  },
  {
   "cell_type": "code",
   "execution_count": 3,
   "metadata": {},
   "outputs": [],
   "source": [
    "width, height = x2-x1, y2-y1\n",
    "bbox = (x1, y1, width, height)\n",
    "\n",
    "tracker = cv2.TrackerKCF_create()\n",
    "# tracker = cv2.TrackerMIL_create()\n",
    "# tracker = cv2.TrackerCSRT_create()\n",
    "\n",
    "ok = tracker.init(first_frame, bbox)"
   ]
  },
  {
   "cell_type": "markdown",
   "metadata": {},
   "source": [
    "скрипт для проходження по всім кадрам відео, та малювання рамок з допомогою трекера"
   ]
  },
  {
   "cell_type": "code",
   "execution_count": 4,
   "metadata": {},
   "outputs": [],
   "source": [
    "if not os.path.isdir(temp_folder):\n",
    "    os.mkdir(temp_folder)\n",
    "frame_count = 0\n",
    "cap = cv2.VideoCapture(video_path)\n",
    "while True:\n",
    "    # Читати наступний кадр\n",
    "    ret, frame = cap.read()\n",
    "    if not ret:\n",
    "        break\n",
    "    \n",
    "    # Оновити відстежувач\n",
    "    ok, bbox = tracker.update(frame)\n",
    "    \n",
    "    # Накласти прямокутник на кадр\n",
    "    if ok:\n",
    "        x, y, w, h = [int(v) for v in bbox]\n",
    "        cv2.rectangle(frame, (x, y), (x + w, y + h), (0, 255, 0), 2)\n",
    "    \n",
    "    # Відобразити кадр\n",
    "    cv2.imshow('Tracking', frame)\n",
    "    \n",
    "    # Зберегти кадр\n",
    "    frame_path = temp_folder + f'/frame_{frame_count}.jpg'\n",
    "    cv2.imwrite(frame_path, frame)\n",
    "    frame_count += 1\n",
    "    \n",
    "    # Затримка для відображення\n",
    "    key = cv2.waitKey(1) & 0xFF\n",
    "    if key == ord('q'):\n",
    "        break\n",
    "cv2.destroyAllWindows()"
   ]
  }
 ],
 "metadata": {
  "kernelspec": {
   "display_name": "Python 3",
   "language": "python",
   "name": "python3"
  },
  "language_info": {
   "codemirror_mode": {
    "name": "ipython",
    "version": 3
   },
   "file_extension": ".py",
   "mimetype": "text/x-python",
   "name": "python",
   "nbconvert_exporter": "python",
   "pygments_lexer": "ipython3",
   "version": "3.11.8"
  }
 },
 "nbformat": 4,
 "nbformat_minor": 2
}
