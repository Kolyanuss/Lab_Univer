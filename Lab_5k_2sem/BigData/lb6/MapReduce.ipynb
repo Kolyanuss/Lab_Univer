{
  "cells": [
    {
      "cell_type": "markdown",
      "metadata": {
        "cell_id": "00000-26bbc188-6161-4384-81d6-56e0e7fec378",
        "id": "0RG7r3mpnZVd",
        "output_cleared": false
      },
      "source": [
        "# Map Reduce\n",
        "\n",
        "Мета: написати скріпт для підрахунку слів за допомогою алгоритму map-reduce.\n"
      ]
    },
    {
      "cell_type": "markdown",
      "metadata": {
        "cell_id": "00001-42e2deda-cde4-4a15-8613-7f6887c2b946",
        "id": "DPU9qz5WnZVh",
        "output_cleared": false
      },
      "source": [
        "## `map` function example\n",
        "\n",
        "Функція `map(func, seq)`застосовує функцію func до всіх елементів послідовності seq. Він повертає новий список з елементами, що були змінені функцією func"
      ]
    },
    {
      "cell_type": "code",
      "execution_count": 5,
      "metadata": {
        "cell_id": "00002-da0bd233-0388-4413-b0ad-d5d8d6326966",
        "colab": {
          "base_uri": "https://localhost:8080/"
        },
        "execution_millis": 8,
        "execution_start": 1604475123788,
        "id": "yxZhadLYnZVi",
        "outputId": "6ec35353-912a-416c-99fe-dba356cbcfe1",
        "output_cleared": false,
        "source_hash": "95028dd2"
      },
      "outputs": [
        {
          "data": {
            "text/plain": [
              "<map at 0x1ed990bf6d0>"
            ]
          },
          "execution_count": 5,
          "metadata": {},
          "output_type": "execute_result"
        }
      ],
      "source": [
        "def f(x):\n",
        "    return x * x\n",
        "\n",
        "rdd = [2, 6, -3, 7]\n",
        "res = map(f, rdd )\n",
        "res  # Res is an iterator"
      ]
    },
    {
      "cell_type": "code",
      "execution_count": 6,
      "metadata": {
        "cell_id": "00003-8235787f-c264-4b77-8d37-544fad7a23ee",
        "colab": {
          "base_uri": "https://localhost:8080/"
        },
        "execution_millis": 4,
        "execution_start": 1604475123800,
        "id": "aomhVtQynZVk",
        "outputId": "1f415c1d-1c8b-443e-905c-7bb21fdfa262",
        "output_cleared": false,
        "source_hash": "e4befbff"
      },
      "outputs": [
        {
          "name": "stdout",
          "output_type": "stream",
          "text": [
            "4 36 9 49\n"
          ]
        }
      ],
      "source": [
        "print(*res)"
      ]
    },
    {
      "cell_type": "code",
      "execution_count": 7,
      "metadata": {
        "cell_id": "00004-d85df79e-12a9-4d71-86f2-7fb558857de8",
        "execution_millis": 2,
        "execution_start": 1604475123811,
        "id": "E6Fyhr6HnZVk",
        "output_cleared": false,
        "source_hash": "322388ee"
      },
      "outputs": [],
      "source": [
        "from operator import mul\n",
        "rdd1, rdd2 = [2, 6, -3, 7], [1, -4, 5, 3]\n",
        "res = map(mul, rdd1, rdd2 ) # element wise sum of rdd1 and rdd2"
      ]
    },
    {
      "cell_type": "code",
      "execution_count": 8,
      "metadata": {
        "cell_id": "00005-992df850-d6e1-4c73-bb34-2c588ab3cfd6",
        "colab": {
          "base_uri": "https://localhost:8080/"
        },
        "execution_millis": 3,
        "execution_start": 1604475123816,
        "id": "0zJYSoGKnZVl",
        "outputId": "518398ea-4693-42f9-8d01-8a1a43a019d7",
        "output_cleared": false,
        "source_hash": "e4befbff"
      },
      "outputs": [
        {
          "name": "stdout",
          "output_type": "stream",
          "text": [
            "2 -24 -15 21\n"
          ]
        }
      ],
      "source": [
        "print(*res)"
      ]
    },
    {
      "cell_type": "markdown",
      "metadata": {
        "cell_id": "00007-ab1aa2d6-1bf7-4809-8893-cb280a1a3100",
        "id": "BkFqPfdSnZVm",
        "output_cleared": false
      },
      "source": [
        "## `functools.reduce` example\n",
        "\n",
        "Функція`reduce(func, seq)` постійно застосовує функцію func() до послідовності seq і повертає одне значення.\n",
        "\n",
        "Наприклад, reduce(f, [1, 2, 3, 4, 5]) обчислює f(f(f(f(1,2),3),4),5)."
      ]
    },
    {
      "cell_type": "code",
      "execution_count": 9,
      "metadata": {
        "cell_id": "00008-819c928c-717c-45f4-a91c-69d920cb2e4a",
        "colab": {
          "base_uri": "https://localhost:8080/"
        },
        "execution_millis": 3,
        "execution_start": 1604475123824,
        "id": "IgQ6csbbnZVn",
        "outputId": "43dad1c9-fb5a-446c-d143-969bf1304677",
        "output_cleared": false,
        "source_hash": "59797020"
      },
      "outputs": [
        {
          "data": {
            "text/plain": [
              "15"
            ]
          },
          "execution_count": 9,
          "metadata": {},
          "output_type": "execute_result"
        }
      ],
      "source": [
        "from functools import reduce\n",
        "from operator import add\n",
        "rdd = list(range(1,6))\n",
        "reduce(add, rdd) # computes ((((1+2)+3)+4)+5)"
      ]
    },
    {
      "cell_type": "markdown",
      "metadata": {
        "cell_id": "00012-5cfbc3be-3d14-4ca2-b721-7ac4f5e0d1cf",
        "id": "MKbq8WX1nZVo",
        "output_cleared": false
      },
      "source": [
        "## Середнє зважене та  дисперсія\n",
        "\n",
        "\n",
        "Якщо генератор випадкових змінних $X$ є розподілом вірогідностей дискретної випадкової величини  $x_1 \\mapsto p_1, x_2 \\mapsto p_2, \\ldots, x_n \\mapsto p_n$ then\n",
        "\n",
        "$$\\operatorname{Var}(X) = \\left(\\sum_{i=1}^n p_i x_i ^2\\right) - \\mu^2,$$\n",
        "\n",
        "де $\\mu$ середнє значення:\n",
        "\n",
        "$$\\mu = \\sum_{i=1}^n p_i x_i. $$"
      ]
    },
    {
      "cell_type": "markdown",
      "metadata": {
        "cell_id": "00018-875fb32c-13fa-4fc5-9831-1ec50c8a4cc2",
        "id": "XQ-I3UWFnZVp",
        "output_cleared": false
      },
      "source": [
        "### Завдання 1\n",
        "\n",
        "- Напишіть функцію для обчислення середнього значення та дисперсії на основі циклів"
      ]
    },
    {
      "cell_type": "code",
      "execution_count": 10,
      "metadata": {
        "cell_id": "00013-4379b3f6-195b-4caf-9af9-a0def24cc2b6",
        "execution_millis": 4,
        "execution_start": 1604475123860,
        "id": "ls-bgTd8nZVp",
        "output_cleared": false,
        "source_hash": "27e1cebb"
      },
      "outputs": [],
      "source": [
        "X = [5, 1, 2, 3, 1, 2, 5, 4]\n",
        "P = [0.05, 0.05, 0.15, 0.05, 0.15, 0.2, 0.1, 0.25]"
      ]
    },
    {
      "cell_type": "code",
      "execution_count": 11,
      "metadata": {
        "colab": {
          "base_uri": "https://localhost:8080/"
        },
        "id": "JapC7TqWmFaY",
        "outputId": "0f0a5a5b-b4c6-4d06-9116-a1527c9780ef"
      },
      "outputs": [
        {
          "name": "stdout",
          "output_type": "stream",
          "text": [
            "mean: 2.8\n"
          ]
        }
      ],
      "source": [
        "u = 0\n",
        "for i in range(len(X)):\n",
        "  u += X[i] * P[i]\n",
        "print(\"mean:\", u)"
      ]
    },
    {
      "cell_type": "markdown",
      "metadata": {
        "id": "jxOeBb_NoIfN"
      },
      "source": [
        "2 варіанти підрахунку дисперсії"
      ]
    },
    {
      "cell_type": "code",
      "execution_count": 12,
      "metadata": {
        "colab": {
          "base_uri": "https://localhost:8080/"
        },
        "id": "A1BBZ51qLp_9",
        "outputId": "12f5cede-5b6b-474a-bffc-aeb300c96f77"
      },
      "outputs": [
        {
          "name": "stdout",
          "output_type": "stream",
          "text": [
            "Dispersion: 1.9600000000000017\n"
          ]
        }
      ],
      "source": [
        "u2 = 0\n",
        "for i in range(len(X)):\n",
        "  u2 += P[i] * X[i]**2\n",
        "res = u2 - u**2\n",
        "print(\"Dispersion:\", res)"
      ]
    },
    {
      "cell_type": "code",
      "execution_count": 13,
      "metadata": {
        "colab": {
          "base_uri": "https://localhost:8080/"
        },
        "id": "mLlbsyGHiaux",
        "outputId": "6f2e0500-db09-41f1-be35-f2aa714374bd"
      },
      "outputs": [
        {
          "name": "stdout",
          "output_type": "stream",
          "text": [
            "Dispersion: 1.9600000000000002\n"
          ]
        }
      ],
      "source": [
        "rez = 0\n",
        "for i in range(len(X)):\n",
        "  rez += P[i] * (X[i] - u)**2\n",
        "print(\"Dispersion:\", rez)"
      ]
    },
    {
      "cell_type": "markdown",
      "metadata": {
        "cell_id": "00019-1531b0c9-2685-47d5-ab7c-d9bbebc22beb",
        "id": "UHKob-9tnZVq",
        "output_cleared": false
      },
      "source": [
        "### Завдання 2\n",
        "Напишіть функцію для обчислення середнього значення та дисперсії за допомогою `map` and `reduce`"
      ]
    },
    {
      "cell_type": "code",
      "execution_count": 14,
      "metadata": {
        "cell_id": "00022-d9d47d25-2840-49dc-a6ba-1ba4e052db8b",
        "execution_millis": 1,
        "execution_start": 1604475141191,
        "id": "F3YFdNrRnZVp",
        "output_cleared": false,
        "source_hash": "f62aea75",
        "tags": []
      },
      "outputs": [],
      "source": [
        "from operator import mul, add\n",
        "from functools import reduce\n",
        "X = [5, 1, 2, 3, 1, 2, 5, 4]\n",
        "P = [0.05, 0.05, 0.15, 0.05, 0.15, 0.2, 0.1, 0.25]\n"
      ]
    },
    {
      "cell_type": "code",
      "execution_count": 15,
      "metadata": {
        "colab": {
          "base_uri": "https://localhost:8080/"
        },
        "id": "93SIxuFKZnJI",
        "outputId": "925c054e-fa5b-4bae-944c-2f9705bd034d"
      },
      "outputs": [
        {
          "data": {
            "text/plain": [
              "2.8"
            ]
          },
          "execution_count": 15,
          "metadata": {},
          "output_type": "execute_result"
        }
      ],
      "source": [
        "u = map(mul, X, P)\n",
        "# print(*u)\n",
        "u = reduce(add, u)\n",
        "u"
      ]
    },
    {
      "cell_type": "code",
      "execution_count": 16,
      "metadata": {
        "colab": {
          "base_uri": "https://localhost:8080/"
        },
        "id": "mf7APH2YefLX",
        "outputId": "cec65bc0-c6cd-4c1f-8748-5ea50f4a9b6e"
      },
      "outputs": [
        {
          "data": {
            "text/plain": [
              "1.9600000000000002"
            ]
          },
          "execution_count": 16,
          "metadata": {},
          "output_type": "execute_result"
        }
      ],
      "source": [
        "# використовував 2гу формулу, мінуси в тому що фонкція використовує змінну u яка використовується з глобального простору імен\n",
        "def MyDispersion(x,p):\n",
        "  return p * (x - u)**2\n",
        "res = map(MyDispersion, X, P)\n",
        "res = reduce(add, res)\n",
        "res"
      ]
    },
    {
      "cell_type": "markdown",
      "metadata": {
        "cell_id": "00023-23ad7ac7-c8c3-4054-b953-0b50ecc4c758",
        "id": "wI1fpoCunZVq",
        "output_cleared": false
      },
      "source": [
        "Наведені вище приклади та завдання наведені  для того, щоб допомогти зрозуміти процес map-reduce. Але на практиці це не найкращий спосіб. Замість цього слід використовувати  [Numpy](http://www.numpy.org)."
      ]
    },
    {
      "cell_type": "markdown",
      "metadata": {
        "cell_id": "00024-ced56325-0795-4661-8e25-d8b2403ac700",
        "id": "fF4X8ZltnZVr",
        "output_cleared": false
      },
      "source": [
        "## Wordcount\n",
        "\n",
        "Ми змінимо додаток wordcount за допомогою алгоритму map-reduce.\n",
        "\n",
        "Процес `map` приймає на вхід текстові файли як вхідні дані та розбиває їх на слова. Процес `reduce` підсумовує значення для кожного слова і видає єдиний ключ/значення зі словом та сумою.\n",
        "\n",
        "Нам потрібно розділити функцію підрахунку слів, щоб використати `map` та `reduce`.\n"
      ]
    },
    {
      "cell_type": "markdown",
      "metadata": {
        "cell_id": "00000-0d0083c2-3828-466d-a7ed-19a3c32a8525",
        "deepnote_cell_type": "markdown",
        "id": "3aeR9oTEnYxo",
        "output_cleared": false
      },
      "source": [
        "# Wordcount\n",
        "\n",
        "[Wikipedia](https://en.wikipedia.org/wiki/Word_count)\n",
        "\n",
        "Приклад лічильника слів читає текстові файли та підраховує, як часто зустрічаються слова.\n",
        "\n",
        "Підрахунок слів зазвичай використовується перекладачами для визначення ціни за перекладацьку роботу.\n",
        "\n",
        "Це програма \"Hello World\" у галузі Big Data."
      ]
    },
    {
      "cell_type": "markdown",
      "metadata": {
        "cell_id": "00002-c2c04a7c-0fe5-46e3-9f87-5d2018c55e51",
        "deepnote_cell_type": "markdown",
        "id": "EgVFV8ljnYxt",
        "output_cleared": false
      },
      "source": [
        "## Створіть простий текстовий файл"
      ]
    },
    {
      "cell_type": "code",
      "execution_count": 17,
      "metadata": {
        "colab": {
          "base_uri": "https://localhost:8080/"
        },
        "id": "zsg3uXMoOD6i",
        "outputId": "0193ed3e-0a8b-4a5e-f4e1-b33759fe59f3"
      },
      "outputs": [
        {
          "name": "stdout",
          "output_type": "stream",
          "text": [
            "Defaulting to user installation because normal site-packages is not writeable\n",
            "Requirement already satisfied: lorem in c:\\program files\\python311\\lib\\site-packages (0.1.1)\n"
          ]
        }
      ],
      "source": [
        "!pip install lorem"
      ]
    },
    {
      "cell_type": "code",
      "execution_count": 18,
      "metadata": {
        "cell_id": "00003-4d7f6c1d-8859-4403-bb81-8a0e8a776db0",
        "deepnote_cell_type": "code",
        "execution_millis": 3632,
        "execution_start": 1604475114385,
        "id": "L4uodfQVnYxu",
        "output_cleared": false,
        "source_hash": "f3007ae0"
      },
      "outputs": [],
      "source": [
        "from lorem import text\n",
        "\n",
        "with open(\"sample.txt\", \"w\") as f:\n",
        "    for i in range(2):\n",
        "        f.write(text())"
      ]
    },
    {
      "cell_type": "markdown",
      "metadata": {
        "cell_id": "00004-34f6cd5f-e68d-4be4-a815-96c9dae02818",
        "deepnote_cell_type": "markdown",
        "id": "L5yOyyh0nYxw",
        "output_cleared": false
      },
      "source": [
        "### Завдання 3\n",
        "\n",
        "Напишіть скріпт, який підраховує кількість рядків, різних слів та символів у цьому файлі."
      ]
    },
    {
      "cell_type": "markdown",
      "metadata": {
        "cell_id": "00005-99c44bbd-d3cc-4e16-99f5-569b359b007e",
        "colab": {
          "base_uri": "https://localhost:8080/"
        },
        "deepnote_cell_type": "code",
        "execution_millis": 121,
        "execution_start": 1604475118049,
        "id": "IbeH3_eOnYxx",
        "outputId": "6a32c1f0-6ecb-4a82-fbc8-3bb413a1c40d",
        "output_cleared": false,
        "source_hash": "fc5d8416",
        "vscode": {
          "languageId": "html"
        }
      },
      "source": [
        "%%bash\n",
        "wc sample.txt\n",
        "du -h sample.txt"
      ]
    },
    {
      "cell_type": "markdown",
      "metadata": {
        "cell_id": "00006-60f1ba48-2f04-41f2-841c-51f1ed54a11d",
        "deepnote_cell_type": "markdown",
        "id": "cr1iE7LhnYxx",
        "output_cleared": false
      },
      "source": [
        "### Завдання 4\n",
        "\n",
        "Створіть функцію map_words, яка приймає ім’я файлу як аргумент і повертає списки, що містять усі слова як елементи.\n",
        "```pytb\n",
        "map_words(\"sample.txt\")[:5] # first five words\n",
        "['adipisci', 'adipisci', 'adipisci', 'adipisci', 'adipisci']\n",
        "```"
      ]
    },
    {
      "cell_type": "code",
      "execution_count": 19,
      "metadata": {
        "id": "8PUucnHUqkzR"
      },
      "outputs": [],
      "source": [
        "def map_words(file_name):\n",
        "  res = []\n",
        "  with open(file_name, \"r\") as f:\n",
        "    for line in f:\n",
        "      res.extend(line.split())\n",
        "  return list(word.replace(\".\",\"\") for word in res)"
      ]
    },
    {
      "cell_type": "code",
      "execution_count": 45,
      "metadata": {
        "colab": {
          "base_uri": "https://localhost:8080/"
        },
        "id": "cNC3q6UBrTV2",
        "outputId": "490a5331-740b-406b-d0d3-453d9e9c4497"
      },
      "outputs": [
        {
          "name": "stdout",
          "output_type": "stream",
          "text": [
            "443\n",
            "['Sed', 'velit', 'labore', 'neque', 'ut', 'dolore', 'est', 'dolor', 'Amet', 'quaerat', 'quiquia', 'porro', 'magnam', 'est', 'Aliquam', 'non', 'ut', 'quaerat', 'porro', 'modi', 'labore', 'Dolore', 'voluptatem', 'sed', 'velit', 'Amet', 'quisquam', 'sed', 'eius', 'sed', 'dolorem', 'quisquam', 'Magnam', 'velit', 'consectetur', 'voluptatem', 'voluptatem', 'voluptatem', 'dolore', 'dolor', 'Consectetur', 'eius', 'dolorem', 'aliquam', 'quaerat', 'voluptatem', 'ipsum', 'ut', 'Ut', 'amet', 'eius', 'voluptatem', 'Adipisci', 'dolorem', 'adipisci', 'sit', 'ipsum', 'non', 'voluptatem', 'Modi', 'quiquia', 'quisquam', 'aliquam', 'adipisci', 'dolore', 'Eius', 'consectetur', 'dolor', 'sed', 'est', 'dolorem', 'velit', 'non', 'Voluptatem', 'adipisci', 'ut', 'quisquam', 'adipisci', 'labore', 'quiquia', 'Velit', 'modi', 'non', 'labore', 'ut', 'modi', 'velit', 'Ut', 'etincidunt', 'neque', 'eius', 'Dolor', 'velit', 'consectetur', 'adipisci', 'neque', 'consectetur', 'numquam', 'Consectetur', 'labore', 'sed', 'quiquia', 'velit', 'consectetur', 'Amet', 'sed', 'ut', 'est', 'consectetur', 'dolorem', 'Ipsum', 'sit', 'dolore', 'tempora', 'dolore', 'Amet', 'quisquam', 'dolor', 'est', 'eius', 'Consectetur', 'velit', 'adipisci', 'adipisci', 'quaerat', 'modi', 'est', 'Consectetur', 'ipsum', 'sed', 'ipsum', 'dolor', 'Consectetur', 'adipisci', 'velit', 'dolor', 'Porro', 'voluptatem', 'ipsum', 'quaerat', 'numquam', 'sit', 'velit', 'dolor', 'Dolor', 'eius', 'quiquia', 'aliquam', 'amet', 'quisquam', 'Dolorem', 'non', 'porro', 'tempora', 'quisquam', 'neque', 'Porro', 'voluptatem', 'tempora', 'ipsum', 'dolore', 'amet', 'Dolor', 'aliquam', 'sit', 'consectetur', 'Non', 'sed', 'tempora', 'quiquia', 'numquam', 'dolore', 'Non', 'eius', 'dolor', 'porro', 'quisquam', 'voluptatem', 'magnam', 'Non', 'ipsum', 'non', 'ut', 'aliquam', 'sed', 'quiquia', 'labore', 'Neque', 'velit', 'magnam', 'quisquam', 'dolor', 'voluptatem', 'Ut', 'dolore', 'eius', 'sed', 'amet', 'dolore', 'Voluptatem', 'quaerat', 'voluptatem', 'voluptatem', 'Quaerat', 'voluptatem', 'modi', 'quaerat', 'aliquam', 'numquam', 'magnam', 'Adipisci', 'aliquam', 'dolore', 'aliquam', 'porro', 'Etincidunt', 'labore', 'sit', 'ut', 'velit', 'est', 'ipsum', 'Etincidunt', 'amet', 'neque', 'porro', 'modi', 'aliquam', 'Quiquia', 'neque', 'etincidunt', 'dolor', 'sed', 'dolorem', 'est', 'Est', 'magnam', 'ipsum', 'numquam', 'sed', 'adipisci', 'labore', 'voluptatem', 'Magnam', 'ut', 'adipisci', 'numquam', 'velit', 'magnam', 'sed', 'amet', 'Sed', 'dolore', 'tempora', 'velit', 'modi', 'etincidunt', 'Amet', 'tempora', 'aliquam', 'non', 'dolore', 'quiquia', 'Quiquia', 'ipsum', 'labore', 'amet', 'Consectetur', 'modi', 'dolorem', 'amet', 'magnam', 'Adipisci', 'amet', 'quaerat', 'ut', 'magnam', 'Tempora', 'voluptatem', 'tempora', 'adipisci', 'ipsum', 'aliquam', 'sed', 'Magnam', 'non', 'neque', 'adipisci', 'quisquam', 'non', 'dolore', 'adipisci', 'Magnam', 'eius', 'voluptatem', 'labore', 'eius', 'modi', 'tempora', 'ipsum', 'Sit', 'modi', 'quisquam', 'dolorem', 'adipisci', 'porro', 'ipsum', 'modi', 'Quaerat', 'quiquia', 'voluptatem', 'porro', 'quisquam', 'ametSit', 'velit', 'non', 'ut', 'Dolor', 'consectetur', 'etincidunt', 'numquam', 'eius', 'aliquam', 'sed', 'quaerat', 'Velit', 'etincidunt', 'etincidunt', 'porro', 'voluptatem', 'aliquam', 'Neque', 'quiquia', 'quaerat', 'sit', 'sed', 'numquam', 'magnam', 'Eius', 'porro', 'dolore', 'etincidunt', 'aliquam', 'etincidunt', 'labore', 'Magnam', 'adipisci', 'amet', 'magnam', 'porro', 'ut', 'Velit', 'quiquia', 'dolorem', 'tempora', 'voluptatem', 'Ut', 'magnam', 'numquam', 'consectetur', 'aliquam', 'ipsum', 'Magnam', 'quiquia', 'numquam', 'adipisci', 'modi', 'porro', 'voluptatem', 'neque', 'Quiquia', 'etincidunt', 'dolor', 'labore', 'Ut', 'sit', 'sed', 'quaerat', 'ipsum', 'velit', 'sit', 'tempora', 'Porro', 'tempora', 'sit', 'est', 'amet', 'voluptatem', 'magnam', 'Porro', 'tempora', 'sed', 'ipsum', 'quiquia', 'magnam', 'non', 'dolor', 'Quisquam', 'ut', 'ut', 'modi', 'magnam', 'voluptatem', 'dolore', 'dolorem', 'Modi', 'velit', 'quiquia', 'tempora', 'magnam', 'Velit', 'aliquam', 'tempora', 'sed', 'aliquam', 'Porro', 'ut', 'etincidunt', 'numquam', 'est', 'quisquam', 'Dolore', 'adipisci', 'est', 'magnam', 'Labore', 'amet', 'quiquia', 'sed', 'numquam', 'Sed', 'neque', 'consectetur', 'eius', 'quisquam', 'tempora', 'Non', 'dolore', 'quisquam', 'eius', 'non', 'etincidunt', 'ipsum']\n",
            "['Sed', 'velit', 'labore', 'neque', 'ut']\n"
          ]
        }
      ],
      "source": [
        "res = map_words(\"sample.txt\")\n",
        "print(len(res))\n",
        "print(res)\n",
        "print(res[:5])"
      ]
    },
    {
      "cell_type": "markdown",
      "metadata": {
        "cell_id": "00007-a0af7428-7dd2-41fe-8e5f-82e8d6ed1460",
        "deepnote_cell_type": "markdown",
        "id": "RkDaevjUnYxy",
        "output_cleared": false
      },
      "source": [
        "## Сортування словника за значенням\n",
        "\n",
        "За замовчуванням, якщо ви використовуєте функцію сортування у слові, вона буде використовувати клавіші для її сортування.\n",
        "Для сортування за значеннями можна використати [operator](https://docs.python.org/3.6/library/operator.html).itemgetter(1)\n",
        "Повернути об'єкт, який отримує елемент з його операнда за допомогою метода операнда `__getitem__(`. Він може бути використаний для сортування результатів."
      ]
    },
    {
      "cell_type": "code",
      "execution_count": 21,
      "metadata": {
        "cell_id": "00008-dddf6414-17e3-48c7-add8-76814d07d5c0",
        "colab": {
          "base_uri": "https://localhost:8080/"
        },
        "deepnote_cell_type": "code",
        "execution_millis": 8,
        "execution_start": 1604475118172,
        "id": "kUK3EfUVnYxz",
        "outputId": "863cf837-e21f-4f10-d66c-a412ae418ca0",
        "output_cleared": false,
        "source_hash": "d61b0611"
      },
      "outputs": [
        {
          "data": {
            "text/plain": [
              "{'orange': 1, 'banana': 2, 'apple': 3, 'pear': 5}"
            ]
          },
          "execution_count": 21,
          "metadata": {},
          "output_type": "execute_result"
        }
      ],
      "source": [
        "import operator\n",
        "fruits = [('apple', 3), ('banana', 2), ('pear', 5), ('orange', 1)]\n",
        "getcount = operator.itemgetter(1)\n",
        "dict(sorted(fruits, key=getcount))"
      ]
    },
    {
      "cell_type": "markdown",
      "metadata": {
        "cell_id": "00009-62b84cdf-2b5b-42a7-a380-57638ff69fe6",
        "deepnote_cell_type": "markdown",
        "id": "Mny8OABMnYx0",
        "output_cleared": false
      },
      "source": [
        "функція `sorted` також має зворотний необов'язковий аргумент\n"
      ]
    },
    {
      "cell_type": "code",
      "execution_count": 22,
      "metadata": {
        "cell_id": "00010-3fde7150-3008-468b-a98a-4232b516024d",
        "colab": {
          "base_uri": "https://localhost:8080/"
        },
        "deepnote_cell_type": "code",
        "execution_millis": 8,
        "execution_start": 1604475118186,
        "id": "Gj0YNkIWnYx1",
        "outputId": "c3b4010f-65ba-4418-8b9d-fcb79c6a2949",
        "output_cleared": false,
        "source_hash": "d7444908"
      },
      "outputs": [
        {
          "data": {
            "text/plain": [
              "{'pear': 5, 'apple': 3, 'banana': 2, 'orange': 1}"
            ]
          },
          "execution_count": 22,
          "metadata": {},
          "output_type": "execute_result"
        }
      ],
      "source": [
        "dict(sorted(fruits, key=getcount, reverse=True))"
      ]
    },
    {
      "cell_type": "markdown",
      "metadata": {
        "cell_id": "00011-271a1865-7be3-462c-b8ea-5307fe59d801",
        "deepnote_cell_type": "markdown",
        "id": "beBXsTq5nYx1",
        "output_cleared": false
      },
      "source": [
        "### Завдання 5\n",
        "\n",
        "Створіть функцію `reduce`, щоб зменшити список слів, які повертаєтьс  `map_words`, і повернути словник, що містить усі слова як ключі (keys), та частоту зустріваності - як значення (value).\n",
        "\n",
        "```python\n",
        "recuce('sample.txt')\n",
        "{'tempora': 2, 'non': 1, 'quisquam': 1, 'amet': 1, 'sit': 1}\n",
        "```"
      ]
    },
    {
      "cell_type": "code",
      "execution_count": 23,
      "metadata": {
        "id": "5GVw83U9wz_U"
      },
      "outputs": [],
      "source": [
        "def my_word_reduce(file_name):\n",
        "  words = map_words(file_name)\n",
        "  unique_words = set(words)\n",
        "  values = map(words.count, unique_words)\n",
        "  return dict(zip(unique_words, values))"
      ]
    },
    {
      "cell_type": "code",
      "execution_count": 24,
      "metadata": {
        "colab": {
          "base_uri": "https://localhost:8080/"
        },
        "id": "3lRwWZJXy4l1",
        "outputId": "ff744ab2-483d-4198-ea5f-fe690d2024e4"
      },
      "outputs": [
        {
          "name": "stdout",
          "output_type": "stream",
          "text": [
            "54\n",
            "{'modi': 13, 'voluptatem': 23, 'Dolore': 2, 'Ipsum': 1, 'sed': 20, 'magnam': 16, 'ut': 15, 'Magnam': 6, 'Velit': 4, 'amet': 12, 'Voluptatem': 2, 'Non': 4, 'Est': 1, 'Quiquia': 3, 'Amet': 5, 'eius': 13, 'dolorem': 10, 'Dolor': 4, 'aliquam': 17, 'etincidunt': 11, 'porro': 12, 'Aliquam': 1, 'consectetur': 10, 'Porro': 5, 'numquam': 12, 'Quaerat': 2, 'Adipisci': 3, 'dolore': 16, 'neque': 9, 'Ut': 5, 'non': 12, 'ipsum': 17, 'ametSit': 1, 'sit': 9, 'Dolorem': 1, 'Modi': 2, 'Sit': 1, 'Eius': 2, 'quisquam': 15, 'Labore': 1, 'quaerat': 11, 'labore': 12, 'adipisci': 17, 'Sed': 3, 'dolor': 12, 'velit': 17, 'quiquia': 15, 'tempora': 15, 'Tempora': 1, 'Quisquam': 1, 'Neque': 2, 'Consectetur': 6, 'est': 11, 'Etincidunt': 2}\n"
          ]
        }
      ],
      "source": [
        "res = my_word_reduce(\"sample.txt\")\n",
        "print(len(res))\n",
        "print(res)"
      ]
    },
    {
      "cell_type": "markdown",
      "metadata": {
        "cell_id": "00012-2b86c7db-4182-48f4-bb7a-2218b2cb565e",
        "deepnote_cell_type": "markdown",
        "id": "XFl-lJjUnYx1",
        "output_cleared": false
      },
      "source": [
        "Цю просту функцію непросто реалізувати. Стандартні бібліотеки Python пропонують деякі функції, які можуть допомогти."
      ]
    },
    {
      "cell_type": "markdown",
      "metadata": {
        "cell_id": "00013-ebc8bebc-9289-4ced-b4b8-88e650468081",
        "deepnote_cell_type": "markdown",
        "id": "stak6WY5nYx2",
        "output_cleared": false
      },
      "source": [
        "## Container datatypes\n",
        "\n",
        "Модуль `collection` реалізує спеціалізовані типи даних контейнерів, що забезпечують альтернативу вбудованим контейнерам загального призначення Python: `dict`, `list`, `set`, and `tuple`.\n",
        "\n",
        "- `defaultdict` : підклас dict, який викликає заводську функцію для надання відсутніх значень\n",
        "- `Counter`\t: підклас dict для підрахунку хешованих об'єктів"
      ]
    },
    {
      "cell_type": "markdown",
      "metadata": {
        "cell_id": "00014-6c0aa99c-a287-4f95-aeac-2128d9111f9b",
        "deepnote_cell_type": "markdown",
        "id": "12td5sxSnYx3",
        "output_cleared": false
      },
      "source": [
        "### defaultdict\n",
        "\n",
        "Під час реалізації функції `wordcount`, у вас, ймовірно, виникли проблеми з додаванням пари ключ-значення до вашого словника. Якщо ви намагаєтесь змінити значення ключа, якого немає в наявній сумі, ключ не створюється автоматично.\n",
        "\n",
        "Ви можете використовувати потік `try-except`, але `defaultdict` може бути рішенням. Цей контейнер є підкласом `dict`, який викликає заводську функцію для подання відсутніх значень. Наприклад, використовуючи список як default_factory, легко згрупувати послідовність пар ключ-значення у словник списків:"
      ]
    },
    {
      "cell_type": "code",
      "execution_count": 25,
      "metadata": {
        "cell_id": "00015-e3838c4c-076b-4219-a3ae-1a03431b9997",
        "colab": {
          "base_uri": "https://localhost:8080/"
        },
        "deepnote_cell_type": "code",
        "execution_millis": 8,
        "execution_start": 1604475118195,
        "id": "HCaeh9vonYx3",
        "outputId": "edbc0116-4886-4e21-adae-1e63585929ea",
        "output_cleared": false,
        "source_hash": "5e869425"
      },
      "outputs": [
        {
          "data": {
            "text/plain": [
              "{'yellow': [1, 3], 'blue': [2, 4], 'red': [1]}"
            ]
          },
          "execution_count": 25,
          "metadata": {},
          "output_type": "execute_result"
        }
      ],
      "source": [
        "from collections import defaultdict\n",
        "s = [('yellow', 1), ('blue', 2), ('yellow', 3), ('blue', 4), ('red', 1)]\n",
        "d = defaultdict(list)\n",
        "for k, v in s:\n",
        "    d[k].append(v)\n",
        "\n",
        "dict(d)"
      ]
    },
    {
      "cell_type": "markdown",
      "metadata": {
        "cell_id": "00016-122ba1b5-d377-49ac-91da-939a566d3bff",
        "deepnote_cell_type": "markdown",
        "id": "iqmSh3FTnYx4",
        "output_cleared": false
      },
      "source": [
        "### Завдання 6\n",
        "\n",
        "- Змініть функцію `reduce`, яку ви написали вище, за допомогою defaultdict з найбільш підходящою \"фабрикою\"."
      ]
    },
    {
      "cell_type": "code",
      "execution_count": 26,
      "metadata": {
        "colab": {
          "base_uri": "https://localhost:8080/"
        },
        "id": "HY0neBvRbJt3",
        "outputId": "8939b1f6-0159-4dcb-c390-dd280bcfb965"
      },
      "outputs": [
        {
          "name": "stdout",
          "output_type": "stream",
          "text": [
            "54\n",
            "defaultdict(<class 'int'>, {'modi': 13, 'voluptatem': 23, 'Dolore': 2, 'Ipsum': 1, 'sed': 20, 'magnam': 16, 'ut': 15, 'Magnam': 6, 'Velit': 4, 'amet': 12, 'Voluptatem': 2, 'Non': 4, 'Est': 1, 'Quiquia': 3, 'Amet': 5, 'eius': 13, 'dolorem': 10, 'Dolor': 4, 'aliquam': 17, 'etincidunt': 11, 'porro': 12, 'Aliquam': 1, 'consectetur': 10, 'Porro': 5, 'numquam': 12, 'Quaerat': 2, 'Adipisci': 3, 'dolore': 16, 'neque': 9, 'Ut': 5, 'non': 12, 'ipsum': 17, 'ametSit': 1, 'sit': 9, 'Dolorem': 1, 'Modi': 2, 'Sit': 1, 'Eius': 2, 'quisquam': 15, 'Labore': 1, 'quaerat': 11, 'labore': 12, 'adipisci': 17, 'Sed': 3, 'dolor': 12, 'velit': 17, 'quiquia': 15, 'tempora': 15, 'Tempora': 1, 'Quisquam': 1, 'Neque': 2, 'Consectetur': 6, 'est': 11, 'Etincidunt': 2})\n"
          ]
        }
      ],
      "source": [
        "def my_word_reduce2(file_name):\n",
        "  words = map_words(file_name)\n",
        "  unique_words = set(words)\n",
        "  values = map(words.count, unique_words)\n",
        "  res = defaultdict(int)\n",
        "  for k,v in zip(unique_words, values):\n",
        "    res[k] = v\n",
        "  return res\n",
        "\n",
        "res2 = my_word_reduce2(\"sample.txt\")\n",
        "print(len(res2))\n",
        "print(res2)"
      ]
    },
    {
      "cell_type": "markdown",
      "metadata": {
        "cell_id": "00017-d3a9fada-46c7-43aa-808e-6aafb5f88b51",
        "deepnote_cell_type": "markdown",
        "id": "eHPWHSKNnYx4",
        "output_cleared": false
      },
      "source": [
        "### Counter\n",
        "\n",
        "Counter - це dict subclass для підрахунку об’єктів, що хешуються. Це невпорядкована колекція, де елементи зберігаються як ключі словника, а їх кількість зберігається як значення словника. Підрахунки можуть бути будь-якими цілими значеннями, включаючи нульові або від’ємні підрахунки.\n",
        "\n",
        "Елементи підраховуються з повторюваних або ініціалізованих з іншого процесу mapping (або Counter):"
      ]
    },
    {
      "cell_type": "code",
      "execution_count": 27,
      "metadata": {
        "cell_id": "00018-0a4a9a48-d6d4-458d-8456-9d09663c2dd6",
        "colab": {
          "base_uri": "https://localhost:8080/"
        },
        "deepnote_cell_type": "code",
        "execution_millis": 0,
        "execution_start": 1604475118223,
        "id": "5x_ADTDgnYx4",
        "outputId": "764eb3aa-08af-4546-cdcf-9f62f324da23",
        "output_cleared": false,
        "source_hash": "6c91b3d3"
      },
      "outputs": [
        {
          "name": "stdout",
          "output_type": "stream",
          "text": [
            "{'r': 23, 'g': 13, 'b': 23}\n",
            "0\n",
            "23\n"
          ]
        }
      ],
      "source": [
        "from collections import Counter\n",
        "\n",
        "violet = dict(r=23,g=13,b=23)\n",
        "print(violet)\n",
        "cnt = Counter(violet)  # or Counter(r=238, g=130, b=238)\n",
        "print(cnt['c'])\n",
        "print(cnt['r'])"
      ]
    },
    {
      "cell_type": "code",
      "execution_count": 28,
      "metadata": {
        "cell_id": "00019-d1ee2786-b0d6-4df6-9248-6bd86afc4969",
        "colab": {
          "base_uri": "https://localhost:8080/"
        },
        "deepnote_cell_type": "code",
        "execution_millis": 5,
        "execution_start": 1604475118225,
        "id": "Sj3F-DFInYx5",
        "outputId": "0043ce0a-34ce-4448-dd04-e70a22f1691e",
        "output_cleared": false,
        "source_hash": "882d365b"
      },
      "outputs": [
        {
          "name": "stdout",
          "output_type": "stream",
          "text": [
            "r r r r r r r r r r r r r r r r r r r r r r r g g g g g g g g g g g g g b b b b b b b b b b b b b b b b b b b b b b b\n"
          ]
        }
      ],
      "source": [
        "print(*cnt.elements())"
      ]
    },
    {
      "cell_type": "code",
      "execution_count": 29,
      "metadata": {
        "cell_id": "00020-b5a17f34-1b0d-41b0-92d1-59d914b04baa",
        "colab": {
          "base_uri": "https://localhost:8080/"
        },
        "deepnote_cell_type": "code",
        "execution_millis": 0,
        "execution_start": 1604475118240,
        "id": "Jv7a9csTnYx5",
        "outputId": "d7640343-4bea-48a8-a8e3-7af8ff874ea6",
        "output_cleared": false,
        "source_hash": "5a80c266"
      },
      "outputs": [
        {
          "data": {
            "text/plain": [
              "[('r', 23), ('b', 23)]"
            ]
          },
          "execution_count": 29,
          "metadata": {},
          "output_type": "execute_result"
        }
      ],
      "source": [
        "cnt.most_common(2)"
      ]
    },
    {
      "cell_type": "code",
      "execution_count": 30,
      "metadata": {
        "cell_id": "00021-5e8b6b05-72fd-46ae-a211-6b918e042456",
        "colab": {
          "base_uri": "https://localhost:8080/"
        },
        "deepnote_cell_type": "code",
        "execution_millis": 1,
        "execution_start": 1604475118247,
        "id": "xWiQ7KyznYx5",
        "outputId": "f673bba6-a3af-47b8-e960-878a4b9f11cf",
        "output_cleared": false,
        "source_hash": "ab270fed"
      },
      "outputs": [
        {
          "data": {
            "text/plain": [
              "dict_values([23, 13, 23])"
            ]
          },
          "execution_count": 30,
          "metadata": {},
          "output_type": "execute_result"
        }
      ],
      "source": [
        "cnt.values()"
      ]
    },
    {
      "cell_type": "markdown",
      "metadata": {
        "cell_id": "00022-1602b845-b3bc-458e-80cf-0e8383658965",
        "deepnote_cell_type": "markdown",
        "id": "-0tevu-TnYx5",
        "output_cleared": false
      },
      "source": [
        "### Завдання 7\n",
        "\n",
        "Використовуйте об'єкт `Counter`, щоб підрахувати кількість слів у текстовому файлі-зразку.\n"
      ]
    },
    {
      "cell_type": "code",
      "execution_count": 31,
      "metadata": {
        "colab": {
          "base_uri": "https://localhost:8080/"
        },
        "id": "40dnTdPR2pfP",
        "outputId": "56af759a-ea0e-48da-d345-426f100d2f4f"
      },
      "outputs": [
        {
          "name": "stdout",
          "output_type": "stream",
          "text": [
            "54\n",
            "Counter({'voluptatem': 23, 'sed': 20, 'velit': 17, 'aliquam': 17, 'ipsum': 17, 'adipisci': 17, 'dolore': 16, 'magnam': 16, 'ut': 15, 'quiquia': 15, 'quisquam': 15, 'tempora': 15, 'modi': 13, 'eius': 13, 'labore': 12, 'dolor': 12, 'porro': 12, 'non': 12, 'amet': 12, 'numquam': 12, 'est': 11, 'quaerat': 11, 'etincidunt': 11, 'dolorem': 10, 'consectetur': 10, 'neque': 9, 'sit': 9, 'Magnam': 6, 'Consectetur': 6, 'Amet': 5, 'Ut': 5, 'Porro': 5, 'Velit': 4, 'Dolor': 4, 'Non': 4, 'Sed': 3, 'Adipisci': 3, 'Quiquia': 3, 'Dolore': 2, 'Modi': 2, 'Eius': 2, 'Voluptatem': 2, 'Neque': 2, 'Quaerat': 2, 'Etincidunt': 2, 'Aliquam': 1, 'Ipsum': 1, 'Dolorem': 1, 'Est': 1, 'Tempora': 1, 'Sit': 1, 'ametSit': 1, 'Quisquam': 1, 'Labore': 1})\n"
          ]
        }
      ],
      "source": [
        "def my_word_counter(file_name):\n",
        "  words = map_words(file_name)\n",
        "  cnt = Counter(words)\n",
        "  return cnt\n",
        "\n",
        "res2 = my_word_counter(\"sample.txt\")\n",
        "print(len(res2))\n",
        "print(res2)"
      ]
    },
    {
      "cell_type": "markdown",
      "metadata": {
        "cell_id": "00024-0f5a73db-6dc2-496c-94f8-8870157d739a",
        "deepnote_cell_type": "markdown",
        "id": "nm1k7xjbnYx6",
        "output_cleared": false
      },
      "source": [
        "## Process multiple files\n",
        "\n",
        "Створіть кілька файлів, що містять текст lorem з назвою 'sample01.txt', 'sample02.txt' ...\n",
        "- Якщо ви обробляєте ці файли, ви отримаєте кілька словників.\n",
        "- Ви повинні пропустити їх через цикл, щоб підсумувати кількість випадків і повернути отриманий dict. Для перегляду конкретних mappings стандартна бібліотека Python надає деякі корисні функції в модулі `itertools` .\n",
        "- [itertools.chain(*mapped_values)](https://docs.python.org/3.6/library/itertools.html#itertools.chain) можна використовувати для обробки кількох послідовностей як єдиної послідовності."
      ]
    },
    {
      "cell_type": "code",
      "execution_count": 32,
      "metadata": {
        "cell_id": "00025-944ba1df-e400-4e23-830f-a658dfe9f3de",
        "colab": {
          "base_uri": "https://localhost:8080/"
        },
        "deepnote_cell_type": "code",
        "execution_millis": 8,
        "execution_start": 1604475118255,
        "id": "cNJtzGs4nYx6",
        "outputId": "370d28aa-cd7a-4ff8-c194-bff79080f355",
        "output_cleared": false,
        "source_hash": "d1e71c55"
      },
      "outputs": [
        {
          "data": {
            "text/plain": [
              "{'orange': 1,\n",
              " 'spinach': 1,\n",
              " 'banana': 2,\n",
              " 'endive': 2,\n",
              " 'apple': 3,\n",
              " 'carrot': 4,\n",
              " 'pear': 5,\n",
              " 'celery': 5}"
            ]
          },
          "execution_count": 32,
          "metadata": {},
          "output_type": "execute_result"
        }
      ],
      "source": [
        "import itertools, operator\n",
        "fruits = [('apple', 3), ('banana', 2), ('pear', 5), ('orange', 1)]\n",
        "vegetables = [('endive', 2), ('spinach', 1), ('celery', 5), ('carrot', 4)]\n",
        "getcount = operator.itemgetter(1)\n",
        "dict(sorted(itertools.chain(fruits,vegetables), key=getcount))"
      ]
    },
    {
      "cell_type": "markdown",
      "metadata": {
        "cell_id": "00026-f4402095-8b81-44a3-9997-67db7087d6a5",
        "deepnote_cell_type": "markdown",
        "id": "-dgEBAnonYx6",
        "output_cleared": false
      },
      "source": [
        "### Завдання 8\n",
        "\n",
        "- Напишіть програму, яка створює файли, обробляє їх та використовує `itertools.chain` для отримання об’єднаного словника загальної кількості слів."
      ]
    },
    {
      "cell_type": "code",
      "execution_count": 33,
      "metadata": {
        "colab": {
          "base_uri": "https://localhost:8080/"
        },
        "id": "abIAjOPS70Db",
        "outputId": "2a75e4c3-ff40-4992-ce8c-2ad977cdcf83"
      },
      "outputs": [
        {
          "name": "stdout",
          "output_type": "stream",
          "text": [
            "57\n",
            "Counter({'voluptatem': 54, 'quisquam': 50, 'ut': 46, 'ipsum': 46, 'magnam': 45, 'sed': 42, 'labore': 40, 'neque': 37, 'modi': 37, 'eius': 37, 'sit': 37, 'tempora': 37, 'porro': 36, 'non': 36, 'quiquia': 34, 'dolorem': 34, 'velit': 33, 'consectetur': 33, 'dolor': 32, 'quaerat': 32, 'aliquam': 32, 'amet': 32, 'dolore': 31, 'adipisci': 31, 'est': 30, 'etincidunt': 29, 'numquam': 29, 'Sed': 15, 'Magnam': 13, 'Adipisci': 12, 'Porro': 10, 'Amet': 9, 'Ut': 9, 'Modi': 8, 'Velit': 8, 'Dolor': 8, 'Neque': 8, 'Quaerat': 8, 'Tempora': 8, 'Consectetur': 7, 'Non': 7, 'Quisquam': 7, 'Dolore': 6, 'Eius': 6, 'Voluptatem': 6, 'Ipsum': 6, 'Etincidunt': 6, 'Quiquia': 6, 'Est': 5, 'Numquam': 5, 'Dolorem': 4, 'Labore': 4, 'Aliquam': 3, 'Sit': 1, 'ametSit': 1, 'ipsumLabore': 1, 'nonTempora': 1})\n"
          ]
        }
      ],
      "source": [
        "from lorem import text\n",
        "\n",
        "with open(\"sample1.txt\", \"w\") as f:\n",
        "    for i in range(2):\n",
        "        f.write(text())\n",
        "with open(\"sample2.txt\", \"w\") as f:\n",
        "    for i in range(2):\n",
        "        f.write(text())\n",
        "\n",
        "words0 = map_words(\"sample.txt\")\n",
        "words1 = map_words(\"sample1.txt\")\n",
        "words2 = map_words(\"sample2.txt\")\n",
        "cnt = Counter(itertools.chain(words0, words1, words2))\n",
        "\n",
        "print(len(cnt))\n",
        "print(cnt)"
      ]
    },
    {
      "cell_type": "markdown",
      "metadata": {
        "cell_id": "00027-8a0dfd3f-d700-489b-a879-d3e9879bdd93",
        "deepnote_cell_type": "markdown",
        "id": "GnIrQrjinYx6",
        "output_cleared": false
      },
      "source": [
        "### Завдання 9\n",
        "\n",
        "- Create the `wordcount` function in order to accept several files as arguments and\n",
        "return the result dict.\n",
        "Створіть функцію wordcount, яка прийматиме кілька файлів в якості аргументів та повертатиме результуючий словник\n",
        "\n",
        "```\n",
        "wordcount(file1, file2, file3, ...)\n",
        "```\n",
        "\n",
        "[Hint: arbitrary argument lists](https://docs.python.org/3/tutorial/controlflow.html#arbitrary-argument-lists)"
      ]
    },
    {
      "cell_type": "code",
      "execution_count": 34,
      "metadata": {
        "colab": {
          "base_uri": "https://localhost:8080/"
        },
        "id": "roW7zx6dB_wH",
        "outputId": "ffe5b486-174c-453d-c041-66dd50116eff"
      },
      "outputs": [
        {
          "name": "stdout",
          "output_type": "stream",
          "text": [
            "57\n",
            "Counter({'voluptatem': 54, 'quisquam': 50, 'ut': 46, 'ipsum': 46, 'magnam': 45, 'sed': 42, 'labore': 40, 'neque': 37, 'modi': 37, 'eius': 37, 'sit': 37, 'tempora': 37, 'porro': 36, 'non': 36, 'quiquia': 34, 'dolorem': 34, 'velit': 33, 'consectetur': 33, 'dolor': 32, 'quaerat': 32, 'aliquam': 32, 'amet': 32, 'dolore': 31, 'adipisci': 31, 'est': 30, 'etincidunt': 29, 'numquam': 29, 'Sed': 15, 'Magnam': 13, 'Adipisci': 12, 'Porro': 10, 'Amet': 9, 'Ut': 9, 'Modi': 8, 'Velit': 8, 'Dolor': 8, 'Neque': 8, 'Quaerat': 8, 'Tempora': 8, 'Consectetur': 7, 'Non': 7, 'Quisquam': 7, 'Dolore': 6, 'Eius': 6, 'Voluptatem': 6, 'Ipsum': 6, 'Etincidunt': 6, 'Quiquia': 6, 'Est': 5, 'Numquam': 5, 'Dolorem': 4, 'Labore': 4, 'Aliquam': 3, 'Sit': 1, 'ametSit': 1, 'ipsumLabore': 1, 'nonTempora': 1})\n"
          ]
        }
      ],
      "source": [
        "def wordcount(*args):\n",
        "  words = []\n",
        "  for arg in args:\n",
        "    words.append(map_words(arg))\n",
        "  cnt = Counter(itertools.chain(*words))\n",
        "  return cnt\n",
        "res = wordcount(\"sample.txt\",\"sample1.txt\",\"sample2.txt\")\n",
        "print(len(res))\n",
        "print(res)"
      ]
    },
    {
      "cell_type": "markdown",
      "metadata": {
        "id": "HBUlakUGG_LH"
      },
      "source": [
        "Повертаємось до розділення функції підрахунку слів, щоб використати map та reduce."
      ]
    },
    {
      "cell_type": "markdown",
      "metadata": {
        "cell_id": "00025-167cf7a3-3497-4f98-b6bc-8b38bcf7d641",
        "id": "sjqyTJs8nZVr",
        "output_cleared": false
      },
      "source": [
        "## Map - Читання файлів та повернення елементів (пар key/value)\n",
        "\n",
        "### Завдання 10\n",
        "\n",
        "Напишіть функцію `mapper` з єдиною назвою файлу як вхідним переметром, яка повертає відсортовану послідовність значень кортежів (word, 1).\n",
        "\n",
        "```pybt\n",
        "mapper('sample.txt')\n",
        "[('adipisci', 1), ('adipisci', 1), ('adipisci', 1), ('adipisci', 1), ('adipisci', 1), ('adipisci', 1), ('adipisci', 1), ('aliquam', 1), ('aliquam', 1), ('aliquam', 1), ('aliquam', 1), ('aliquam', 1), ('aliquam', 1), ('aliquam', 1), ('amet', 1), ('amet', 1), ('amet', 1)...\n",
        "```"
      ]
    },
    {
      "cell_type": "code",
      "execution_count": 35,
      "metadata": {
        "colab": {
          "base_uri": "https://localhost:8080/"
        },
        "id": "Cmfr-T65H8hR",
        "outputId": "423d9526-2890-439b-b994-94a179c00180"
      },
      "outputs": [
        {
          "name": "stdout",
          "output_type": "stream",
          "text": [
            "54\n",
            "[('Adipisci', 3), ('Aliquam', 1), ('Amet', 5), ('Consectetur', 6), ('Dolor', 4), ('Dolore', 2), ('Dolorem', 1), ('Eius', 2), ('Est', 1), ('Etincidunt', 2), ('Ipsum', 1), ('Labore', 1), ('Magnam', 6), ('Modi', 2), ('Neque', 2), ('Non', 4), ('Porro', 5), ('Quaerat', 2), ('Quiquia', 3), ('Quisquam', 1), ('Sed', 3), ('Sit', 1), ('Tempora', 1), ('Ut', 5), ('Velit', 4), ('Voluptatem', 2), ('adipisci', 17), ('aliquam', 17), ('amet', 12), ('ametSit', 1), ('consectetur', 10), ('dolor', 12), ('dolore', 16), ('dolorem', 10), ('eius', 13), ('est', 11), ('etincidunt', 11), ('ipsum', 17), ('labore', 12), ('magnam', 16), ('modi', 13), ('neque', 9), ('non', 12), ('numquam', 12), ('porro', 12), ('quaerat', 11), ('quiquia', 15), ('quisquam', 15), ('sed', 20), ('sit', 9), ('tempora', 15), ('ut', 15), ('velit', 17), ('voluptatem', 23)]\n"
          ]
        }
      ],
      "source": [
        "def mapper(file_name):\n",
        "  words = map_words(file_name)\n",
        "  word_counts = defaultdict(int)\n",
        "  for word in words:\n",
        "    word_counts[word] += 1\n",
        "  list_of_tuples = []\n",
        "  for key, value in word_counts.items():\n",
        "    list_of_tuples.append((key, value))\n",
        "  return sorted(list_of_tuples)\n",
        "res = mapper(\"sample.txt\")\n",
        "print(len(res))\n",
        "print(res)"
      ]
    },
    {
      "cell_type": "markdown",
      "metadata": {
        "cell_id": "00026-2a461c17-a231-43d2-bdee-f683a2912bf4",
        "id": "tUsZq_8enZVs",
        "output_cleared": false
      },
      "source": [
        "## Partition\n",
        "\n",
        "### Завдання 11\n",
        "\n",
        "Create a function named `partitioner` that stores the key/value pairs from `mapper`  that group (word, 1) pairs into a list as:\n",
        "Напишіть функцію відображення функцій з єдиною назвою файлу як вхідним, що повертає відсортовану послідовність значень кортежів (word, 1).\n",
        "```python\n",
        "partitioner(mapper('sample.txt'))\n",
        "[('adipisci', [1, 1, 1, 1, 1, 1, 1]), ('aliquam', [1, 1, 1, 1, 1, 1, 1]), ('amet', [1, 1, 1, 1],...]\n",
        "```"
      ]
    },
    {
      "cell_type": "code",
      "execution_count": 36,
      "metadata": {
        "colab": {
          "base_uri": "https://localhost:8080/"
        },
        "id": "0smZSMc2PjKf",
        "outputId": "36fdc343-f3b7-47be-f7cc-86f1d1c6938c"
      },
      "outputs": [
        {
          "name": "stdout",
          "output_type": "stream",
          "text": [
            "[('Adipisci', [1, 1, 1]), ('Aliquam', [1]), ('Amet', [1, 1, 1, 1, 1]), ('Consectetur', [1, 1, 1, 1, 1, 1]), ('Dolor', [1, 1, 1, 1]), ('Dolore', [1, 1]), ('Dolorem', [1]), ('Eius', [1, 1]), ('Est', [1]), ('Etincidunt', [1, 1]), ('Ipsum', [1]), ('Labore', [1]), ('Magnam', [1, 1, 1, 1, 1, 1]), ('Modi', [1, 1]), ('Neque', [1, 1]), ('Non', [1, 1, 1, 1]), ('Porro', [1, 1, 1, 1, 1]), ('Quaerat', [1, 1]), ('Quiquia', [1, 1, 1]), ('Quisquam', [1]), ('Sed', [1, 1, 1]), ('Sit', [1]), ('Tempora', [1]), ('Ut', [1, 1, 1, 1, 1]), ('Velit', [1, 1, 1, 1]), ('Voluptatem', [1, 1]), ('adipisci', [1, 1, 1, 1, 1, 1, 1, 1, 1, 1, 1, 1, 1, 1, 1, 1, 1]), ('aliquam', [1, 1, 1, 1, 1, 1, 1, 1, 1, 1, 1, 1, 1, 1, 1, 1, 1]), ('amet', [1, 1, 1, 1, 1, 1, 1, 1, 1, 1, 1, 1]), ('ametSit', [1]), ('consectetur', [1, 1, 1, 1, 1, 1, 1, 1, 1, 1]), ('dolor', [1, 1, 1, 1, 1, 1, 1, 1, 1, 1, 1, 1]), ('dolore', [1, 1, 1, 1, 1, 1, 1, 1, 1, 1, 1, 1, 1, 1, 1, 1]), ('dolorem', [1, 1, 1, 1, 1, 1, 1, 1, 1, 1]), ('eius', [1, 1, 1, 1, 1, 1, 1, 1, 1, 1, 1, 1, 1]), ('est', [1, 1, 1, 1, 1, 1, 1, 1, 1, 1, 1]), ('etincidunt', [1, 1, 1, 1, 1, 1, 1, 1, 1, 1, 1]), ('ipsum', [1, 1, 1, 1, 1, 1, 1, 1, 1, 1, 1, 1, 1, 1, 1, 1, 1]), ('labore', [1, 1, 1, 1, 1, 1, 1, 1, 1, 1, 1, 1]), ('magnam', [1, 1, 1, 1, 1, 1, 1, 1, 1, 1, 1, 1, 1, 1, 1, 1]), ('modi', [1, 1, 1, 1, 1, 1, 1, 1, 1, 1, 1, 1, 1]), ('neque', [1, 1, 1, 1, 1, 1, 1, 1, 1]), ('non', [1, 1, 1, 1, 1, 1, 1, 1, 1, 1, 1, 1]), ('numquam', [1, 1, 1, 1, 1, 1, 1, 1, 1, 1, 1, 1]), ('porro', [1, 1, 1, 1, 1, 1, 1, 1, 1, 1, 1, 1]), ('quaerat', [1, 1, 1, 1, 1, 1, 1, 1, 1, 1, 1]), ('quiquia', [1, 1, 1, 1, 1, 1, 1, 1, 1, 1, 1, 1, 1, 1, 1]), ('quisquam', [1, 1, 1, 1, 1, 1, 1, 1, 1, 1, 1, 1, 1, 1, 1]), ('sed', [1, 1, 1, 1, 1, 1, 1, 1, 1, 1, 1, 1, 1, 1, 1, 1, 1, 1, 1, 1]), ('sit', [1, 1, 1, 1, 1, 1, 1, 1, 1]), ('tempora', [1, 1, 1, 1, 1, 1, 1, 1, 1, 1, 1, 1, 1, 1, 1]), ('ut', [1, 1, 1, 1, 1, 1, 1, 1, 1, 1, 1, 1, 1, 1, 1]), ('velit', [1, 1, 1, 1, 1, 1, 1, 1, 1, 1, 1, 1, 1, 1, 1, 1, 1]), ('voluptatem', [1, 1, 1, 1, 1, 1, 1, 1, 1, 1, 1, 1, 1, 1, 1, 1, 1, 1, 1, 1, 1, 1, 1])]\n"
          ]
        }
      ],
      "source": [
        "def partitioner(mylist):\n",
        "  for i in range(len(mylist)):\n",
        "    mylist[i] = (mylist[i][0], [1]*mylist[i][1])\n",
        "  return mylist\n",
        "print(partitioner(mapper('sample.txt')))"
      ]
    },
    {
      "cell_type": "markdown",
      "metadata": {
        "cell_id": "00027-20fa8411-911d-450d-a524-6e0dbcf66864",
        "id": "awDwZpq_nZVs",
        "output_cleared": false
      },
      "source": [
        "## Reduce - Sums the counts and returns a single key/value (word, sum). підсумовує підрахунок і повертає єдиний ключ/значення (слово, сума)\n",
        "\n",
        "### Завдання 12\n",
        "\n",
        "Напишіть функцію `reducer`, яка читає кортеж (слово, [1,1,1, .., 1]) і підсумовує входження слова до остаточного підрахунку (суми), а потім виводить кортеж (слово, частота зустріваності).\n",
        "\n",
        "```python\n",
        "reducer(('hello',[1,1,1,1,1])\n",
        "('hello',5)\n",
        "```"
      ]
    },
    {
      "cell_type": "code",
      "execution_count": 37,
      "metadata": {
        "colab": {
          "base_uri": "https://localhost:8080/"
        },
        "id": "I9UAyL3aUpAd",
        "outputId": "10c483c9-9b8b-442f-9a94-ff03a69fb7a2"
      },
      "outputs": [
        {
          "data": {
            "text/plain": [
              "('hello', 5)"
            ]
          },
          "execution_count": 37,
          "metadata": {},
          "output_type": "execute_result"
        }
      ],
      "source": [
        "def reducer(tuplee):\n",
        "  mytuple = (tuplee[0], len(tuplee[1]))\n",
        "  return mytuple\n",
        "reducer(('hello',[1,1,1,1,1]))"
      ]
    },
    {
      "cell_type": "markdown",
      "metadata": {
        "cell_id": "00028-5a02ce56-1aaa-4a72-bccb-5fa1bcd6ba4b",
        "id": "8GWbJOvpnZVs",
        "output_cleared": false
      },
      "source": [
        "## Обробка кількох файлів\n",
        "\n",
        "Давайте створимо 8 файлів sample[0-7].txt. Встановіть найпоширеніші слова у верхній частині результуючого списку."
      ]
    },
    {
      "cell_type": "code",
      "execution_count": 38,
      "metadata": {
        "id": "4RDvpSkcXqR3"
      },
      "outputs": [
        {
          "name": "stdout",
          "output_type": "stream",
          "text": [
            "Defaulting to user installation because normal site-packages is not writeable\n",
            "Requirement already satisfied: lorem in c:\\program files\\python311\\lib\\site-packages (0.1.1)\n"
          ]
        }
      ],
      "source": [
        "!pip install lorem"
      ]
    },
    {
      "cell_type": "code",
      "execution_count": 39,
      "metadata": {
        "cell_id": "00029-b2c70e85-cb81-48d2-b1ab-f433e60defbf",
        "execution_millis": 11,
        "execution_start": 1604475141331,
        "id": "V4CWo79qnZVt",
        "output_cleared": false,
        "source_hash": "35d25c27"
      },
      "outputs": [],
      "source": [
        "from lorem import text\n",
        "for i in range(8):\n",
        "    with open(\"sample{0:02d}.txt\".format(i), \"w\") as f:\n",
        "        f.write(text())"
      ]
    },
    {
      "cell_type": "code",
      "execution_count": 40,
      "metadata": {
        "cell_id": "00030-a5da7b68-98d0-4e0d-a5dc-a0bd8e821ff5",
        "colab": {
          "base_uri": "https://localhost:8080/"
        },
        "execution_millis": 1,
        "execution_start": 1604475141355,
        "id": "ZMO08xTAnZVt",
        "outputId": "c56d4ee0-5925-4049-eee2-b963abf37f3a",
        "output_cleared": false,
        "source_hash": "8bf0ba7a"
      },
      "outputs": [
        {
          "data": {
            "text/plain": [
              "['sample00.txt',\n",
              " 'sample01.txt',\n",
              " 'sample02.txt',\n",
              " 'sample03.txt',\n",
              " 'sample04.txt',\n",
              " 'sample05.txt',\n",
              " 'sample06.txt',\n",
              " 'sample07.txt']"
            ]
          },
          "execution_count": 40,
          "metadata": {},
          "output_type": "execute_result"
        }
      ],
      "source": [
        "import glob\n",
        "files = sorted(glob.glob('sample0*.txt'))\n",
        "files"
      ]
    },
    {
      "cell_type": "markdown",
      "metadata": {
        "cell_id": "00031-846589d9-1c68-491d-84cf-6437d569e71f",
        "id": "xvHEK9T4nZVt",
        "output_cleared": false
      },
      "source": [
        "### Завдання 13\n",
        "- Цього разу використовуйте функцію `map`, щоб застосувати mapper і reducer."
      ]
    },
    {
      "cell_type": "code",
      "execution_count": 41,
      "metadata": {
        "colab": {
          "base_uri": "https://localhost:8080/"
        },
        "id": "FWyvRdC4X8AL",
        "outputId": "8d2d41c3-e6e0-455d-e785-0f9d70054b68"
      },
      "outputs": [
        {
          "name": "stdout",
          "output_type": "stream",
          "text": [
            "[[('Adipisci', 2), ('Amet', 2), ('Consectetur', 1), ('Dolor', 1), ('Dolore', 1), ('Eius', 2), ('Est', 1), ('Magnam', 1), ('Modi', 2), ('Neque', 2), ('Porro', 1), ('Quaerat', 2), ('Quiquia', 2), ('Sed', 2), ('Ut', 1), ('Velit', 1), ('Voluptatem', 1), ('adipisci', 3), ('aliquam', 1), ('amet', 4), ('consectetur', 3), ('dolor', 3), ('dolore', 5), ('dolorem', 7), ('eius', 4), ('est', 4), ('etincidunt', 4), ('ipsum', 4), ('labore', 5), ('magnam', 3), ('modi', 7), ('neque', 6), ('non', 8), ('numquam', 6), ('porro', 4), ('quaerat', 9), ('quiquia', 3), ('quisquam', 6), ('sed', 4), ('sit', 4), ('tempora', 2), ('ut', 5), ('velit', 9), ('voluptatem', 2)], [('Adipisci', 1), ('Aliquam', 1), ('Amet', 1), ('Consectetur', 1), ('Dolor', 1), ('Dolore', 2), ('Dolorem', 1), ('Eius', 3), ('Est', 1), ('Etincidunt', 3), ('Labore', 2), ('Magnam', 2), ('Modi', 1), ('Neque', 4), ('Non', 2), ('Numquam', 6), ('Porro', 1), ('Quaerat', 1), ('Quiquia', 2), ('Quisquam', 1), ('Sed', 3), ('Sit', 2), ('Tempora', 2), ('Ut', 1), ('Velit', 2), ('Voluptatem', 1), ('adipisci', 7), ('aliquam', 10), ('amet', 10), ('consectetur', 7), ('dolor', 4), ('dolore', 8), ('dolorem', 7), ('eius', 15), ('est', 7), ('etincidunt', 14), ('ipsum', 11), ('labore', 8), ('magnam', 10), ('modi', 6), ('neque', 12), ('non', 11), ('numquam', 4), ('porro', 10), ('quaerat', 10), ('quiquia', 8), ('quisquam', 6), ('sed', 6), ('sit', 7), ('tempora', 9), ('ut', 10), ('velit', 12), ('voluptatem', 12)], [('Aliquam', 3), ('Amet', 1), ('Consectetur', 3), ('Dolore', 2), ('Est', 1), ('Etincidunt', 1), ('Ipsum', 1), ('Magnam', 1), ('Modi', 3), ('Neque', 2), ('Non', 1), ('Numquam', 1), ('Porro', 1), ('Quiquia', 1), ('Quisquam', 1), ('Sed', 2), ('Sit', 1), ('Tempora', 1), ('Velit', 1), ('Voluptatem', 1), ('adipisci', 3), ('aliquam', 6), ('amet', 7), ('consectetur', 4), ('dolor', 8), ('dolore', 4), ('dolorem', 1), ('eius', 6), ('est', 5), ('etincidunt', 6), ('ipsum', 9), ('labore', 10), ('magnam', 4), ('modi', 4), ('neque', 4), ('non', 6), ('numquam', 6), ('porro', 5), ('quaerat', 2), ('quiquia', 8), ('quisquam', 3), ('sed', 6), ('sit', 4), ('tempora', 5), ('ut', 7), ('velit', 2), ('voluptatem', 4)], [('Adipisci', 3), ('Aliquam', 1), ('Consectetur', 1), ('Dolor', 2), ('Dolorem', 1), ('Eius', 1), ('Est', 4), ('Etincidunt', 1), ('Ipsum', 2), ('Magnam', 2), ('Modi', 2), ('Neque', 2), ('Numquam', 1), ('Porro', 3), ('Quiquia', 1), ('Quisquam', 2), ('Sed', 2), ('Sit', 2), ('Tempora', 1), ('Ut', 2), ('Velit', 4), ('Voluptatem', 2), ('adipisci', 4), ('aliquam', 3), ('amet', 10), ('consectetur', 9), ('dolor', 9), ('dolore', 12), ('dolorem', 10), ('eius', 8), ('est', 7), ('etincidunt', 8), ('ipsum', 11), ('labore', 6), ('magnam', 6), ('modi', 7), ('neque', 9), ('non', 8), ('numquam', 6), ('porro', 9), ('quaerat', 8), ('quiquia', 5), ('quisquam', 12), ('sed', 11), ('sit', 4), ('tempora', 10), ('ut', 9), ('velit', 9), ('voluptatem', 7)], [('Adipisci', 1), ('Aliquam', 3), ('Amet', 2), ('Consectetur', 3), ('Dolor', 1), ('Dolore', 2), ('Est', 1), ('Etincidunt', 1), ('Ipsum', 2), ('Labore', 1), ('Magnam', 1), ('Modi', 2), ('Neque', 3), ('Non', 3), ('Numquam', 2), ('Quiquia', 1), ('Quisquam', 3), ('Sed', 3), ('Sit', 2), ('Tempora', 3), ('Ut', 2), ('Voluptatem', 2), ('adipisci', 13), ('aliquam', 5), ('amet', 3), ('consectetur', 13), ('dolor', 8), ('dolore', 12), ('dolorem', 7), ('eius', 12), ('est', 9), ('etincidunt', 9), ('ipsum', 4), ('labore', 11), ('magnam', 11), ('modi', 9), ('neque', 8), ('non', 13), ('numquam', 6), ('porro', 7), ('quaerat', 5), ('quiquia', 9), ('quisquam', 11), ('sed', 7), ('sit', 6), ('tempora', 8), ('ut', 9), ('velit', 6), ('voluptatem', 8)], [('Adipisci', 2), ('Amet', 1), ('Consectetur', 2), ('Dolore', 1), ('Dolorem', 2), ('Eius', 2), ('Est', 3), ('Etincidunt', 2), ('Ipsum', 2), ('Neque', 2), ('Non', 1), ('Quaerat', 2), ('Sed', 1), ('Sit', 3), ('Ut', 1), ('Velit', 1), ('adipisci', 4), ('aliquam', 3), ('amet', 9), ('consectetur', 7), ('dolor', 6), ('dolore', 3), ('dolorem', 3), ('eius', 7), ('est', 8), ('etincidunt', 7), ('ipsum', 2), ('labore', 5), ('magnam', 1), ('modi', 6), ('neque', 3), ('non', 5), ('numquam', 7), ('porro', 2), ('quaerat', 6), ('quiquia', 8), ('quisquam', 10), ('sed', 3), ('sit', 7), ('tempora', 4), ('ut', 4), ('velit', 7), ('voluptatem', 10)], [('Adipisci', 2), ('Aliquam', 3), ('Amet', 2), ('Consectetur', 4), ('Dolore', 3), ('Dolorem', 1), ('Eius', 1), ('Est', 1), ('Etincidunt', 3), ('Ipsum', 3), ('Labore', 2), ('Magnam', 1), ('Modi', 3), ('Neque', 1), ('Non', 1), ('Numquam', 2), ('Quaerat', 1), ('Quiquia', 1), ('Quisquam', 3), ('Sed', 3), ('Sit', 3), ('Tempora', 2), ('Ut', 1), ('Velit', 2), ('Voluptatem', 3), ('adipisci', 9), ('aliquam', 11), ('amet', 9), ('consectetur', 12), ('dolor', 14), ('dolore', 9), ('dolorem', 11), ('eius', 13), ('est', 11), ('etincidunt', 13), ('ipsum', 8), ('labore', 15), ('magnam', 10), ('modi', 17), ('neque', 5), ('non', 11), ('numquam', 10), ('porro', 8), ('quaerat', 11), ('quiquia', 7), ('quisquam', 14), ('sed', 7), ('sit', 11), ('tempora', 5), ('ut', 7), ('velit', 10), ('voluptatem', 11)], [('Adipisci', 2), ('Amet', 2), ('Consectetur', 2), ('Dolor', 1), ('Dolore', 1), ('Dolorem', 2), ('Eius', 1), ('Est', 1), ('Ipsum', 1), ('Labore', 3), ('Modi', 2), ('Non', 1), ('Quiquia', 1), ('Quisquam', 1), ('Velit', 1), ('Voluptatem', 1), ('adipisci', 5), ('aliquam', 7), ('amet', 2), ('consectetur', 3), ('dolor', 6), ('dolore', 8), ('dolorem', 4), ('eius', 3), ('est', 3), ('etincidunt', 6), ('ipsum', 4), ('labore', 4), ('magnam', 3), ('modi', 4), ('neque', 6), ('non', 8), ('numquam', 8), ('porro', 3), ('quaerat', 1), ('quiquia', 5), ('quisquam', 4), ('sed', 7), ('sit', 5), ('tempora', 7), ('ut', 3), ('velit', 6), ('voluptatem', 3)]] \n",
            "\n"
          ]
        }
      ],
      "source": [
        "res = list(map(mapper, files))\n",
        "print(res,'\\n')"
      ]
    },
    {
      "cell_type": "code",
      "execution_count": 42,
      "metadata": {
        "colab": {
          "base_uri": "https://localhost:8080/"
        },
        "id": "oTiNTfMwes8U",
        "outputId": "e31c8778-a414-4dc7-ca2d-bbbbdc47300e"
      },
      "outputs": [
        {
          "name": "stdout",
          "output_type": "stream",
          "text": [
            "[[('Adipisci', [1, 1]), ('Amet', [1, 1]), ('Consectetur', [1]), ('Dolor', [1]), ('Dolore', [1]), ('Eius', [1, 1]), ('Est', [1]), ('Magnam', [1]), ('Modi', [1, 1]), ('Neque', [1, 1]), ('Porro', [1]), ('Quaerat', [1, 1]), ('Quiquia', [1, 1]), ('Sed', [1, 1]), ('Ut', [1]), ('Velit', [1]), ('Voluptatem', [1]), ('adipisci', [1, 1, 1]), ('aliquam', [1]), ('amet', [1, 1, 1, 1]), ('consectetur', [1, 1, 1]), ('dolor', [1, 1, 1]), ('dolore', [1, 1, 1, 1, 1]), ('dolorem', [1, 1, 1, 1, 1, 1, 1]), ('eius', [1, 1, 1, 1]), ('est', [1, 1, 1, 1]), ('etincidunt', [1, 1, 1, 1]), ('ipsum', [1, 1, 1, 1]), ('labore', [1, 1, 1, 1, 1]), ('magnam', [1, 1, 1]), ('modi', [1, 1, 1, 1, 1, 1, 1]), ('neque', [1, 1, 1, 1, 1, 1]), ('non', [1, 1, 1, 1, 1, 1, 1, 1]), ('numquam', [1, 1, 1, 1, 1, 1]), ('porro', [1, 1, 1, 1]), ('quaerat', [1, 1, 1, 1, 1, 1, 1, 1, 1]), ('quiquia', [1, 1, 1]), ('quisquam', [1, 1, 1, 1, 1, 1]), ('sed', [1, 1, 1, 1]), ('sit', [1, 1, 1, 1]), ('tempora', [1, 1]), ('ut', [1, 1, 1, 1, 1]), ('velit', [1, 1, 1, 1, 1, 1, 1, 1, 1]), ('voluptatem', [1, 1])], [('Adipisci', [1]), ('Aliquam', [1]), ('Amet', [1]), ('Consectetur', [1]), ('Dolor', [1]), ('Dolore', [1, 1]), ('Dolorem', [1]), ('Eius', [1, 1, 1]), ('Est', [1]), ('Etincidunt', [1, 1, 1]), ('Labore', [1, 1]), ('Magnam', [1, 1]), ('Modi', [1]), ('Neque', [1, 1, 1, 1]), ('Non', [1, 1]), ('Numquam', [1, 1, 1, 1, 1, 1]), ('Porro', [1]), ('Quaerat', [1]), ('Quiquia', [1, 1]), ('Quisquam', [1]), ('Sed', [1, 1, 1]), ('Sit', [1, 1]), ('Tempora', [1, 1]), ('Ut', [1]), ('Velit', [1, 1]), ('Voluptatem', [1]), ('adipisci', [1, 1, 1, 1, 1, 1, 1]), ('aliquam', [1, 1, 1, 1, 1, 1, 1, 1, 1, 1]), ('amet', [1, 1, 1, 1, 1, 1, 1, 1, 1, 1]), ('consectetur', [1, 1, 1, 1, 1, 1, 1]), ('dolor', [1, 1, 1, 1]), ('dolore', [1, 1, 1, 1, 1, 1, 1, 1]), ('dolorem', [1, 1, 1, 1, 1, 1, 1]), ('eius', [1, 1, 1, 1, 1, 1, 1, 1, 1, 1, 1, 1, 1, 1, 1]), ('est', [1, 1, 1, 1, 1, 1, 1]), ('etincidunt', [1, 1, 1, 1, 1, 1, 1, 1, 1, 1, 1, 1, 1, 1]), ('ipsum', [1, 1, 1, 1, 1, 1, 1, 1, 1, 1, 1]), ('labore', [1, 1, 1, 1, 1, 1, 1, 1]), ('magnam', [1, 1, 1, 1, 1, 1, 1, 1, 1, 1]), ('modi', [1, 1, 1, 1, 1, 1]), ('neque', [1, 1, 1, 1, 1, 1, 1, 1, 1, 1, 1, 1]), ('non', [1, 1, 1, 1, 1, 1, 1, 1, 1, 1, 1]), ('numquam', [1, 1, 1, 1]), ('porro', [1, 1, 1, 1, 1, 1, 1, 1, 1, 1]), ('quaerat', [1, 1, 1, 1, 1, 1, 1, 1, 1, 1]), ('quiquia', [1, 1, 1, 1, 1, 1, 1, 1]), ('quisquam', [1, 1, 1, 1, 1, 1]), ('sed', [1, 1, 1, 1, 1, 1]), ('sit', [1, 1, 1, 1, 1, 1, 1]), ('tempora', [1, 1, 1, 1, 1, 1, 1, 1, 1]), ('ut', [1, 1, 1, 1, 1, 1, 1, 1, 1, 1]), ('velit', [1, 1, 1, 1, 1, 1, 1, 1, 1, 1, 1, 1]), ('voluptatem', [1, 1, 1, 1, 1, 1, 1, 1, 1, 1, 1, 1])], [('Aliquam', [1, 1, 1]), ('Amet', [1]), ('Consectetur', [1, 1, 1]), ('Dolore', [1, 1]), ('Est', [1]), ('Etincidunt', [1]), ('Ipsum', [1]), ('Magnam', [1]), ('Modi', [1, 1, 1]), ('Neque', [1, 1]), ('Non', [1]), ('Numquam', [1]), ('Porro', [1]), ('Quiquia', [1]), ('Quisquam', [1]), ('Sed', [1, 1]), ('Sit', [1]), ('Tempora', [1]), ('Velit', [1]), ('Voluptatem', [1]), ('adipisci', [1, 1, 1]), ('aliquam', [1, 1, 1, 1, 1, 1]), ('amet', [1, 1, 1, 1, 1, 1, 1]), ('consectetur', [1, 1, 1, 1]), ('dolor', [1, 1, 1, 1, 1, 1, 1, 1]), ('dolore', [1, 1, 1, 1]), ('dolorem', [1]), ('eius', [1, 1, 1, 1, 1, 1]), ('est', [1, 1, 1, 1, 1]), ('etincidunt', [1, 1, 1, 1, 1, 1]), ('ipsum', [1, 1, 1, 1, 1, 1, 1, 1, 1]), ('labore', [1, 1, 1, 1, 1, 1, 1, 1, 1, 1]), ('magnam', [1, 1, 1, 1]), ('modi', [1, 1, 1, 1]), ('neque', [1, 1, 1, 1]), ('non', [1, 1, 1, 1, 1, 1]), ('numquam', [1, 1, 1, 1, 1, 1]), ('porro', [1, 1, 1, 1, 1]), ('quaerat', [1, 1]), ('quiquia', [1, 1, 1, 1, 1, 1, 1, 1]), ('quisquam', [1, 1, 1]), ('sed', [1, 1, 1, 1, 1, 1]), ('sit', [1, 1, 1, 1]), ('tempora', [1, 1, 1, 1, 1]), ('ut', [1, 1, 1, 1, 1, 1, 1]), ('velit', [1, 1]), ('voluptatem', [1, 1, 1, 1])], [('Adipisci', [1, 1, 1]), ('Aliquam', [1]), ('Consectetur', [1]), ('Dolor', [1, 1]), ('Dolorem', [1]), ('Eius', [1]), ('Est', [1, 1, 1, 1]), ('Etincidunt', [1]), ('Ipsum', [1, 1]), ('Magnam', [1, 1]), ('Modi', [1, 1]), ('Neque', [1, 1]), ('Numquam', [1]), ('Porro', [1, 1, 1]), ('Quiquia', [1]), ('Quisquam', [1, 1]), ('Sed', [1, 1]), ('Sit', [1, 1]), ('Tempora', [1]), ('Ut', [1, 1]), ('Velit', [1, 1, 1, 1]), ('Voluptatem', [1, 1]), ('adipisci', [1, 1, 1, 1]), ('aliquam', [1, 1, 1]), ('amet', [1, 1, 1, 1, 1, 1, 1, 1, 1, 1]), ('consectetur', [1, 1, 1, 1, 1, 1, 1, 1, 1]), ('dolor', [1, 1, 1, 1, 1, 1, 1, 1, 1]), ('dolore', [1, 1, 1, 1, 1, 1, 1, 1, 1, 1, 1, 1]), ('dolorem', [1, 1, 1, 1, 1, 1, 1, 1, 1, 1]), ('eius', [1, 1, 1, 1, 1, 1, 1, 1]), ('est', [1, 1, 1, 1, 1, 1, 1]), ('etincidunt', [1, 1, 1, 1, 1, 1, 1, 1]), ('ipsum', [1, 1, 1, 1, 1, 1, 1, 1, 1, 1, 1]), ('labore', [1, 1, 1, 1, 1, 1]), ('magnam', [1, 1, 1, 1, 1, 1]), ('modi', [1, 1, 1, 1, 1, 1, 1]), ('neque', [1, 1, 1, 1, 1, 1, 1, 1, 1]), ('non', [1, 1, 1, 1, 1, 1, 1, 1]), ('numquam', [1, 1, 1, 1, 1, 1]), ('porro', [1, 1, 1, 1, 1, 1, 1, 1, 1]), ('quaerat', [1, 1, 1, 1, 1, 1, 1, 1]), ('quiquia', [1, 1, 1, 1, 1]), ('quisquam', [1, 1, 1, 1, 1, 1, 1, 1, 1, 1, 1, 1]), ('sed', [1, 1, 1, 1, 1, 1, 1, 1, 1, 1, 1]), ('sit', [1, 1, 1, 1]), ('tempora', [1, 1, 1, 1, 1, 1, 1, 1, 1, 1]), ('ut', [1, 1, 1, 1, 1, 1, 1, 1, 1]), ('velit', [1, 1, 1, 1, 1, 1, 1, 1, 1]), ('voluptatem', [1, 1, 1, 1, 1, 1, 1])], [('Adipisci', [1]), ('Aliquam', [1, 1, 1]), ('Amet', [1, 1]), ('Consectetur', [1, 1, 1]), ('Dolor', [1]), ('Dolore', [1, 1]), ('Est', [1]), ('Etincidunt', [1]), ('Ipsum', [1, 1]), ('Labore', [1]), ('Magnam', [1]), ('Modi', [1, 1]), ('Neque', [1, 1, 1]), ('Non', [1, 1, 1]), ('Numquam', [1, 1]), ('Quiquia', [1]), ('Quisquam', [1, 1, 1]), ('Sed', [1, 1, 1]), ('Sit', [1, 1]), ('Tempora', [1, 1, 1]), ('Ut', [1, 1]), ('Voluptatem', [1, 1]), ('adipisci', [1, 1, 1, 1, 1, 1, 1, 1, 1, 1, 1, 1, 1]), ('aliquam', [1, 1, 1, 1, 1]), ('amet', [1, 1, 1]), ('consectetur', [1, 1, 1, 1, 1, 1, 1, 1, 1, 1, 1, 1, 1]), ('dolor', [1, 1, 1, 1, 1, 1, 1, 1]), ('dolore', [1, 1, 1, 1, 1, 1, 1, 1, 1, 1, 1, 1]), ('dolorem', [1, 1, 1, 1, 1, 1, 1]), ('eius', [1, 1, 1, 1, 1, 1, 1, 1, 1, 1, 1, 1]), ('est', [1, 1, 1, 1, 1, 1, 1, 1, 1]), ('etincidunt', [1, 1, 1, 1, 1, 1, 1, 1, 1]), ('ipsum', [1, 1, 1, 1]), ('labore', [1, 1, 1, 1, 1, 1, 1, 1, 1, 1, 1]), ('magnam', [1, 1, 1, 1, 1, 1, 1, 1, 1, 1, 1]), ('modi', [1, 1, 1, 1, 1, 1, 1, 1, 1]), ('neque', [1, 1, 1, 1, 1, 1, 1, 1]), ('non', [1, 1, 1, 1, 1, 1, 1, 1, 1, 1, 1, 1, 1]), ('numquam', [1, 1, 1, 1, 1, 1]), ('porro', [1, 1, 1, 1, 1, 1, 1]), ('quaerat', [1, 1, 1, 1, 1]), ('quiquia', [1, 1, 1, 1, 1, 1, 1, 1, 1]), ('quisquam', [1, 1, 1, 1, 1, 1, 1, 1, 1, 1, 1]), ('sed', [1, 1, 1, 1, 1, 1, 1]), ('sit', [1, 1, 1, 1, 1, 1]), ('tempora', [1, 1, 1, 1, 1, 1, 1, 1]), ('ut', [1, 1, 1, 1, 1, 1, 1, 1, 1]), ('velit', [1, 1, 1, 1, 1, 1]), ('voluptatem', [1, 1, 1, 1, 1, 1, 1, 1])], [('Adipisci', [1, 1]), ('Amet', [1]), ('Consectetur', [1, 1]), ('Dolore', [1]), ('Dolorem', [1, 1]), ('Eius', [1, 1]), ('Est', [1, 1, 1]), ('Etincidunt', [1, 1]), ('Ipsum', [1, 1]), ('Neque', [1, 1]), ('Non', [1]), ('Quaerat', [1, 1]), ('Sed', [1]), ('Sit', [1, 1, 1]), ('Ut', [1]), ('Velit', [1]), ('adipisci', [1, 1, 1, 1]), ('aliquam', [1, 1, 1]), ('amet', [1, 1, 1, 1, 1, 1, 1, 1, 1]), ('consectetur', [1, 1, 1, 1, 1, 1, 1]), ('dolor', [1, 1, 1, 1, 1, 1]), ('dolore', [1, 1, 1]), ('dolorem', [1, 1, 1]), ('eius', [1, 1, 1, 1, 1, 1, 1]), ('est', [1, 1, 1, 1, 1, 1, 1, 1]), ('etincidunt', [1, 1, 1, 1, 1, 1, 1]), ('ipsum', [1, 1]), ('labore', [1, 1, 1, 1, 1]), ('magnam', [1]), ('modi', [1, 1, 1, 1, 1, 1]), ('neque', [1, 1, 1]), ('non', [1, 1, 1, 1, 1]), ('numquam', [1, 1, 1, 1, 1, 1, 1]), ('porro', [1, 1]), ('quaerat', [1, 1, 1, 1, 1, 1]), ('quiquia', [1, 1, 1, 1, 1, 1, 1, 1]), ('quisquam', [1, 1, 1, 1, 1, 1, 1, 1, 1, 1]), ('sed', [1, 1, 1]), ('sit', [1, 1, 1, 1, 1, 1, 1]), ('tempora', [1, 1, 1, 1]), ('ut', [1, 1, 1, 1]), ('velit', [1, 1, 1, 1, 1, 1, 1]), ('voluptatem', [1, 1, 1, 1, 1, 1, 1, 1, 1, 1])], [('Adipisci', [1, 1]), ('Aliquam', [1, 1, 1]), ('Amet', [1, 1]), ('Consectetur', [1, 1, 1, 1]), ('Dolore', [1, 1, 1]), ('Dolorem', [1]), ('Eius', [1]), ('Est', [1]), ('Etincidunt', [1, 1, 1]), ('Ipsum', [1, 1, 1]), ('Labore', [1, 1]), ('Magnam', [1]), ('Modi', [1, 1, 1]), ('Neque', [1]), ('Non', [1]), ('Numquam', [1, 1]), ('Quaerat', [1]), ('Quiquia', [1]), ('Quisquam', [1, 1, 1]), ('Sed', [1, 1, 1]), ('Sit', [1, 1, 1]), ('Tempora', [1, 1]), ('Ut', [1]), ('Velit', [1, 1]), ('Voluptatem', [1, 1, 1]), ('adipisci', [1, 1, 1, 1, 1, 1, 1, 1, 1]), ('aliquam', [1, 1, 1, 1, 1, 1, 1, 1, 1, 1, 1]), ('amet', [1, 1, 1, 1, 1, 1, 1, 1, 1]), ('consectetur', [1, 1, 1, 1, 1, 1, 1, 1, 1, 1, 1, 1]), ('dolor', [1, 1, 1, 1, 1, 1, 1, 1, 1, 1, 1, 1, 1, 1]), ('dolore', [1, 1, 1, 1, 1, 1, 1, 1, 1]), ('dolorem', [1, 1, 1, 1, 1, 1, 1, 1, 1, 1, 1]), ('eius', [1, 1, 1, 1, 1, 1, 1, 1, 1, 1, 1, 1, 1]), ('est', [1, 1, 1, 1, 1, 1, 1, 1, 1, 1, 1]), ('etincidunt', [1, 1, 1, 1, 1, 1, 1, 1, 1, 1, 1, 1, 1]), ('ipsum', [1, 1, 1, 1, 1, 1, 1, 1]), ('labore', [1, 1, 1, 1, 1, 1, 1, 1, 1, 1, 1, 1, 1, 1, 1]), ('magnam', [1, 1, 1, 1, 1, 1, 1, 1, 1, 1]), ('modi', [1, 1, 1, 1, 1, 1, 1, 1, 1, 1, 1, 1, 1, 1, 1, 1, 1]), ('neque', [1, 1, 1, 1, 1]), ('non', [1, 1, 1, 1, 1, 1, 1, 1, 1, 1, 1]), ('numquam', [1, 1, 1, 1, 1, 1, 1, 1, 1, 1]), ('porro', [1, 1, 1, 1, 1, 1, 1, 1]), ('quaerat', [1, 1, 1, 1, 1, 1, 1, 1, 1, 1, 1]), ('quiquia', [1, 1, 1, 1, 1, 1, 1]), ('quisquam', [1, 1, 1, 1, 1, 1, 1, 1, 1, 1, 1, 1, 1, 1]), ('sed', [1, 1, 1, 1, 1, 1, 1]), ('sit', [1, 1, 1, 1, 1, 1, 1, 1, 1, 1, 1]), ('tempora', [1, 1, 1, 1, 1]), ('ut', [1, 1, 1, 1, 1, 1, 1]), ('velit', [1, 1, 1, 1, 1, 1, 1, 1, 1, 1]), ('voluptatem', [1, 1, 1, 1, 1, 1, 1, 1, 1, 1, 1])], [('Adipisci', [1, 1]), ('Amet', [1, 1]), ('Consectetur', [1, 1]), ('Dolor', [1]), ('Dolore', [1]), ('Dolorem', [1, 1]), ('Eius', [1]), ('Est', [1]), ('Ipsum', [1]), ('Labore', [1, 1, 1]), ('Modi', [1, 1]), ('Non', [1]), ('Quiquia', [1]), ('Quisquam', [1]), ('Velit', [1]), ('Voluptatem', [1]), ('adipisci', [1, 1, 1, 1, 1]), ('aliquam', [1, 1, 1, 1, 1, 1, 1]), ('amet', [1, 1]), ('consectetur', [1, 1, 1]), ('dolor', [1, 1, 1, 1, 1, 1]), ('dolore', [1, 1, 1, 1, 1, 1, 1, 1]), ('dolorem', [1, 1, 1, 1]), ('eius', [1, 1, 1]), ('est', [1, 1, 1]), ('etincidunt', [1, 1, 1, 1, 1, 1]), ('ipsum', [1, 1, 1, 1]), ('labore', [1, 1, 1, 1]), ('magnam', [1, 1, 1]), ('modi', [1, 1, 1, 1]), ('neque', [1, 1, 1, 1, 1, 1]), ('non', [1, 1, 1, 1, 1, 1, 1, 1]), ('numquam', [1, 1, 1, 1, 1, 1, 1, 1]), ('porro', [1, 1, 1]), ('quaerat', [1]), ('quiquia', [1, 1, 1, 1, 1]), ('quisquam', [1, 1, 1, 1]), ('sed', [1, 1, 1, 1, 1, 1, 1]), ('sit', [1, 1, 1, 1, 1]), ('tempora', [1, 1, 1, 1, 1, 1, 1]), ('ut', [1, 1, 1]), ('velit', [1, 1, 1, 1, 1, 1]), ('voluptatem', [1, 1, 1])]]\n"
          ]
        }
      ],
      "source": [
        "res2 = list(map(partitioner, res))\n",
        "print(res2)"
      ]
    },
    {
      "cell_type": "code",
      "execution_count": 43,
      "metadata": {
        "colab": {
          "base_uri": "https://localhost:8080/"
        },
        "id": "71qWmne7dwnX",
        "outputId": "838854c3-40df-4d91-a031-b077383b795c"
      },
      "outputs": [
        {
          "name": "stdout",
          "output_type": "stream",
          "text": [
            "[('Adipisci', 2), ('Amet', 2), ('Consectetur', 1), ('Dolor', 1), ('Dolore', 1), ('Eius', 2), ('Est', 1), ('Magnam', 1), ('Modi', 2), ('Neque', 2), ('Porro', 1), ('Quaerat', 2), ('Quiquia', 2), ('Sed', 2), ('Ut', 1), ('Velit', 1), ('Voluptatem', 1), ('adipisci', 3), ('aliquam', 1), ('amet', 4), ('consectetur', 3), ('dolor', 3), ('dolore', 5), ('dolorem', 7), ('eius', 4), ('est', 4), ('etincidunt', 4), ('ipsum', 4), ('labore', 5), ('magnam', 3), ('modi', 7), ('neque', 6), ('non', 8), ('numquam', 6), ('porro', 4), ('quaerat', 9), ('quiquia', 3), ('quisquam', 6), ('sed', 4), ('sit', 4), ('tempora', 2), ('ut', 5), ('velit', 9), ('voluptatem', 2)]\n",
            "[('Adipisci', 1), ('Aliquam', 1), ('Amet', 1), ('Consectetur', 1), ('Dolor', 1), ('Dolore', 2), ('Dolorem', 1), ('Eius', 3), ('Est', 1), ('Etincidunt', 3), ('Labore', 2), ('Magnam', 2), ('Modi', 1), ('Neque', 4), ('Non', 2), ('Numquam', 6), ('Porro', 1), ('Quaerat', 1), ('Quiquia', 2), ('Quisquam', 1), ('Sed', 3), ('Sit', 2), ('Tempora', 2), ('Ut', 1), ('Velit', 2), ('Voluptatem', 1), ('adipisci', 7), ('aliquam', 10), ('amet', 10), ('consectetur', 7), ('dolor', 4), ('dolore', 8), ('dolorem', 7), ('eius', 15), ('est', 7), ('etincidunt', 14), ('ipsum', 11), ('labore', 8), ('magnam', 10), ('modi', 6), ('neque', 12), ('non', 11), ('numquam', 4), ('porro', 10), ('quaerat', 10), ('quiquia', 8), ('quisquam', 6), ('sed', 6), ('sit', 7), ('tempora', 9), ('ut', 10), ('velit', 12), ('voluptatem', 12)]\n",
            "[('Aliquam', 3), ('Amet', 1), ('Consectetur', 3), ('Dolore', 2), ('Est', 1), ('Etincidunt', 1), ('Ipsum', 1), ('Magnam', 1), ('Modi', 3), ('Neque', 2), ('Non', 1), ('Numquam', 1), ('Porro', 1), ('Quiquia', 1), ('Quisquam', 1), ('Sed', 2), ('Sit', 1), ('Tempora', 1), ('Velit', 1), ('Voluptatem', 1), ('adipisci', 3), ('aliquam', 6), ('amet', 7), ('consectetur', 4), ('dolor', 8), ('dolore', 4), ('dolorem', 1), ('eius', 6), ('est', 5), ('etincidunt', 6), ('ipsum', 9), ('labore', 10), ('magnam', 4), ('modi', 4), ('neque', 4), ('non', 6), ('numquam', 6), ('porro', 5), ('quaerat', 2), ('quiquia', 8), ('quisquam', 3), ('sed', 6), ('sit', 4), ('tempora', 5), ('ut', 7), ('velit', 2), ('voluptatem', 4)]\n",
            "[('Adipisci', 3), ('Aliquam', 1), ('Consectetur', 1), ('Dolor', 2), ('Dolorem', 1), ('Eius', 1), ('Est', 4), ('Etincidunt', 1), ('Ipsum', 2), ('Magnam', 2), ('Modi', 2), ('Neque', 2), ('Numquam', 1), ('Porro', 3), ('Quiquia', 1), ('Quisquam', 2), ('Sed', 2), ('Sit', 2), ('Tempora', 1), ('Ut', 2), ('Velit', 4), ('Voluptatem', 2), ('adipisci', 4), ('aliquam', 3), ('amet', 10), ('consectetur', 9), ('dolor', 9), ('dolore', 12), ('dolorem', 10), ('eius', 8), ('est', 7), ('etincidunt', 8), ('ipsum', 11), ('labore', 6), ('magnam', 6), ('modi', 7), ('neque', 9), ('non', 8), ('numquam', 6), ('porro', 9), ('quaerat', 8), ('quiquia', 5), ('quisquam', 12), ('sed', 11), ('sit', 4), ('tempora', 10), ('ut', 9), ('velit', 9), ('voluptatem', 7)]\n",
            "[('Adipisci', 1), ('Aliquam', 3), ('Amet', 2), ('Consectetur', 3), ('Dolor', 1), ('Dolore', 2), ('Est', 1), ('Etincidunt', 1), ('Ipsum', 2), ('Labore', 1), ('Magnam', 1), ('Modi', 2), ('Neque', 3), ('Non', 3), ('Numquam', 2), ('Quiquia', 1), ('Quisquam', 3), ('Sed', 3), ('Sit', 2), ('Tempora', 3), ('Ut', 2), ('Voluptatem', 2), ('adipisci', 13), ('aliquam', 5), ('amet', 3), ('consectetur', 13), ('dolor', 8), ('dolore', 12), ('dolorem', 7), ('eius', 12), ('est', 9), ('etincidunt', 9), ('ipsum', 4), ('labore', 11), ('magnam', 11), ('modi', 9), ('neque', 8), ('non', 13), ('numquam', 6), ('porro', 7), ('quaerat', 5), ('quiquia', 9), ('quisquam', 11), ('sed', 7), ('sit', 6), ('tempora', 8), ('ut', 9), ('velit', 6), ('voluptatem', 8)]\n",
            "[('Adipisci', 2), ('Amet', 1), ('Consectetur', 2), ('Dolore', 1), ('Dolorem', 2), ('Eius', 2), ('Est', 3), ('Etincidunt', 2), ('Ipsum', 2), ('Neque', 2), ('Non', 1), ('Quaerat', 2), ('Sed', 1), ('Sit', 3), ('Ut', 1), ('Velit', 1), ('adipisci', 4), ('aliquam', 3), ('amet', 9), ('consectetur', 7), ('dolor', 6), ('dolore', 3), ('dolorem', 3), ('eius', 7), ('est', 8), ('etincidunt', 7), ('ipsum', 2), ('labore', 5), ('magnam', 1), ('modi', 6), ('neque', 3), ('non', 5), ('numquam', 7), ('porro', 2), ('quaerat', 6), ('quiquia', 8), ('quisquam', 10), ('sed', 3), ('sit', 7), ('tempora', 4), ('ut', 4), ('velit', 7), ('voluptatem', 10)]\n",
            "[('Adipisci', 2), ('Aliquam', 3), ('Amet', 2), ('Consectetur', 4), ('Dolore', 3), ('Dolorem', 1), ('Eius', 1), ('Est', 1), ('Etincidunt', 3), ('Ipsum', 3), ('Labore', 2), ('Magnam', 1), ('Modi', 3), ('Neque', 1), ('Non', 1), ('Numquam', 2), ('Quaerat', 1), ('Quiquia', 1), ('Quisquam', 3), ('Sed', 3), ('Sit', 3), ('Tempora', 2), ('Ut', 1), ('Velit', 2), ('Voluptatem', 3), ('adipisci', 9), ('aliquam', 11), ('amet', 9), ('consectetur', 12), ('dolor', 14), ('dolore', 9), ('dolorem', 11), ('eius', 13), ('est', 11), ('etincidunt', 13), ('ipsum', 8), ('labore', 15), ('magnam', 10), ('modi', 17), ('neque', 5), ('non', 11), ('numquam', 10), ('porro', 8), ('quaerat', 11), ('quiquia', 7), ('quisquam', 14), ('sed', 7), ('sit', 11), ('tempora', 5), ('ut', 7), ('velit', 10), ('voluptatem', 11)]\n",
            "[('Adipisci', 2), ('Amet', 2), ('Consectetur', 2), ('Dolor', 1), ('Dolore', 1), ('Dolorem', 2), ('Eius', 1), ('Est', 1), ('Ipsum', 1), ('Labore', 3), ('Modi', 2), ('Non', 1), ('Quiquia', 1), ('Quisquam', 1), ('Velit', 1), ('Voluptatem', 1), ('adipisci', 5), ('aliquam', 7), ('amet', 2), ('consectetur', 3), ('dolor', 6), ('dolore', 8), ('dolorem', 4), ('eius', 3), ('est', 3), ('etincidunt', 6), ('ipsum', 4), ('labore', 4), ('magnam', 3), ('modi', 4), ('neque', 6), ('non', 8), ('numquam', 8), ('porro', 3), ('quaerat', 1), ('quiquia', 5), ('quisquam', 4), ('sed', 7), ('sit', 5), ('tempora', 7), ('ut', 3), ('velit', 6), ('voluptatem', 3)]\n"
          ]
        }
      ],
      "source": [
        "for item_list in res2:\n",
        "  print(list(map(reducer, item_list)))"
      ]
    },
    {
      "cell_type": "markdown",
      "metadata": {
        "cell_id": "00032-24f070e4-4ef6-4d4e-88ac-14062d615832",
        "id": "NpTifM0tnZVu",
        "output_cleared": false
      },
      "source": [
        "### Завдання 14\n",
        "- Використайте реалізовані вище функції для підрахунку (слова, частоти зустріваності) за допомогою циклів for над файлами та розділеними даними."
      ]
    }
  ],
  "metadata": {
    "colab": {
      "collapsed_sections": [
        "BkFqPfdSnZVm",
        "eHPWHSKNnYx4"
      ],
      "provenance": []
    },
    "deepnote_execution_queue": [],
    "deepnote_notebook_id": "46324081-d535-42b5-844e-a6aaf89c3a71",
    "kernelspec": {
      "display_name": "Python 3",
      "language": "python",
      "name": "python3"
    },
    "language_info": {
      "codemirror_mode": {
        "name": "ipython",
        "version": 3
      },
      "file_extension": ".py",
      "mimetype": "text/x-python",
      "name": "python",
      "nbconvert_exporter": "python",
      "pygments_lexer": "ipython3",
      "version": "3.11.8"
    }
  },
  "nbformat": 4,
  "nbformat_minor": 0
}
